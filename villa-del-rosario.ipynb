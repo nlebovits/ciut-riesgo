{
 "cells": [
  {
   "cell_type": "code",
   "execution_count": 31,
   "id": "6e3a0936",
   "metadata": {},
   "outputs": [
    {
     "data": {
      "text/html": [
       "\n",
       "            <style>\n",
       "                .geemap-dark {\n",
       "                    --jp-widgets-color: white;\n",
       "                    --jp-widgets-label-color: white;\n",
       "                    --jp-ui-font-color1: white;\n",
       "                    --jp-layout-color2: #454545;\n",
       "                    background-color: #383838;\n",
       "                }\n",
       "\n",
       "                .geemap-dark .jupyter-button {\n",
       "                    --jp-layout-color3: #383838;\n",
       "                }\n",
       "\n",
       "                .geemap-colab {\n",
       "                    background-color: var(--colab-primary-surface-color, white);\n",
       "                }\n",
       "\n",
       "                .geemap-colab .jupyter-button {\n",
       "                    --jp-layout-color3: var(--colab-primary-surface-color, white);\n",
       "                }\n",
       "            </style>\n",
       "            "
      ],
      "text/plain": [
       "<IPython.core.display.HTML object>"
      ]
     },
     "metadata": {},
     "output_type": "display_data"
    }
   ],
   "source": [
    "import geemap\n",
    "import ee"
   ]
  },
  {
   "cell_type": "code",
   "execution_count": 32,
   "id": "23788252",
   "metadata": {},
   "outputs": [
    {
     "data": {
      "text/html": [
       "\n",
       "            <style>\n",
       "                .geemap-dark {\n",
       "                    --jp-widgets-color: white;\n",
       "                    --jp-widgets-label-color: white;\n",
       "                    --jp-ui-font-color1: white;\n",
       "                    --jp-layout-color2: #454545;\n",
       "                    background-color: #383838;\n",
       "                }\n",
       "\n",
       "                .geemap-dark .jupyter-button {\n",
       "                    --jp-layout-color3: #383838;\n",
       "                }\n",
       "\n",
       "                .geemap-colab {\n",
       "                    background-color: var(--colab-primary-surface-color, white);\n",
       "                }\n",
       "\n",
       "                .geemap-colab .jupyter-button {\n",
       "                    --jp-layout-color3: var(--colab-primary-surface-color, white);\n",
       "                }\n",
       "            </style>\n",
       "            "
      ],
      "text/plain": [
       "<IPython.core.display.HTML object>"
      ]
     },
     "metadata": {},
     "output_type": "display_data"
    },
    {
     "name": "stderr",
     "output_type": "stream",
     "text": [
      "*** Earth Engine *** Share your feedback by taking our Annual Developer Satisfaction Survey: https://google.qualtrics.com/jfe/form/SV_7TDKVSyKvBdmMqW?ref=4i2o6\n"
     ]
    }
   ],
   "source": [
    "ee.Initialize()"
   ]
  },
  {
   "cell_type": "code",
   "execution_count": 41,
   "id": "bf78f68a",
   "metadata": {},
   "outputs": [
    {
     "data": {
      "text/html": [
       "\n",
       "            <style>\n",
       "                .geemap-dark {\n",
       "                    --jp-widgets-color: white;\n",
       "                    --jp-widgets-label-color: white;\n",
       "                    --jp-ui-font-color1: white;\n",
       "                    --jp-layout-color2: #454545;\n",
       "                    background-color: #383838;\n",
       "                }\n",
       "\n",
       "                .geemap-dark .jupyter-button {\n",
       "                    --jp-layout-color3: #383838;\n",
       "                }\n",
       "\n",
       "                .geemap-colab {\n",
       "                    background-color: var(--colab-primary-surface-color, white);\n",
       "                }\n",
       "\n",
       "                .geemap-colab .jupyter-button {\n",
       "                    --jp-layout-color3: var(--colab-primary-surface-color, white);\n",
       "                }\n",
       "            </style>\n",
       "            "
      ],
      "text/plain": [
       "<IPython.core.display.HTML object>"
      ]
     },
     "metadata": {},
     "output_type": "display_data"
    },
    {
     "name": "stdout",
     "output_type": "stream",
     "text": [
      "Loading MODIS data (2000-2020)...\n",
      "Loading VIIRS data (2012-2021)...\n",
      "Combining all years...\n",
      "Filtering by area of interest...\n"
     ]
    }
   ],
   "source": [
    "# Create lists of all available years\n",
    "modis_years = list(range(2000, 2021))  # 2000-2020\n",
    "viirs_years = list(range(2012, 2022))  # 2012-2021\n",
    "\n",
    "# Function to create FeatureCollection for a specific year and dataset\n",
    "def create_fire_collection(dataset, year):\n",
    "    \"\"\"Create a FeatureCollection for a specific dataset and year\"\"\"\n",
    "    if dataset == 'modis':\n",
    "        path = f\"projects/sat-io/open-datasets/MODIS_MCD14DL/MCD14DL_{year}\"\n",
    "    elif dataset == 'viirs':\n",
    "        path = f\"projects/sat-io/open-datasets/VIIRS/VNP14IMGTDL_NRT_{year}\"\n",
    "    else:\n",
    "        raise ValueError(\"Dataset must be 'modis' or 'viirs'\")\n",
    "    \n",
    "    try:\n",
    "        return ee.FeatureCollection(path)\n",
    "    except Exception as e:\n",
    "        print(f\"Warning: Could not load {dataset} data for year {year}: {e}\")\n",
    "        return None\n",
    "\n",
    "# Load all MODIS data (2000-2020)\n",
    "print(\"Loading MODIS data (2000-2020)...\")\n",
    "modis_collections = []\n",
    "for year in modis_years:\n",
    "    collection = create_fire_collection('modis', year)\n",
    "    if collection is not None:\n",
    "        modis_collections.append(collection)\n",
    "\n",
    "# Load all VIIRS data (2012-2021)\n",
    "print(\"Loading VIIRS data (2012-2021)...\")\n",
    "viirs_collections = []\n",
    "for year in viirs_years:\n",
    "    collection = create_fire_collection('viirs', year)\n",
    "    if collection is not None:\n",
    "        viirs_collections.append(collection)\n",
    "\n",
    "# Combine all collections into single FeatureCollections\n",
    "print(\"Combining all years...\")\n",
    "all_modis = ee.FeatureCollection(modis_collections).flatten()\n",
    "all_viirs = ee.FeatureCollection(viirs_collections).flatten()\n",
    "\n",
    "# Filter by area of interest\n",
    "ee_aoi = geemap.geopandas_to_ee(aoi)\n",
    "\n",
    "print(\"Filtering by area of interest...\")\n",
    "all_modis_aoi = all_modis.filterBounds(ee_aoi)\n",
    "all_viirs_aoi = all_viirs.filterBounds(ee_aoi)"
   ]
  },
  {
   "cell_type": "code",
   "execution_count": 42,
   "id": "afb3dc3a",
   "metadata": {},
   "outputs": [
    {
     "data": {
      "text/html": [
       "\n",
       "            <style>\n",
       "                .geemap-dark {\n",
       "                    --jp-widgets-color: white;\n",
       "                    --jp-widgets-label-color: white;\n",
       "                    --jp-ui-font-color1: white;\n",
       "                    --jp-layout-color2: #454545;\n",
       "                    background-color: #383838;\n",
       "                }\n",
       "\n",
       "                .geemap-dark .jupyter-button {\n",
       "                    --jp-layout-color3: #383838;\n",
       "                }\n",
       "\n",
       "                .geemap-colab {\n",
       "                    background-color: var(--colab-primary-surface-color, white);\n",
       "                }\n",
       "\n",
       "                .geemap-colab .jupyter-button {\n",
       "                    --jp-layout-color3: var(--colab-primary-surface-color, white);\n",
       "                }\n",
       "            </style>\n",
       "            "
      ],
      "text/plain": [
       "<IPython.core.display.HTML object>"
      ]
     },
     "metadata": {},
     "output_type": "display_data"
    },
    {
     "data": {
      "application/vnd.jupyter.widget-view+json": {
       "model_id": "204441337a084f999701a31cca89c7b2",
       "version_major": 2,
       "version_minor": 0
      },
      "text/plain": [
       "Map(center=[0, 0], controls=(WidgetControl(options=['position', 'transparent_bg'], position='topright', transp…"
      ]
     },
     "execution_count": 42,
     "metadata": {},
     "output_type": "execute_result"
    }
   ],
   "source": [
    "# Get a color from a day or night\n",
    "class_color = ee.Dictionary({\n",
    "    'D': '0565A6',\n",
    "    'N': '229A00'\n",
    "})\n",
    "\n",
    "classes = ['D', 'N']\n",
    "\n",
    "def add_style(pt):\n",
    "    \"\"\"Add styling properties to each point based on brightness and day/night\"\"\"\n",
    "    size = ee.Number(pt.get('bright_ti4')).divide(100)\n",
    "    color = class_color.get(pt.get('daynight'))\n",
    "    return pt.set('styleProperty', ee.Dictionary({'pointSize': size, 'color': color}))\n",
    "\n",
    "# Style both MODIS and VIIRS data\n",
    "modis_styled = all_modis_aoi.map(add_style)\n",
    "viirs_styled = all_viirs_aoi.map(add_style)\n",
    "\n",
    "# Create day and night fire layers for MODIS\n",
    "modis_daytime = modis_styled.filter(ee.Filter.eq('daynight', 'D')).style(\n",
    "    styleProperty='styleProperty',\n",
    "    neighborhood=50\n",
    ")\n",
    "\n",
    "modis_nighttime = modis_styled.filter(ee.Filter.eq('daynight', 'N')).style(\n",
    "    styleProperty='styleProperty', \n",
    "    neighborhood=50\n",
    ")\n",
    "\n",
    "# Create day and night fire layers for VIIRS\n",
    "viirs_daytime = viirs_styled.filter(ee.Filter.eq('daynight', 'D')).style(\n",
    "    styleProperty='styleProperty',\n",
    "    neighborhood=50\n",
    ")\n",
    "\n",
    "viirs_nighttime = viirs_styled.filter(ee.Filter.eq('daynight', 'N')).style(\n",
    "    styleProperty='styleProperty', \n",
    "    neighborhood=50\n",
    ")\n",
    "\n",
    "# Create the map\n",
    "m = geemap.Map()\n",
    "\n",
    "# Add all fire layers\n",
    "m.addLayer(modis_daytime, {}, 'MODIS Daytime Fires', True, 0.65)\n",
    "m.addLayer(modis_nighttime, {}, 'MODIS Nighttime Fires', True, 0.65)\n",
    "m.addLayer(viirs_daytime, {}, 'VIIRS Daytime Fires', True, 0.65)\n",
    "m.addLayer(viirs_nighttime, {}, 'VIIRS Nighttime Fires', True, 0.65)\n",
    "\n",
    "m"
   ]
  },
  {
   "cell_type": "code",
   "execution_count": 43,
   "id": "868aa58b",
   "metadata": {},
   "outputs": [
    {
     "data": {
      "text/html": [
       "\n",
       "            <style>\n",
       "                .geemap-dark {\n",
       "                    --jp-widgets-color: white;\n",
       "                    --jp-widgets-label-color: white;\n",
       "                    --jp-ui-font-color1: white;\n",
       "                    --jp-layout-color2: #454545;\n",
       "                    background-color: #383838;\n",
       "                }\n",
       "\n",
       "                .geemap-dark .jupyter-button {\n",
       "                    --jp-layout-color3: #383838;\n",
       "                }\n",
       "\n",
       "                .geemap-colab {\n",
       "                    background-color: var(--colab-primary-surface-color, white);\n",
       "                }\n",
       "\n",
       "                .geemap-colab .jupyter-button {\n",
       "                    --jp-layout-color3: var(--colab-primary-surface-color, white);\n",
       "                }\n",
       "            </style>\n",
       "            "
      ],
      "text/plain": [
       "<IPython.core.display.HTML object>"
      ]
     },
     "metadata": {},
     "output_type": "display_data"
    },
    {
     "name": "stdout",
     "output_type": "stream",
     "text": [
      "Total MODIS fires in AOI: 486\n",
      "Total VIIRS fires in AOI: 561\n"
     ]
    }
   ],
   "source": [
    "print(f\"Total MODIS fires in AOI: {all_modis_aoi.size().getInfo()}\")\n",
    "print(f\"Total VIIRS fires in AOI: {all_viirs_aoi.size().getInfo()}\")"
   ]
  },
  {
   "cell_type": "code",
   "execution_count": 1,
   "id": "7e51ec41",
   "metadata": {},
   "outputs": [],
   "source": [
    "\n",
    "import geopandas as gpd\n",
    "import matplotlib.pyplot as plt\n",
    "import numpy as np\n",
    "import rasterstats\n",
    "from rasterio.features import rasterize\n",
    "from io import BytesIO\n",
    "from owslib.wfs import WebFeatureService\n",
    "\n",
    "import rioxarray\n",
    "import contextily as ctx\n",
    "from shapely.geometry import box\n",
    "import xarray as xr\n",
    "\n",
    "\n",
    "USE_CRS = \"EPSG:5347\"  # posgar para esperanza\n",
    "WEB_MERCATOR_CRS = \"EPSG:3857\"\n",
    "\n",
    "DEFAULT_FIGSIZE = (12, 10)\n",
    "MAP_PADDING = 500\n",
    "PLASMA_CMAP = plt.cm.plasma\n",
    "\n",
    "def setup_base_map(\n",
    "    figsize=None, bounds=None, boundary_gdf=None, padding_x=None, padding_y=None\n",
    "):\n",
    "    \"\"\"Create figure and set up basic map boundaries with padding.\"\"\"\n",
    "    if figsize is None:\n",
    "        figsize = DEFAULT_FIGSIZE\n",
    "    if padding_x is None:\n",
    "        padding_x = MAP_PADDING\n",
    "    if padding_y is None:\n",
    "        padding_y = MAP_PADDING\n",
    "\n",
    "    if bounds is None and boundary_gdf is not None:\n",
    "        bounds = boundary_gdf.total_bounds\n",
    "\n",
    "    # Convert bounds to Web Mercator for basemap compatibility\n",
    "    if bounds is not None:\n",
    "        # Create a temporary GeoDataFrame with the bounds to reproject\n",
    "        temp_bounds = gpd.GeoDataFrame(\n",
    "            geometry=[box(bounds[0], bounds[1], bounds[2], bounds[3])], crs=USE_CRS\n",
    "        )\n",
    "        bounds_3857 = temp_bounds.to_crs(WEB_MERCATOR_CRS).total_bounds\n",
    "    else:\n",
    "        bounds_3857 = bounds\n",
    "\n",
    "    fig, ax = plt.subplots(figsize=figsize)\n",
    "    ax.set_xlim(bounds_3857[0] - padding_x, bounds_3857[2] + padding_x)\n",
    "    ax.set_ylim(bounds_3857[1] - padding_y, bounds_3857[3] + padding_y)\n",
    "    return fig, ax\n",
    "\n",
    "\n",
    "def add_basemap(ax, zoom=13):\n",
    "    \"\"\"Add CartoDB basemap to the axes.\"\"\"\n",
    "\n",
    "    ctx.add_basemap(\n",
    "        ax,\n",
    "        source=ctx.providers.CartoDB.PositronNoLabels,\n",
    "        zorder=0,\n",
    "        zoom=zoom,\n",
    "    )\n",
    "\n",
    "    return ax\n",
    "\n",
    "\n",
    "def add_north_arrow(ax, x=0.95, y=0.05, arrow_length=0.04):\n",
    "    \"\"\"Add a north arrow to the map.\"\"\"\n",
    "    ax.annotate(\n",
    "        \"N\",\n",
    "        xy=(x, y),\n",
    "        xytext=(x, y - arrow_length),\n",
    "        arrowprops=dict(facecolor=\"black\", width=3, headwidth=10),\n",
    "        ha=\"center\",\n",
    "        va=\"center\",\n",
    "        fontsize=14,\n",
    "        xycoords=ax.transAxes,\n",
    "    )\n",
    "\n",
    "\n",
    "def add_boundary_outline(ax, boundary_gdf, crs=\"EPSG:3857\"):\n",
    "    \"\"\"Add the outline of a boundary geodataframe to a map.\"\"\"\n",
    "    boundary_3857 = boundary_gdf.to_crs(crs)\n",
    "    boundary_3857.plot(\n",
    "        ax=ax,\n",
    "        facecolor=\"none\",\n",
    "        edgecolor=\"black\",\n",
    "        linewidth=0.5,\n",
    "        linestyle=\"--\",\n",
    "        legend=False,\n",
    "        zorder=5,\n",
    "    )\n",
    "\n",
    "\n",
    "def create_consistent_map(title, boundary_gdf, bounds=None):\n",
    "    \"\"\"Create a map with consistent styling and basemap.\"\"\"\n",
    "    fig, ax = setup_base_map(bounds=bounds, boundary_gdf=boundary_gdf)\n",
    "\n",
    "    add_basemap(ax)\n",
    "\n",
    "    add_north_arrow(ax)\n",
    "\n",
    "    add_boundary_outline(ax, boundary_gdf)\n",
    "\n",
    "    ax.set_title(title, fontsize=16, fontweight=\"bold\", pad=20)\n",
    "\n",
    "    ax.set_axis_off()\n",
    "\n",
    "    return fig, ax\n",
    "\n",
    "\n",
    "def wfs_to_gdf(\n",
    "    wfs_url: str, layer_name: str, srs: str = \"EPSG:4326\"\n",
    ") -> gpd.GeoDataFrame:\n",
    "    \"\"\"\n",
    "    Descarga una capa WFS y la devuelve como GeoDataFrame.\n",
    "\n",
    "    Args:\n",
    "        wfs_url (str): URL del servicio WFS.\n",
    "        layer_name (str): Nombre de la capa (typename).\n",
    "        srs (str): Código EPSG del sistema de referencia de coordenadas.\n",
    "\n",
    "    Returns:\n",
    "        gpd.GeoDataFrame: Capa descargada como GeoDataFrame.\n",
    "    \"\"\"\n",
    "    wfs = WebFeatureService(url=wfs_url, version=\"2.0.0\")\n",
    "    response = wfs.getfeature(typename=layer_name, srsname=srs)\n",
    "    gdf = gpd.read_file(BytesIO(response.read()))\n",
    "    return gdf\n",
    "\n",
    "\n",
    "base_url = \"https://wms.ign.gob.ar/geoserver/ign/ows\"\n",
    "\n",
    "dptos = wfs_to_gdf(wfs_url=base_url, layer_name=\"ign:departamento\", srs=\"EPSG:4326\")\n",
    "\n",
    "aoi = dptos[dptos[\"nam\"] == \"Río Segundo\"]\n",
    "aoi = aoi.to_crs(USE_CRS)"
   ]
  },
  {
   "cell_type": "markdown",
   "id": "92942f7f",
   "metadata": {},
   "source": [
    "## Incendios"
   ]
  },
  {
   "cell_type": "code",
   "execution_count": 2,
   "id": "e28c767d",
   "metadata": {},
   "outputs": [],
   "source": [
    "from typing import Any, Dict\n",
    "\n",
    "import matplotlib.pyplot as plt\n",
    "from pystac.item import Item\n",
    "from shapely.geometry import shape\n",
    "\n",
    "from pystac_client import Client"
   ]
  },
  {
   "cell_type": "code",
   "execution_count": null,
   "id": "90fa653b",
   "metadata": {},
   "outputs": [],
   "source": [
    "URL = 'https://cmr.earthdata.nasa.gov/stac/LANCEMODIS'\n",
    "\n",
    "catalog = Client.open(URL)  \n",
    "\n",
    "catalog.get_collection(\"MYD14_6.1NRT\")"
   ]
  },
  {
   "cell_type": "code",
   "execution_count": null,
   "id": "dd793bd9",
   "metadata": {},
   "outputs": [],
   "source": [
    "def intersection_percent(item: Item, aoi_geometry) -> float:\n",
    "    \"\"\"The percentage that the Item's geometry intersects the AOI geometry.\"\"\"\n",
    "    geom_item = shape(item.geometry)\n",
    "    geom_aoi = aoi_geometry  # Already a geometry object\n",
    "    \n",
    "    intersected_geom = geom_aoi.intersection(geom_item)\n",
    "    intersection_percent = (intersected_geom.area * 100) / geom_aoi.area\n",
    "    \n",
    "    return intersection_percent\n",
    "\n",
    "# Extract the geometry once and reuse it\n",
    "aoi_geometry = aoi.to_crs(4326).geometry.iloc[0]\n",
    "\n",
    "item_search = catalog.search(\n",
    "    collections=[\"MYD14_6.1NRT\"], intersects=aoi_geometry, max_items=10\n",
    ")\n",
    "\n",
    "print(\n",
    "    [\n",
    "        f\"{intersection_percent(item, aoi_geometry):.2f}\"\n",
    "        for item in item_search.items()\n",
    "    ]\n",
    ")"
   ]
  },
  {
   "cell_type": "code",
   "execution_count": null,
   "id": "669e478d",
   "metadata": {},
   "outputs": [],
   "source": [
    "\n",
    "# Create a Client and an ItemSearch representing our search\n",
    "# No search operations will be performed until we call the items() method\n",
    "client = Client.open(URL)\n",
    "item_search = client.search(\n",
    "    collections=[\"MYD14_6.1NRT\"], intersects=aoi, max_items=10\n",
    ")"
   ]
  },
  {
   "cell_type": "code",
   "execution_count": null,
   "id": "f7bb4e24",
   "metadata": {},
   "outputs": [],
   "source": [
    "from pystac_client import Client\n",
    "\n",
    "catalog = Client.open(\"https://cmr.earthdata.nasa.gov/stac\")\n",
    "\n",
    "for link in catalog.links:\n",
    "    print(link.href)"
   ]
  },
  {
   "cell_type": "code",
   "execution_count": null,
   "id": "f4d37293",
   "metadata": {},
   "outputs": [],
   "source": [
    "import requests\n",
    "\n",
    "# Search NASA's Earthdata for VIIRS collections\n",
    "search_url = \"https://cmr.earthdata.nasa.gov/search/collections.json\"\n",
    "params = {\n",
    "    \"keyword\": \"VIIRS fire\",\n",
    "    \"page_size\": 20\n",
    "}\n",
    "\n",
    "response = requests.get(search_url, params=params)\n",
    "if response.status_code == 200:\n",
    "    data = response.json()\n",
    "    print(\"VIIRS collections available through Earthdata:\")\n",
    "    for entry in data.get(\"feed\", {}).get(\"entry\", []):\n",
    "        print(f\"  {entry.get('title')}: {entry.get('id')}\")\n",
    "        print(f\"    Provider: {entry.get('provider')}\")\n",
    "        print(f\"    Short name: {entry.get('short_name')}\")\n",
    "        print(\"---\")"
   ]
  },
  {
   "cell_type": "code",
   "execution_count": null,
   "id": "f0d0c0dd",
   "metadata": {},
   "outputs": [],
   "source": [
    "from pystac_client import Client\n",
    "\n",
    "# Try the LPCLOUD STAC endpoint directly\n",
    "try:\n",
    "    lpcloud_catalog = Client.open(\"https://cmr.earthdata.nasa.gov/stac/LPCLOUD\")\n",
    "    \n",
    "    print(\"LPCLOUD collections:\")\n",
    "    for link in lpcloud_catalog.links:\n",
    "        if link.rel == \"child\":\n",
    "            print(f\"  {link.title}: {link.href}\")\n",
    "            \n",
    "    # Try to access VNP14A1 collection\n",
    "    vnp14a1_collection = Client.open(\"https://cmr.earthdata.nasa.gov/stac/LPCLOUD/collections/VNP14A1\")\n",
    "    \n",
    "    # Search for items\n",
    "    aoi_geometry = aoi.to_crs(4326).geometry.iloc[0]\n",
    "    item_search = vnp14a1_collection.search(\n",
    "        intersects=aoi_geometry,\n",
    "        max_items=10\n",
    "    )\n",
    "    \n",
    "    for item in item_search.items():\n",
    "        print(f\"VIIRS item: {item.id}\")\n",
    "        \n",
    "except Exception as e:\n",
    "    print(f\"Error: {e}\")"
   ]
  },
  {
   "cell_type": "code",
   "execution_count": null,
   "id": "c5b0d0f6",
   "metadata": {},
   "outputs": [],
   "source": [
    "from pystac_client import Client\n",
    "\n",
    "# Try using the collection concept ID\n",
    "collection_id = \"C2545314541-LPCLOUD\"\n",
    "\n",
    "try:\n",
    "    # Try different STAC endpoints\n",
    "    endpoints = [\n",
    "        f\"https://cmr.earthdata.nasa.gov/stac/LPCLOUD/collections/{collection_id}\",\n",
    "        f\"https://cmr.earthdata.nasa.gov/stac/ALL/collections/{collection_id}\",\n",
    "        f\"https://cmr.earthdata.nasa.gov/stac/collections/{collection_id}\"\n",
    "    ]\n",
    "    \n",
    "    for endpoint in endpoints:\n",
    "        try:\n",
    "            collection = Client.open(endpoint)\n",
    "            print(f\"Successfully opened: {endpoint}\")\n",
    "            print(f\"Collection: {collection.title}\")\n",
    "            break\n",
    "        except Exception as e:\n",
    "            print(f\"Failed {endpoint}: {e}\")\n",
    "            \n",
    "except Exception as e:\n",
    "    print(f\"Error: {e}\")"
   ]
  },
  {
   "cell_type": "code",
   "execution_count": null,
   "id": "4d584624",
   "metadata": {},
   "outputs": [],
   "source": [
    "def get_collection_info(collection_id):\n",
    "    \"\"\"\n",
    "    Get detailed information about a VIIRS collection\n",
    "    \"\"\"\n",
    "    url = f\"https://cmr.earthdata.nasa.gov/search/collections.json\"\n",
    "    params = {\"concept_id\": collection_id}\n",
    "    \n",
    "    response = requests.get(url, params=params)\n",
    "    \n",
    "    if response.status_code == 200:\n",
    "        data = response.json()\n",
    "        collection = data['feed']['entry'][0]\n",
    "        \n",
    "        print(f\"Collection: {collection['title']}\")\n",
    "        print(f\"Short Name: {collection['short_name']}\")\n",
    "        print(f\"Description: {collection['summary']}\")\n",
    "        print(f\"Provider: {collection.get('provider', 'Unknown')}\")\n",
    "        print(f\"Temporal Range: {collection.get('time_start')} to {collection.get('time_end')}\")\n",
    "        \n",
    "        return collection\n",
    "    else:\n",
    "        print(f\"Error: {response.status_code}\")\n",
    "        return None\n",
    "\n",
    "# Get info about VNP14A1\n",
    "get_collection_info(\"C2545314541-LPCLOUD\")"
   ]
  },
  {
   "cell_type": "code",
   "execution_count": null,
   "id": "628d7c03",
   "metadata": {},
   "outputs": [],
   "source": [
    "from pystac_client import Client\n",
    "\n",
    "# Open LPDAAC catalog and search for the specific collection\n",
    "lpdaac_catalog = Client.open(\"https://cmr.earthdata.nasa.gov/stac/LPDAAC_ECS\")\n",
    "\n",
    "# Find the viirs-14a1-001 collection\n",
    "viirs_link = None\n",
    "for link in lpdaac_catalog.links:\n",
    "    if link.rel == \"child\" and \"VNP14A1 v001\" in link.href:\n",
    "        viirs_link = link\n",
    "        break\n",
    "\n",
    "if viirs_link:\n",
    "    print(f\"Found VIIRS collection: {viirs_link.title}\")\n",
    "    print(f\"URL: {viirs_link.href}\")\n",
    "    \n",
    "    # Open the collection and search for items\n",
    "    viirs_collection = Client.open(viirs_link.href)\n",
    "    aoi_geometry = aoi.to_crs(4326).geometry.iloc[0]\n",
    "    \n",
    "    item_search = viirs_collection.search(\n",
    "        intersects=aoi_geometry,\n",
    "        max_items=10\n",
    "    )\n",
    "    \n",
    "    for item in item_search.items():\n",
    "        print(f\"VIIRS item: {item.id}\")\n",
    "else:\n",
    "    print(\"VIIRS collection not found in ALL\")"
   ]
  },
  {
   "cell_type": "code",
   "execution_count": null,
   "id": "4ecd9a84",
   "metadata": {},
   "outputs": [],
   "source": [
    "item_search"
   ]
  },
  {
   "cell_type": "code",
   "execution_count": null,
   "id": "4535a2fc",
   "metadata": {},
   "outputs": [],
   "source": [
    "from pystac_client import Client\n",
    "\n",
    "# Try different potential VIIRS STAC endpoints\n",
    "potential_endpoints = [\n",
    "    \"https://cmr.earthdata.nasa.gov/stac/LPDAAC\",\n",
    "    \"https://cmr.earthdata.nasa.gov/stac/MODIS\",\n",
    "    \"https://cmr.earthdata.nasa.gov/stac/VIIRS\",\n",
    "    \"https://cmr.earthdata.nasa.gov/stac/FIRE\"\n",
    "]\n",
    "\n",
    "for endpoint in potential_endpoints:\n",
    "    try:\n",
    "        catalog = Client.open(endpoint)\n",
    "        print(f\"Successfully opened: {endpoint}\")\n",
    "        print(f\"Collections available:\")\n",
    "        for link in catalog.links:\n",
    "            if link.rel == \"child\":\n",
    "                print(f\"  - {link.title}\")\n",
    "        print(\"---\")\n",
    "    except Exception as e:\n",
    "        print(f\"Failed to open {endpoint}: {e}\")"
   ]
  },
  {
   "cell_type": "code",
   "execution_count": null,
   "id": "2cd2ca2a",
   "metadata": {},
   "outputs": [],
   "source": [
    "catalog = Client.open(\"https://cmr.earthdata.nasa.gov/stac/USGS\")\n",
    "\n",
    "for link in catalog.links:\n",
    "    print(link.href)"
   ]
  },
  {
   "cell_type": "code",
   "execution_count": null,
   "id": "f88e6eab",
   "metadata": {},
   "outputs": [],
   "source": [
    "URL = 'https://cmr.earthdata.nasa.gov/stac/LANCEMODIS'\n",
    "\n",
    "catalog = Client.open(URL)  \n",
    "\n",
    "catalog.get_collection(\"MYD14_6.1NRT\")"
   ]
  },
  {
   "cell_type": "code",
   "execution_count": 4,
   "id": "9bf1dba5",
   "metadata": {},
   "outputs": [
    {
     "name": "stdout",
     "output_type": "stream",
     "text": [
      "Found 5 VIIRS granules:\n",
      "  1. VNP14A1.A2025031.h12v12.002.2025032090653\n",
      "     Time: 2025-01-31T00:00:00.000Z\n",
      "     Size: 0.1575489044189453\n",
      "     Cloud URL: https://data.lpdaac.earthdatacloud.nasa.gov/lp-prod-protected/VNP14A1.002/VNP14A1.A2025031.h12v12.002.2025032090653/VNP14A1.A2025031.h12v12.002.2025032090653.h5\n",
      "---\n",
      "  2. VNP14A1.A2025030.h12v12.002.2025031094640\n",
      "     Time: 2025-01-30T00:00:00.000Z\n",
      "     Size: 0.15435218811035156\n",
      "     Cloud URL: https://data.lpdaac.earthdatacloud.nasa.gov/lp-prod-protected/VNP14A1.002/VNP14A1.A2025030.h12v12.002.2025031094640/VNP14A1.A2025030.h12v12.002.2025031094640.h5\n",
      "---\n",
      "  3. VNP14A1.A2025029.h12v12.002.2025030094347\n",
      "     Time: 2025-01-29T00:00:00.000Z\n",
      "     Size: 0.1571207046508789\n",
      "     Cloud URL: https://data.lpdaac.earthdatacloud.nasa.gov/lp-prod-protected/VNP14A1.002/VNP14A1.A2025029.h12v12.002.2025030094347/VNP14A1.A2025029.h12v12.002.2025030094347.h5\n",
      "---\n",
      "  4. VNP14A1.A2025028.h12v12.002.2025029084239\n",
      "     Time: 2025-01-28T00:00:00.000Z\n",
      "     Size: 0.16545581817626953\n",
      "     Cloud URL: https://data.lpdaac.earthdatacloud.nasa.gov/lp-prod-protected/VNP14A1.002/VNP14A1.A2025028.h12v12.002.2025029084239/VNP14A1.A2025028.h12v12.002.2025029084239.h5\n",
      "---\n",
      "  5. VNP14A1.A2025027.h12v12.002.2025028190753\n",
      "     Time: 2025-01-27T00:00:00.000Z\n",
      "     Size: 0.1768970489501953\n",
      "     Cloud URL: https://data.lpdaac.earthdatacloud.nasa.gov/lp-prod-protected/VNP14A1.002/VNP14A1.A2025027.h12v12.002.2025028190753/VNP14A1.A2025027.h12v12.002.2025028190753.h5\n",
      "---\n"
     ]
    }
   ],
   "source": [
    "import requests\n",
    "import xarray as xr\n",
    "import rioxarray\n",
    "import numpy as np\n",
    "import matplotlib.pyplot as plt\n",
    "from datetime import datetime, timedelta\n",
    "import os\n",
    "\n",
    "# Extract the geometry once and reuse it\n",
    "aoi_geometry = aoi.to_crs(4326).geometry.iloc[0]\n",
    "\n",
    "def setup_earthdata_auth():\n",
    "    \"\"\"\n",
    "    Set up NASA Earthdata authentication\n",
    "    You'll need to create an account at https://urs.earthdata.nasa.gov/\n",
    "    \"\"\"\n",
    "    username = input(\"Enter your NASA Earthdata username: \")\n",
    "    password = input(\"Enter your NASA Earthdata password: \")\n",
    "    \n",
    "    # Store credentials (you might want to use environment variables instead)\n",
    "    os.environ['EARTHDATA_USERNAME'] = username\n",
    "    os.environ['EARTHDATA_PASSWORD'] = password\n",
    "    \n",
    "    return username, password\n",
    "\n",
    "def search_viirs_granules(collection_id, aoi_geometry, start_date, end_date, max_results=5):\n",
    "    \"\"\"\n",
    "    Search for VIIRS granules using CMR API\n",
    "    \"\"\"\n",
    "    cmr_url = \"https://cmr.earthdata.nasa.gov/search/granules.json\"\n",
    "    \n",
    "    bbox = aoi_geometry.bounds\n",
    "    \n",
    "    params = {\n",
    "        \"collection_concept_id\": collection_id,\n",
    "        \"bounding_box\": f\"{bbox[0]},{bbox[1]},{bbox[2]},{bbox[3]}\",\n",
    "        \"temporal\": f\"{start_date}T00:00:00Z,{end_date}T23:59:59Z\",\n",
    "        \"page_size\": max_results,\n",
    "        \"sort_key\": \"-start_date\"\n",
    "    }\n",
    "    \n",
    "    response = requests.get(cmr_url, params=params)\n",
    "    \n",
    "    if response.status_code == 200:\n",
    "        data = response.json()\n",
    "        granules = data['feed']['entry']\n",
    "        \n",
    "        print(f\"Found {len(granules)} VIIRS granules:\")\n",
    "        for i, granule in enumerate(granules):\n",
    "            print(f\"  {i+1}. {granule['title']}\")\n",
    "            print(f\"     Time: {granule['time_start']}\")\n",
    "            print(f\"     Size: {granule.get('granule_size', 'Unknown')}\")\n",
    "            \n",
    "            # Get cloud access URLs\n",
    "            cloud_urls = []\n",
    "            for link in granule['links']:\n",
    "                if link['rel'] == 'http://esipfed.org/ns/fedsearch/1.1/data#':\n",
    "                    cloud_urls.append(link['href'])\n",
    "            \n",
    "            if cloud_urls:\n",
    "                print(f\"     Cloud URL: {cloud_urls[0]}\")\n",
    "            print(\"---\")\n",
    "        \n",
    "        return granules\n",
    "    else:\n",
    "        print(f\"Error: {response.status_code} - {response.text}\")\n",
    "        return []\n",
    "\n",
    "# Usage\n",
    "collection_id = \"C2545314541-LPCLOUD\"  # VNP14A1\n",
    "start_date = \"2023-01-01\"\n",
    "end_date = \"2025-01-31\"\n",
    "\n",
    "granules = search_viirs_granules(collection_id, aoi_geometry, start_date, end_date)"
   ]
  },
  {
   "cell_type": "code",
   "execution_count": 8,
   "id": "63e236f0",
   "metadata": {},
   "outputs": [
    {
     "name": "stdout",
     "output_type": "stream",
     "text": [
      "Downloading VIIRS file...\n",
      "Download failed: 401\n"
     ]
    }
   ],
   "source": [
    "import requests\n",
    "from requests.auth import HTTPBasicAuth\n",
    "import h5py\n",
    "import matplotlib.pyplot as plt\n",
    "\n",
    "# Download the file\n",
    "username = \"nissimlebovits\"\n",
    "password = \"KNsna3qk6aPEEvk\"\n",
    "\n",
    "print(\"Downloading VIIRS file...\")\n",
    "response = requests.get(cloud_url, auth=HTTPBasicAuth(username, password))\n",
    "\n",
    "if response.status_code == 200:\n",
    "    with open(\"temp_viirs.h5\", \"wb\") as f:\n",
    "        f.write(response.content)\n",
    "    \n",
    "    # Open with h5py\n",
    "    with h5py.File(\"temp_viirs.h5\", \"r\") as f:\n",
    "        fire_mask = f['HDFEOS/GRIDS/VNP_Grid_1km_2D/Data Fields/FireMask'][:]\n",
    "        \n",
    "    plt.imshow(fire_mask)\n",
    "    plt.title('VIIRS Fire Mask')\n",
    "    plt.show()\n",
    "    \n",
    "    # Clean up\n",
    "    import os\n",
    "    os.remove(\"temp_viirs.h5\")\n",
    "else:\n",
    "    print(f\"Download failed: {response.status_code}\")"
   ]
  },
  {
   "cell_type": "code",
   "execution_count": null,
   "id": "47087661",
   "metadata": {},
   "outputs": [],
   "source": []
  },
  {
   "cell_type": "code",
   "execution_count": 7,
   "id": "221b2bed",
   "metadata": {},
   "outputs": [],
   "source": [
    "import earthaccess\n",
    "\n",
    "auth = earthaccess.login()"
   ]
  },
  {
   "cell_type": "code",
   "execution_count": null,
   "id": "d7ba3f8c",
   "metadata": {},
   "outputs": [
    {
     "name": "stdout",
     "output_type": "stream",
     "text": [
      "Found 3300 granules\n"
     ]
    }
   ],
   "source": [
    "import earthaccess\n",
    "\n",
    "# Extract individual bounding box values\n",
    "bbox = aoi.to_crs(4326).bounds.iloc[0]\n",
    "minx, miny, maxx, maxy = bbox\n",
    "\n",
    "# Search for VIIRS data\n",
    "viirs_data = earthaccess.search_data(\n",
    "    short_name=\"VNP14A1\",\n",
    "    bounding_box=(minx, miny, maxx, maxy),  # Pass as tuple\n",
    "    cloud_hosted=True,\n",
    "    temporal=(\"2001-01\", \"2021-01\"),\n",
    ")\n",
    "\n",
    "print(f\"Found {len(viirs_data)} granules\")\n",
    "\n",
    "# First, get the coordinate system and find exact pixel bounds for your AOI\n",
    "files = earthaccess.open([viirs_data[0]], show_progress=False)\n",
    "file_path = files[0]\n",
    "\n",
    "with h5py.File(file_path, 'r') as f:\n",
    "    xdim = f['HDFEOS/GRIDS/VIIRS_Grid_Daily_Fire/XDim'][:]\n",
    "    ydim = f['HDFEOS/GRIDS/VIIRS_Grid_Daily_Fire/YDim'][:]\n",
    "\n",
    "# Transform AOI to sinusoidal projection\n",
    "aoi_sinusoidal = aoi.to_crs(\"EPSG:4326\").to_crs(\"+proj=sinu +lon_0=0 +x_0=0 +y_0=0 +datum=WGS84 +units=m +no_defs\")\n",
    "aoi_bounds = aoi_sinusoidal.bounds.iloc[0]\n",
    "\n",
    "# Find exact pixel indices for your AOI\n",
    "x_indices = np.where((xdim >= aoi_bounds.iloc[0]) & (xdim <= aoi_bounds.iloc[2]))[0]\n",
    "y_indices = np.where((ydim >= aoi_bounds.iloc[1]) & (ydim <= aoi_bounds.iloc[3]))[0]\n",
    "\n",
    "print(f\"Cropping to {len(y_indices)} x {len(x_indices)} pixels instead of full {len(ydim)} x {len(xdim)}\")"
   ]
  },
  {
   "cell_type": "code",
   "execution_count": 25,
   "id": "de02ace7",
   "metadata": {},
   "outputs": [
    {
     "name": "stdout",
     "output_type": "stream",
     "text": [
      "File size range: 0.000 - 0.000 MB\n",
      "Average file size: 0.000 MB\n"
     ]
    },
    {
     "data": {
      "image/png": "[encoded data removed]",
      "text/plain": [
       "<Figure size 640x480 with 1 Axes>"
      ]
     },
     "metadata": {},
     "output_type": "display_data"
    },
    {
     "name": "stdout",
     "output_type": "stream",
     "text": [
      "Manually checking first 5 files...\n",
      "\n",
      "File 1:\n",
      "Size: 0.000 MB\n",
      "FireMask shape: (1200, 1200)\n",
      "FireMask unique values: [3 4 5 6 7 8 9]\n",
      "Fire pixels (>=7): 31\n",
      "AOI fire pixels: 0\n",
      "\n",
      "File 2:\n",
      "Size: 0.000 MB\n",
      "FireMask shape: (1200, 1200)\n",
      "FireMask unique values: [3 4 5 6 8 9]\n",
      "Fire pixels (>=7): 8\n",
      "AOI fire pixels: 0\n",
      "\n",
      "File 3:\n",
      "Size: 0.000 MB\n",
      "FireMask shape: (1200, 1200)\n",
      "FireMask unique values: [3 4 5 8 9]\n",
      "Fire pixels (>=7): 7\n",
      "AOI fire pixels: 0\n",
      "\n",
      "File 4:\n",
      "Size: 0.000 MB\n",
      "FireMask shape: (1200, 1200)\n",
      "FireMask unique values: [3 4 5 8 9]\n",
      "Fire pixels (>=7): 8\n",
      "AOI fire pixels: 0\n",
      "\n",
      "File 5:\n",
      "Size: 0.000 MB\n",
      "FireMask shape: (1200, 1200)\n",
      "FireMask unique values: [3 4 5 8 9]\n",
      "Fire pixels (>=7): 21\n",
      "AOI fire pixels: 0\n"
     ]
    }
   ],
   "source": [
    "# Let's check what file sizes we actually have\n",
    "file_sizes = [granule.get('Size(MB)', 0) for granule in viirs_data]\n",
    "print(f\"File size range: {min(file_sizes):.3f} - {max(file_sizes):.3f} MB\")\n",
    "print(f\"Average file size: {np.mean(file_sizes):.3f} MB\")\n",
    "\n",
    "# Check the distribution\n",
    "import matplotlib.pyplot as plt\n",
    "plt.hist(file_sizes, bins=50)\n",
    "plt.xlabel('File Size (MB)')\n",
    "plt.ylabel('Count')\n",
    "plt.title('Distribution of VIIRS File Sizes')\n",
    "plt.show()\n",
    "\n",
    "# Let's actually check a few files manually to see what's in them\n",
    "print(\"Manually checking first 5 files...\")\n",
    "for i, granule in enumerate(viirs_data[:5]):\n",
    "    print(f\"\\nFile {i+1}:\")\n",
    "    print(f\"Size: {granule.get('Size(MB)', 0):.3f} MB\")\n",
    "    \n",
    "    try:\n",
    "        files = earthaccess.open([granule], show_progress=False)\n",
    "        file_path = files[0]\n",
    "        \n",
    "        with h5py.File(file_path, 'r') as f:\n",
    "            fire_mask = f['HDFEOS/GRIDS/VIIRS_Grid_Daily_Fire/Data Fields/FireMask'][:]\n",
    "            print(f\"FireMask shape: {fire_mask.shape}\")\n",
    "            print(f\"FireMask unique values: {np.unique(fire_mask)}\")\n",
    "            print(f\"Fire pixels (>=7): {np.sum(fire_mask >= 7)}\")\n",
    "            \n",
    "            # Check if our AOI area has any fire\n",
    "            if len(y_indices) > 0 and len(x_indices) > 0:\n",
    "                aoi_fire_mask = fire_mask[y_indices, :][:, x_indices]\n",
    "                print(f\"AOI fire pixels: {np.sum(aoi_fire_mask >= 7)}\")\n",
    "                \n",
    "    except Exception as e:\n",
    "        print(f\"Error: {e}\")"
   ]
  },
  {
   "cell_type": "code",
   "execution_count": 27,
   "id": "d3ef5338",
   "metadata": {},
   "outputs": [
    {
     "name": "stdout",
     "output_type": "stream",
     "text": [
      "Processing batch 1/33\n",
      "[########################################] | 100% Completed | 190.47 s\n",
      "Processing batch 2/33\n",
      "[                                        ] | 0% Completed | 8.79 s ms\n"
     ]
    },
    {
     "ename": "KeyboardInterrupt",
     "evalue": "",
     "output_type": "error",
     "traceback": [
      "\u001b[31m---------------------------------------------------------------------------\u001b[39m",
      "\u001b[31mKeyboardInterrupt\u001b[39m                         Traceback (most recent call last)",
      "\u001b[36mCell\u001b[39m\u001b[36m \u001b[39m\u001b[32mIn[27]\u001b[39m\u001b[32m, line 16\u001b[39m\n\u001b[32m     13\u001b[39m     fire_count_batch = da.sum(fire_stack, axis=\u001b[32m0\u001b[39m)\n\u001b[32m     15\u001b[39m     \u001b[38;5;28;01mwith\u001b[39;00m ProgressBar():\n\u001b[32m---> \u001b[39m\u001b[32m16\u001b[39m         fire_counts.append(\u001b[43mfire_count_batch\u001b[49m\u001b[43m.\u001b[49m\u001b[43mcompute\u001b[49m\u001b[43m(\u001b[49m\u001b[43m)\u001b[49m)\n\u001b[32m     18\u001b[39m \u001b[38;5;66;03m# Sum all batches\u001b[39;00m\n\u001b[32m     19\u001b[39m final_fire_count = np.sum(fire_counts, axis=\u001b[32m0\u001b[39m)\n",
      "\u001b[36mFile \u001b[39m\u001b[32m~/Documents/dev/fulbright/ciut-riesgo/.venv/lib/python3.12/site-packages/dask/base.py:373\u001b[39m, in \u001b[36mDaskMethodsMixin.compute\u001b[39m\u001b[34m(self, **kwargs)\u001b[39m\n\u001b[32m    349\u001b[39m \u001b[38;5;28;01mdef\u001b[39;00m\u001b[38;5;250m \u001b[39m\u001b[34mcompute\u001b[39m(\u001b[38;5;28mself\u001b[39m, **kwargs):\n\u001b[32m    350\u001b[39m \u001b[38;5;250m    \u001b[39m\u001b[33;03m\"\"\"Compute this dask collection\u001b[39;00m\n\u001b[32m    351\u001b[39m \n\u001b[32m    352\u001b[39m \u001b[33;03m    This turns a lazy Dask collection into its in-memory equivalent.\u001b[39;00m\n\u001b[32m   (...)\u001b[39m\u001b[32m    371\u001b[39m \u001b[33;03m    dask.compute\u001b[39;00m\n\u001b[32m    372\u001b[39m \u001b[33;03m    \"\"\"\u001b[39;00m\n\u001b[32m--> \u001b[39m\u001b[32m373\u001b[39m     (result,) = \u001b[43mcompute\u001b[49m\u001b[43m(\u001b[49m\u001b[38;5;28;43mself\u001b[39;49m\u001b[43m,\u001b[49m\u001b[43m \u001b[49m\u001b[43mtraverse\u001b[49m\u001b[43m=\u001b[49m\u001b[38;5;28;43;01mFalse\u001b[39;49;00m\u001b[43m,\u001b[49m\u001b[43m \u001b[49m\u001b[43m*\u001b[49m\u001b[43m*\u001b[49m\u001b[43mkwargs\u001b[49m\u001b[43m)\u001b[49m\n\u001b[32m    374\u001b[39m     \u001b[38;5;28;01mreturn\u001b[39;00m result\n",
      "\u001b[36mFile \u001b[39m\u001b[32m~/Documents/dev/fulbright/ciut-riesgo/.venv/lib/python3.12/site-packages/dask/base.py:681\u001b[39m, in \u001b[36mcompute\u001b[39m\u001b[34m(traverse, optimize_graph, scheduler, get, *args, **kwargs)\u001b[39m\n\u001b[32m    678\u001b[39m     expr = expr.optimize()\n\u001b[32m    679\u001b[39m     keys = \u001b[38;5;28mlist\u001b[39m(flatten(expr.__dask_keys__()))\n\u001b[32m--> \u001b[39m\u001b[32m681\u001b[39m     results = \u001b[43mschedule\u001b[49m\u001b[43m(\u001b[49m\u001b[43mexpr\u001b[49m\u001b[43m,\u001b[49m\u001b[43m \u001b[49m\u001b[43mkeys\u001b[49m\u001b[43m,\u001b[49m\u001b[43m \u001b[49m\u001b[43m*\u001b[49m\u001b[43m*\u001b[49m\u001b[43mkwargs\u001b[49m\u001b[43m)\u001b[49m\n\u001b[32m    683\u001b[39m \u001b[38;5;28;01mreturn\u001b[39;00m repack(results)\n",
      "\u001b[36mFile \u001b[39m\u001b[32m~/.pyenv/versions/3.12.2/lib/python3.12/queue.py:171\u001b[39m, in \u001b[36mQueue.get\u001b[39m\u001b[34m(self, block, timeout)\u001b[39m\n\u001b[32m    169\u001b[39m \u001b[38;5;28;01melif\u001b[39;00m timeout \u001b[38;5;129;01mis\u001b[39;00m \u001b[38;5;28;01mNone\u001b[39;00m:\n\u001b[32m    170\u001b[39m     \u001b[38;5;28;01mwhile\u001b[39;00m \u001b[38;5;129;01mnot\u001b[39;00m \u001b[38;5;28mself\u001b[39m._qsize():\n\u001b[32m--> \u001b[39m\u001b[32m171\u001b[39m         \u001b[38;5;28;43mself\u001b[39;49m\u001b[43m.\u001b[49m\u001b[43mnot_empty\u001b[49m\u001b[43m.\u001b[49m\u001b[43mwait\u001b[49m\u001b[43m(\u001b[49m\u001b[43m)\u001b[49m\n\u001b[32m    172\u001b[39m \u001b[38;5;28;01melif\u001b[39;00m timeout < \u001b[32m0\u001b[39m:\n\u001b[32m    173\u001b[39m     \u001b[38;5;28;01mraise\u001b[39;00m \u001b[38;5;167;01mValueError\u001b[39;00m(\u001b[33m\"\u001b[39m\u001b[33m'\u001b[39m\u001b[33mtimeout\u001b[39m\u001b[33m'\u001b[39m\u001b[33m must be a non-negative number\u001b[39m\u001b[33m\"\u001b[39m)\n",
      "\u001b[36mFile \u001b[39m\u001b[32m~/.pyenv/versions/3.12.2/lib/python3.12/threading.py:355\u001b[39m, in \u001b[36mCondition.wait\u001b[39m\u001b[34m(self, timeout)\u001b[39m\n\u001b[32m    353\u001b[39m \u001b[38;5;28;01mtry\u001b[39;00m:    \u001b[38;5;66;03m# restore state no matter what (e.g., KeyboardInterrupt)\u001b[39;00m\n\u001b[32m    354\u001b[39m     \u001b[38;5;28;01mif\u001b[39;00m timeout \u001b[38;5;129;01mis\u001b[39;00m \u001b[38;5;28;01mNone\u001b[39;00m:\n\u001b[32m--> \u001b[39m\u001b[32m355\u001b[39m         \u001b[43mwaiter\u001b[49m\u001b[43m.\u001b[49m\u001b[43macquire\u001b[49m\u001b[43m(\u001b[49m\u001b[43m)\u001b[49m\n\u001b[32m    356\u001b[39m         gotit = \u001b[38;5;28;01mTrue\u001b[39;00m\n\u001b[32m    357\u001b[39m     \u001b[38;5;28;01melse\u001b[39;00m:\n",
      "\u001b[31mKeyboardInterrupt\u001b[39m: "
     ]
    }
   ],
   "source": [
    "# Process in batches to avoid memory issues\n",
    "batch_size = 100\n",
    "fire_counts = []\n",
    "\n",
    "for i in range(0, len(viirs_data), batch_size):\n",
    "    batch = viirs_data[i:i+batch_size]\n",
    "    print(f\"Processing batch {i//batch_size + 1}/{(len(viirs_data)-1)//batch_size + 1}\")\n",
    "    \n",
    "    # Your existing efficient processing\n",
    "    lazy_arrays = [process_granule_cropped(granule) for granule in batch]\n",
    "    fire_stack = da.stack([da.from_delayed(arr, dtype=np.int8, shape=(len(y_indices), len(x_indices))) \n",
    "                          for arr in lazy_arrays if arr is not None])\n",
    "    fire_count_batch = da.sum(fire_stack, axis=0)\n",
    "    \n",
    "    with ProgressBar():\n",
    "        fire_counts.append(fire_count_batch.compute())\n",
    "\n",
    "# Sum all batches\n",
    "final_fire_count = np.sum(fire_counts, axis=0)"
   ]
  },
  {
   "cell_type": "code",
   "execution_count": 26,
   "id": "083d3a6c",
   "metadata": {},
   "outputs": [
    {
     "name": "stdout",
     "output_type": "stream",
     "text": [
      "AOI Debugging:\n",
      "AOI bounds (sinusoidal): minx   -6.073920e+06\n",
      "miny   -3.548564e+06\n",
      "maxx   -5.935100e+06\n",
      "maxy   -3.465906e+06\n",
      "Name: 126, dtype: float64\n",
      "X indices range: 646 to 794\n",
      "Y indices range: 141 to 229\n",
      "AOI size: 89 x 149 pixels\n",
      "\n",
      "Checking fire locations in first file...\n",
      "Fire locations (y, x): [(np.int64(8), np.int64(672)), (np.int64(32), np.int64(1046)), (np.int64(33), np.int64(1046)), (np.int64(56), np.int64(1011)), (np.int64(57), np.int64(1010))]\n",
      "Fire 1: pixel (8, 672) -> coords (-6049011, -3343265)\n",
      "Fire 2: pixel (32, 1046) -> coords (-5702453, -3365504)\n",
      "Fire 3: pixel (33, 1046) -> coords (-5702453, -3366430)\n",
      "Fire 4: pixel (56, 1011) -> coords (-5734885, -3387743)\n",
      "Fire 5: pixel (57, 1010) -> coords (-5735811, -3388669)\n",
      "\n",
      "AOI coordinate bounds:\n",
      "X: -6073103 to -5935963\n",
      "Y: -3548049 to -3466506\n"
     ]
    }
   ],
   "source": [
    "# Let's check what's happening with the AOI cropping\n",
    "print(\"AOI Debugging:\")\n",
    "print(f\"AOI bounds (sinusoidal): {aoi_bounds}\")\n",
    "print(f\"X indices range: {x_indices.min()} to {x_indices.max()}\")\n",
    "print(f\"Y indices range: {y_indices.min()} to {y_indices.max()}\")\n",
    "print(f\"AOI size: {len(y_indices)} x {len(x_indices)} pixels\")\n",
    "\n",
    "# Let's see where the fires actually are\n",
    "print(\"\\nChecking fire locations in first file...\")\n",
    "files = earthaccess.open([viirs_data[0]], show_progress=False)\n",
    "file_path = files[0]\n",
    "\n",
    "with h5py.File(file_path, 'r') as f:\n",
    "    fire_mask = f['HDFEOS/GRIDS/VIIRS_Grid_Daily_Fire/Data Fields/FireMask'][:]\n",
    "    xdim = f['HDFEOS/GRIDS/VIIRS_Grid_Daily_Fire/XDim'][:]\n",
    "    ydim = f['HDFEOS/GRIDS/VIIRS_Grid_Daily_Fire/YDim'][:]\n",
    "    \n",
    "    # Find where the fires are\n",
    "    fire_locations = np.where(fire_mask >= 7)\n",
    "    print(f\"Fire locations (y, x): {list(zip(fire_locations[0][:5], fire_locations[1][:5]))}\")\n",
    "    \n",
    "    # Check the coordinates of fire pixels\n",
    "    for i in range(min(5, len(fire_locations[0]))):\n",
    "        y_idx, x_idx = fire_locations[0][i], fire_locations[1][i]\n",
    "        fire_x = xdim[x_idx]\n",
    "        fire_y = ydim[y_idx]\n",
    "        print(f\"Fire {i+1}: pixel ({y_idx}, {x_idx}) -> coords ({fire_x:.0f}, {fire_y:.0f})\")\n",
    "    \n",
    "    print(f\"\\nAOI coordinate bounds:\")\n",
    "    print(f\"X: {xdim[x_indices].min():.0f} to {xdim[x_indices].max():.0f}\")\n",
    "    print(f\"Y: {ydim[y_indices].min():.0f} to {ydim[y_indices].max():.0f}\")"
   ]
  },
  {
   "cell_type": "code",
   "execution_count": 24,
   "id": "8fa86b36",
   "metadata": {},
   "outputs": [
    {
     "name": "stdout",
     "output_type": "stream",
     "text": [
      "Quick check by file size...\n",
      "Found 0 potentially fire-active files\n",
      "Sampling to validate...\n",
      "Estimated fire activity rate: 0.00%\n"
     ]
    }
   ],
   "source": [
    "# Option 1: Use file size as a proxy (fire-active files are usually larger)\n",
    "def quick_fire_check_by_size(granules):\n",
    "    \"\"\"Use file size as a proxy for fire activity - much faster\"\"\"\n",
    "    fire_active = []\n",
    "    \n",
    "    for granule in granules:\n",
    "        # Get file size from granule metadata\n",
    "        size_mb = granule.get('Size(MB)', 0)\n",
    "        \n",
    "        # VIIRS files with fire data are typically > 1MB\n",
    "        # Files < 0.5MB are usually empty/no-fire days\n",
    "        if size_mb > 0.5:  # Adjust threshold as needed\n",
    "            fire_active.append(granule)\n",
    "    \n",
    "    return fire_active\n",
    "\n",
    "# Option 2: Sample approach - check every 10th file first\n",
    "def sample_check(granules, sample_rate=10):\n",
    "    \"\"\"Check a sample of files to estimate fire activity\"\"\"\n",
    "    sample_granules = granules[::sample_rate]  # Every 10th file\n",
    "    \n",
    "    fire_count = 0\n",
    "    for granule in sample_granules:\n",
    "        try:\n",
    "            files = earthaccess.open([granule], show_progress=False)\n",
    "            file_path = files[0]\n",
    "            \n",
    "            with h5py.File(file_path, 'r') as f:\n",
    "                fire_mask = f['HDFEOS/GRIDS/VIIRS_Grid_Daily_Fire/Data Fields/FireMask'][y_indices, :][:, x_indices]\n",
    "                if np.any(fire_mask >= 7):\n",
    "                    fire_count += 1\n",
    "        except:\n",
    "            pass\n",
    "    \n",
    "    fire_rate = fire_count / len(sample_granules)\n",
    "    print(f\"Estimated fire activity rate: {fire_rate:.2%}\")\n",
    "    \n",
    "    return fire_rate\n",
    "\n",
    "# Try the fast approach first\n",
    "print(\"Quick check by file size...\")\n",
    "fire_active_by_size = quick_fire_check_by_size(viirs_data)\n",
    "print(f\"Found {len(fire_active_by_size)} potentially fire-active files\")\n",
    "\n",
    "# Sample check to validate\n",
    "print(\"Sampling to validate...\")\n",
    "fire_rate = sample_check(viirs_data[:100])  # Check first 100 files"
   ]
  },
  {
   "cell_type": "code",
   "execution_count": 21,
   "id": "cff789d9",
   "metadata": {},
   "outputs": [
    {
     "name": "stdout",
     "output_type": "stream",
     "text": [
      "Current cache settings:\n",
      "\n",
      "        <BackgroundBlockCache:\n",
      "            block size  :   4194304\n",
      "            block count :   1\n",
      "            file size   :   204116\n",
      "            cache hits  :   0\n",
      "            cache misses:   0\n",
      "            total requested bytes: 0>\n",
      "        \n",
      "\n",
      "Optimized cache settings:\n",
      "\n",
      "        <BlockCache:\n",
      "            block size  :   16777216\n",
      "            block count :   1\n",
      "            file size   :   204116\n",
      "            cache hits  :   0\n",
      "            cache misses:   0\n",
      "            total requested bytes: 0>\n",
      "        \n",
      "\n",
      "Testing batch size: 1\n",
      "Batch size 1: Delayed('process_batch-944d1982-97be-473a-8055-ca50ff35193a')\n",
      "\n",
      "Testing batch size: 5\n",
      "Batch size 5: Delayed('process_batch-486d1c97-a42c-442e-b9a9-ebe8ceadfc67')\n",
      "\n",
      "Testing batch size: 10\n",
      "Batch size 10: Delayed('process_batch-f811d9f5-7739-4d39-a332-48dbd4b8184f')\n",
      "\n",
      "Testing batch size: 20\n",
      "Batch size 20: Delayed('process_batch-2a8351b4-f03e-435d-9392-1f101bc4375a')\n",
      "\n",
      "File optimization check:\n",
      "Block size: 16777216\n",
      "Cache type: BlockCache\n",
      "Cache info: \n",
      "        <BlockCache:\n",
      "            block size  :   16777216\n",
      "            block count :   1\n",
      "            file size   :   204116\n",
      "            cache hits  :   0\n",
      "            cache misses:   0\n",
      "            total requested bytes: 0>\n",
      "        \n",
      "Metadata access time: 1.94 seconds\n",
      "\n",
      "Testing different cache configurations:\n",
      "\n",
      "Config 1: {'block_size': 4194304, 'cache_type': 'blockcache'}\n",
      "Cache: \n",
      "        <BlockCache:\n",
      "            block size  :   4194304\n",
      "            block count :   1\n",
      "            file size   :   204116\n",
      "            cache hits  :   0\n",
      "            cache misses:   0\n",
      "            total requested bytes: 0>\n",
      "        \n",
      "\n",
      "Config 2: {'block_size': 8388608, 'cache_type': 'blockcache'}\n",
      "Cache: \n",
      "        <BlockCache:\n",
      "            block size  :   8388608\n",
      "            block count :   1\n",
      "            file size   :   204116\n",
      "            cache hits  :   0\n",
      "            cache misses:   0\n",
      "            total requested bytes: 0>\n",
      "        \n",
      "\n",
      "Config 3: {'block_size': 16777216, 'cache_type': 'blockcache'}\n",
      "Cache: \n",
      "        <BlockCache:\n",
      "            block size  :   16777216\n",
      "            block count :   1\n",
      "            file size   :   204116\n",
      "            cache hits  :   0\n",
      "            cache misses:   0\n",
      "            total requested bytes: 0>\n",
      "        \n",
      "\n",
      "Config 4: {'block_size': 33554432, 'cache_type': 'blockcache'}\n",
      "Cache: \n",
      "        <BlockCache:\n",
      "            block size  :   33554432\n",
      "            block count :   1\n",
      "            file size   :   204116\n",
      "            cache hits  :   0\n",
      "            cache misses:   0\n",
      "            total requested bytes: 0>\n",
      "        \n"
     ]
    }
   ],
   "source": [
    "import earthaccess\n",
    "import h5py\n",
    "import numpy as np\n",
    "import dask.array as da\n",
    "from dask.delayed import delayed\n",
    "from dask.diagnostics import ProgressBar\n",
    "\n",
    "# 1. Check current cache settings\n",
    "files = earthaccess.open([viirs_data[0]], show_progress=False)\n",
    "file_handler = files[0]\n",
    "print(\"Current cache settings:\")\n",
    "print(file_handler.f.cache)\n",
    "\n",
    "# 2. Try optimized cache settings for HDF5\n",
    "# Based on docs: align block size with HDF5 chunk size\n",
    "optimized_open_kwargs = {\n",
    "    'block_size': 16 * 1024 * 1024,  # 16MB blocks (for large files)\n",
    "    'cache_type': 'blockcache'  # Use blockcache instead of readahead\n",
    "}\n",
    "\n",
    "files_optimized = earthaccess.open([viirs_data[0]], \n",
    "                                 open_kwargs=optimized_open_kwargs, \n",
    "                                 show_progress=False)\n",
    "file_handler_opt = files_optimized[0]\n",
    "print(\"\\nOptimized cache settings:\")\n",
    "print(file_handler_opt.f.cache)\n",
    "\n",
    "# 3. Test different batch sizes\n",
    "def test_batch_performance(batch_size):\n",
    "    print(f\"\\nTesting batch size: {batch_size}\")\n",
    "    \n",
    "    @delayed\n",
    "    def process_batch(granules_batch):\n",
    "        results = []\n",
    "        files = earthaccess.open(granules_batch, \n",
    "                               open_kwargs=optimized_open_kwargs,\n",
    "                               show_progress=False)\n",
    "        \n",
    "        for file_path in files:\n",
    "            try:\n",
    "                with h5py.File(file_path, 'r') as f:\n",
    "                    fire_mask = f['HDFEOS/GRIDS/VIIRS_Grid_Daily_Fire/Data Fields/FireMask'][y_indices, :][:, x_indices]\n",
    "                    results.append((fire_mask >= 7).astype(np.int8))\n",
    "            except Exception as e:\n",
    "                print(f\"Error: {e}\")\n",
    "                results.append(None)\n",
    "        \n",
    "        return results\n",
    "    \n",
    "    # Test with first batch_size granules\n",
    "    test_granules = viirs_data[:batch_size]\n",
    "    batch_results = process_batch(test_granules)\n",
    "    \n",
    "    return batch_results\n",
    "\n",
    "# 4. Test different batch sizes\n",
    "batch_sizes = [1, 5, 10, 20]\n",
    "for batch_size in batch_sizes:\n",
    "    if batch_size <= len(viirs_data):\n",
    "        result = test_batch_performance(batch_size)\n",
    "        print(f\"Batch size {batch_size}: {result}\")\n",
    "\n",
    "# 5. Check if files are cloud-optimized\n",
    "def check_file_optimization(file_handler):\n",
    "    print(f\"\\nFile optimization check:\")\n",
    "    cache = file_handler.f.cache\n",
    "    \n",
    "    # Different cache types have different attributes\n",
    "    if hasattr(cache, 'block_size'):\n",
    "        print(f\"Block size: {cache.block_size}\")\n",
    "    elif hasattr(cache, 'blocksize'):\n",
    "        print(f\"Block size: {cache.blocksize}\")\n",
    "    else:\n",
    "        print(f\"Block size: Not available\")\n",
    "    \n",
    "    print(f\"Cache type: {type(cache).__name__}\")\n",
    "    print(f\"Cache info: {cache}\")\n",
    "    \n",
    "    # Test metadata access speed\n",
    "    import time\n",
    "    start = time.time()\n",
    "    with h5py.File(file_handler, 'r') as f:\n",
    "        # Try to access metadata\n",
    "        attrs = f.attrs\n",
    "        groups = list(f.keys())\n",
    "    end = time.time()\n",
    "    print(f\"Metadata access time: {end - start:.2f} seconds\")\n",
    "    \n",
    "    return end - start\n",
    "\n",
    "# Check optimization\n",
    "metadata_time = check_file_optimization(file_handler_opt)\n",
    "\n",
    "# 6. Try different cache configurations\n",
    "cache_configs = [\n",
    "    {'block_size': 4 * 1024 * 1024, 'cache_type': 'blockcache'},   # 4MB\n",
    "    {'block_size': 8 * 1024 * 1024, 'cache_type': 'blockcache'},   # 8MB  \n",
    "    {'block_size': 16 * 1024 * 1024, 'cache_type': 'blockcache'},  # 16MB\n",
    "    {'block_size': 32 * 1024 * 1024, 'cache_type': 'blockcache'}, # 32MB\n",
    "]\n",
    "\n",
    "print(\"\\nTesting different cache configurations:\")\n",
    "for i, config in enumerate(cache_configs):\n",
    "    print(f\"\\nConfig {i+1}: {config}\")\n",
    "    files_test = earthaccess.open([viirs_data[0]], \n",
    "                                open_kwargs=config, \n",
    "                                show_progress=False)\n",
    "    file_test = files_test[0]\n",
    "    print(f\"Cache: {file_test.f.cache}\")"
   ]
  },
  {
   "cell_type": "code",
   "execution_count": null,
   "id": "550ac988",
   "metadata": {},
   "outputs": [],
   "source": []
  },
  {
   "cell_type": "code",
   "execution_count": null,
   "id": "3347bef4",
   "metadata": {},
   "outputs": [],
   "source": [
    "import earthaccess\n",
    "import h5py\n",
    "import numpy as np\n",
    "import dask.array as da\n",
    "from dask.delayed import delayed\n",
    "from dask.diagnostics import ProgressBar\n",
    "\n",
    "# Extract individual bounding box values\n",
    "bbox = aoi.to_crs(4326).bounds.iloc[0]\n",
    "minx, miny, maxx, maxy = bbox\n",
    "\n",
    "# Search for VIIRS data\n",
    "viirs_data = earthaccess.search_data(\n",
    "    short_name=\"VNP14A1\",\n",
    "    bounding_box=(minx, miny, maxx, maxy),\n",
    "    cloud_hosted=True,\n",
    "    temporal=(\"2020-01\", \"2021-01\"),\n",
    ")\n",
    "\n",
    "print(f\"Found {len(viirs_data)} granules\")\n",
    "\n",
    "# Get coordinate system and find exact pixel bounds\n",
    "files = earthaccess.open([viirs_data[0]], show_progress=False)\n",
    "file_path = files[0]\n",
    "\n",
    "with h5py.File(file_path, 'r') as f:\n",
    "    xdim = f['HDFEOS/GRIDS/VIIRS_Grid_Daily_Fire/XDim'][:]\n",
    "    ydim = f['HDFEOS/GRIDS/VIIRS_Grid_Daily_Fire/YDim'][:]\n",
    "\n",
    "# Transform AOI to sinusoidal projection\n",
    "aoi_sinusoidal = aoi.to_crs(\"EPSG:4326\").to_crs(\"+proj=sinu +lon_0=0 +x_0=0 +y_0=0 +datum=WGS84 +units=m +no_defs\")\n",
    "aoi_bounds = aoi_sinusoidal.bounds.iloc[0]\n",
    "\n",
    "# Find exact pixel indices for your AOI\n",
    "x_indices = np.where((xdim >= aoi_bounds.iloc[0]) & (xdim <= aoi_bounds.iloc[2]))[0]\n",
    "y_indices = np.where((ydim >= aoi_bounds.iloc[1]) & (ydim <= aoi_bounds.iloc[3]))[0]\n",
    "\n",
    "print(f\"Cropping to {len(y_indices)} x {len(x_indices)} pixels instead of full {len(ydim)} x {len(xdim)}\")\n",
    "\n",
    "# Efficient lazy function that only loads the cropped area\n",
    "@delayed\n",
    "def process_granule_cropped(granule):\n",
    "    try:\n",
    "        files = earthaccess.open([granule], show_progress=False)\n",
    "        file_path = files[0]\n",
    "        \n",
    "        with h5py.File(file_path, 'r') as f:\n",
    "            # Use advanced indexing to load only the pixels we need\n",
    "            fire_mask = f['HDFEOS/GRIDS/VIIRS_Grid_Daily_Fire/Data Fields/FireMask'][y_indices, :][:, x_indices]\n",
    "            return (fire_mask >= 7).astype(np.int8)\n",
    "    except Exception as e:\n",
    "        print(f\"Error processing granule: {e}\")\n",
    "        return None\n",
    "\n",
    "# Create lazy arrays for cropped data only\n",
    "print(f\"Creating lazy arrays for {len(viirs_data)} granules...\")\n",
    "lazy_arrays = [process_granule_cropped(granule) for granule in viirs_data]\n",
    "\n",
    "# Stack into dask array with correct cropped dimensions\n",
    "fire_stack = da.stack([da.from_delayed(arr, dtype=np.int8, shape=(len(y_indices), len(x_indices))) \n",
    "                      for arr in lazy_arrays if arr is not None])\n",
    "\n",
    "# Sum across time dimension\n",
    "fire_count_map = da.sum(fire_stack, axis=0)\n",
    "\n",
    "# Compute with progress bar\n",
    "print(\"Computing fire count map...\")\n",
    "with ProgressBar():\n",
    "    fire_count_result = fire_count_map.compute()  # Fixed: was fire_count_result.compute()\n",
    "\n",
    "# Plot directly (no need to crop again)\n",
    "plt.figure(figsize=(12, 8))\n",
    "im = plt.imshow(fire_count_result, cmap='Reds', \n",
    "               extent=[xdim[x_indices].min(), xdim[x_indices].max(), \n",
    "                      ydim[y_indices].min(), ydim[y_indices].max()])\n",
    "\n",
    "aoi_sinusoidal.boundary.plot(ax=plt.gca(), color='black', linewidth=2)\n",
    "plt.title(f'Fire Observation Count ({len(viirs_data)} days)')\n",
    "plt.xlabel('X (meters)')\n",
    "plt.ylabel('Y (meters)')\n",
    "\n",
    "cbar = plt.colorbar(im)\n",
    "cbar.set_label('Number of Fire Observations')\n",
    "plt.show()\n",
    "\n",
    "print(f\"Maximum fire observations: {fire_count_result.max()}\")"
   ]
  },
  {
   "cell_type": "code",
   "execution_count": 19,
   "id": "ac8c8823",
   "metadata": {},
   "outputs": [
    {
     "name": "stdout",
     "output_type": "stream",
     "text": [
      "Found 3300 granules\n",
      "Cropping to 89 x 149 pixels instead of full 1200 x 1200\n",
      "Creating lazy arrays for 3300 granules...\n",
      "Computing fire count map...\n",
      "[##                                      ] | 7% Completed | 447.47 ss\n"
     ]
    },
    {
     "ename": "KeyboardInterrupt",
     "evalue": "",
     "output_type": "error",
     "traceback": [
      "\u001b[31m---------------------------------------------------------------------------\u001b[39m",
      "\u001b[31mKeyboardInterrupt\u001b[39m                         Traceback (most recent call last)",
      "\u001b[36mCell\u001b[39m\u001b[36m \u001b[39m\u001b[32mIn[19]\u001b[39m\u001b[32m, line 69\u001b[39m\n\u001b[32m     67\u001b[39m \u001b[38;5;28mprint\u001b[39m(\u001b[33m\"\u001b[39m\u001b[33mComputing fire count map...\u001b[39m\u001b[33m\"\u001b[39m)\n\u001b[32m     68\u001b[39m \u001b[38;5;28;01mwith\u001b[39;00m ProgressBar():\n\u001b[32m---> \u001b[39m\u001b[32m69\u001b[39m     fire_count_result = \u001b[43mfire_count_map\u001b[49m\u001b[43m.\u001b[49m\u001b[43mcompute\u001b[49m\u001b[43m(\u001b[49m\u001b[43m)\u001b[49m  \u001b[38;5;66;03m# Fixed: was fire_count_result.compute()\u001b[39;00m\n\u001b[32m     71\u001b[39m \u001b[38;5;66;03m# Plot directly (no need to crop again)\u001b[39;00m\n\u001b[32m     72\u001b[39m plt.figure(figsize=(\u001b[32m12\u001b[39m, \u001b[32m8\u001b[39m))\n",
      "\u001b[36mFile \u001b[39m\u001b[32m~/Documents/dev/fulbright/ciut-riesgo/.venv/lib/python3.12/site-packages/dask/base.py:373\u001b[39m, in \u001b[36mDaskMethodsMixin.compute\u001b[39m\u001b[34m(self, **kwargs)\u001b[39m\n\u001b[32m    349\u001b[39m \u001b[38;5;28;01mdef\u001b[39;00m\u001b[38;5;250m \u001b[39m\u001b[34mcompute\u001b[39m(\u001b[38;5;28mself\u001b[39m, **kwargs):\n\u001b[32m    350\u001b[39m \u001b[38;5;250m    \u001b[39m\u001b[33;03m\"\"\"Compute this dask collection\u001b[39;00m\n\u001b[32m    351\u001b[39m \n\u001b[32m    352\u001b[39m \u001b[33;03m    This turns a lazy Dask collection into its in-memory equivalent.\u001b[39;00m\n\u001b[32m   (...)\u001b[39m\u001b[32m    371\u001b[39m \u001b[33;03m    dask.compute\u001b[39;00m\n\u001b[32m    372\u001b[39m \u001b[33;03m    \"\"\"\u001b[39;00m\n\u001b[32m--> \u001b[39m\u001b[32m373\u001b[39m     (result,) = \u001b[43mcompute\u001b[49m\u001b[43m(\u001b[49m\u001b[38;5;28;43mself\u001b[39;49m\u001b[43m,\u001b[49m\u001b[43m \u001b[49m\u001b[43mtraverse\u001b[49m\u001b[43m=\u001b[49m\u001b[38;5;28;43;01mFalse\u001b[39;49;00m\u001b[43m,\u001b[49m\u001b[43m \u001b[49m\u001b[43m*\u001b[49m\u001b[43m*\u001b[49m\u001b[43mkwargs\u001b[49m\u001b[43m)\u001b[49m\n\u001b[32m    374\u001b[39m     \u001b[38;5;28;01mreturn\u001b[39;00m result\n",
      "\u001b[36mFile \u001b[39m\u001b[32m~/Documents/dev/fulbright/ciut-riesgo/.venv/lib/python3.12/site-packages/dask/base.py:681\u001b[39m, in \u001b[36mcompute\u001b[39m\u001b[34m(traverse, optimize_graph, scheduler, get, *args, **kwargs)\u001b[39m\n\u001b[32m    678\u001b[39m     expr = expr.optimize()\n\u001b[32m    679\u001b[39m     keys = \u001b[38;5;28mlist\u001b[39m(flatten(expr.__dask_keys__()))\n\u001b[32m--> \u001b[39m\u001b[32m681\u001b[39m     results = \u001b[43mschedule\u001b[49m\u001b[43m(\u001b[49m\u001b[43mexpr\u001b[49m\u001b[43m,\u001b[49m\u001b[43m \u001b[49m\u001b[43mkeys\u001b[49m\u001b[43m,\u001b[49m\u001b[43m \u001b[49m\u001b[43m*\u001b[49m\u001b[43m*\u001b[49m\u001b[43mkwargs\u001b[49m\u001b[43m)\u001b[49m\n\u001b[32m    683\u001b[39m \u001b[38;5;28;01mreturn\u001b[39;00m repack(results)\n",
      "\u001b[36mFile \u001b[39m\u001b[32m~/.pyenv/versions/3.12.2/lib/python3.12/queue.py:171\u001b[39m, in \u001b[36mQueue.get\u001b[39m\u001b[34m(self, block, timeout)\u001b[39m\n\u001b[32m    169\u001b[39m \u001b[38;5;28;01melif\u001b[39;00m timeout \u001b[38;5;129;01mis\u001b[39;00m \u001b[38;5;28;01mNone\u001b[39;00m:\n\u001b[32m    170\u001b[39m     \u001b[38;5;28;01mwhile\u001b[39;00m \u001b[38;5;129;01mnot\u001b[39;00m \u001b[38;5;28mself\u001b[39m._qsize():\n\u001b[32m--> \u001b[39m\u001b[32m171\u001b[39m         \u001b[38;5;28;43mself\u001b[39;49m\u001b[43m.\u001b[49m\u001b[43mnot_empty\u001b[49m\u001b[43m.\u001b[49m\u001b[43mwait\u001b[49m\u001b[43m(\u001b[49m\u001b[43m)\u001b[49m\n\u001b[32m    172\u001b[39m \u001b[38;5;28;01melif\u001b[39;00m timeout < \u001b[32m0\u001b[39m:\n\u001b[32m    173\u001b[39m     \u001b[38;5;28;01mraise\u001b[39;00m \u001b[38;5;167;01mValueError\u001b[39;00m(\u001b[33m\"\u001b[39m\u001b[33m'\u001b[39m\u001b[33mtimeout\u001b[39m\u001b[33m'\u001b[39m\u001b[33m must be a non-negative number\u001b[39m\u001b[33m\"\u001b[39m)\n",
      "\u001b[36mFile \u001b[39m\u001b[32m~/.pyenv/versions/3.12.2/lib/python3.12/threading.py:355\u001b[39m, in \u001b[36mCondition.wait\u001b[39m\u001b[34m(self, timeout)\u001b[39m\n\u001b[32m    353\u001b[39m \u001b[38;5;28;01mtry\u001b[39;00m:    \u001b[38;5;66;03m# restore state no matter what (e.g., KeyboardInterrupt)\u001b[39;00m\n\u001b[32m    354\u001b[39m     \u001b[38;5;28;01mif\u001b[39;00m timeout \u001b[38;5;129;01mis\u001b[39;00m \u001b[38;5;28;01mNone\u001b[39;00m:\n\u001b[32m--> \u001b[39m\u001b[32m355\u001b[39m         \u001b[43mwaiter\u001b[49m\u001b[43m.\u001b[49m\u001b[43macquire\u001b[49m\u001b[43m(\u001b[49m\u001b[43m)\u001b[49m\n\u001b[32m    356\u001b[39m         gotit = \u001b[38;5;28;01mTrue\u001b[39;00m\n\u001b[32m    357\u001b[39m     \u001b[38;5;28;01melse\u001b[39;00m:\n",
      "\u001b[31mKeyboardInterrupt\u001b[39m: "
     ]
    }
   ],
   "source": [
    "import earthaccess\n",
    "import h5py\n",
    "import numpy as np\n",
    "import dask.array as da\n",
    "from dask.delayed import delayed\n",
    "from dask.diagnostics import ProgressBar\n",
    "\n",
    "# Extract individual bounding box values\n",
    "bbox = aoi.to_crs(4326).bounds.iloc[0]\n",
    "minx, miny, maxx, maxy = bbox\n",
    "\n",
    "# Search for VIIRS data\n",
    "viirs_data = earthaccess.search_data(\n",
    "    short_name=\"VNP14A1\",\n",
    "    bounding_box=(minx, miny, maxx, maxy),\n",
    "    cloud_hosted=True,\n",
    "    temporal=(\"2001-01\", \"2021-01\"),\n",
    ")\n",
    "\n",
    "print(f\"Found {len(viirs_data)} granules\")\n",
    "\n",
    "# Get coordinate system and find exact pixel bounds\n",
    "files = earthaccess.open([viirs_data[0]], show_progress=False)\n",
    "file_path = files[0]\n",
    "\n",
    "with h5py.File(file_path, 'r') as f:\n",
    "    xdim = f['HDFEOS/GRIDS/VIIRS_Grid_Daily_Fire/XDim'][:]\n",
    "    ydim = f['HDFEOS/GRIDS/VIIRS_Grid_Daily_Fire/YDim'][:]\n",
    "\n",
    "# Transform AOI to sinusoidal projection\n",
    "aoi_sinusoidal = aoi.to_crs(\"EPSG:4326\").to_crs(\"+proj=sinu +lon_0=0 +x_0=0 +y_0=0 +datum=WGS84 +units=m +no_defs\")\n",
    "aoi_bounds = aoi_sinusoidal.bounds.iloc[0]\n",
    "\n",
    "# Find exact pixel indices for your AOI\n",
    "x_indices = np.where((xdim >= aoi_bounds.iloc[0]) & (xdim <= aoi_bounds.iloc[2]))[0]\n",
    "y_indices = np.where((ydim >= aoi_bounds.iloc[1]) & (ydim <= aoi_bounds.iloc[3]))[0]\n",
    "\n",
    "print(f\"Cropping to {len(y_indices)} x {len(x_indices)} pixels instead of full {len(ydim)} x {len(xdim)}\")\n",
    "\n",
    "# Efficient lazy function that only loads the cropped area\n",
    "@delayed\n",
    "def process_granule_cropped(granule):\n",
    "    try:\n",
    "        files = earthaccess.open([granule], show_progress=False)\n",
    "        file_path = files[0]\n",
    "        \n",
    "        with h5py.File(file_path, 'r') as f:\n",
    "            # Use advanced indexing to load only the pixels we need\n",
    "            fire_mask = f['HDFEOS/GRIDS/VIIRS_Grid_Daily_Fire/Data Fields/FireMask'][y_indices, :][:, x_indices]\n",
    "            return (fire_mask >= 7).astype(np.int8)\n",
    "    except Exception as e:\n",
    "        print(f\"Error processing granule: {e}\")\n",
    "        return None\n",
    "\n",
    "# Create lazy arrays for cropped data only\n",
    "print(f\"Creating lazy arrays for {len(viirs_data)} granules...\")\n",
    "lazy_arrays = [process_granule_cropped(granule) for granule in viirs_data]\n",
    "\n",
    "# Stack into dask array with correct cropped dimensions\n",
    "fire_stack = da.stack([da.from_delayed(arr, dtype=np.int8, shape=(len(y_indices), len(x_indices))) \n",
    "                      for arr in lazy_arrays if arr is not None])\n",
    "\n",
    "# Sum across time dimension\n",
    "fire_count_map = da.sum(fire_stack, axis=0)\n",
    "\n",
    "# Compute with progress bar\n",
    "print(\"Computing fire count map...\")\n",
    "with ProgressBar():\n",
    "    fire_count_result = fire_count_map.compute()  # Fixed: was fire_count_result.compute()\n",
    "\n",
    "# Plot directly (no need to crop again)\n",
    "plt.figure(figsize=(12, 8))\n",
    "im = plt.imshow(fire_count_result, cmap='Reds', \n",
    "               extent=[xdim[x_indices].min(), xdim[x_indices].max(), \n",
    "                      ydim[y_indices].min(), ydim[y_indices].max()])\n",
    "\n",
    "aoi_sinusoidal.boundary.plot(ax=plt.gca(), color='black', linewidth=2)\n",
    "plt.title(f'Fire Observation Count ({len(viirs_data)} days)')\n",
    "plt.xlabel('X (meters)')\n",
    "plt.ylabel('Y (meters)')\n",
    "\n",
    "cbar = plt.colorbar(im)\n",
    "cbar.set_label('Number of Fire Observations')\n",
    "plt.show()\n",
    "\n",
    "print(f\"Maximum fire observations: {fire_count_result.max()}\")"
   ]
  },
  {
   "cell_type": "code",
   "execution_count": 10,
   "id": "b0cef246",
   "metadata": {},
   "outputs": [
    {
     "name": "stdout",
     "output_type": "stream",
     "text": [
      "Creating lazy arrays for 59 granules...\n",
      "Stacking lazy arrays...\n",
      "Computing fire count map (lazy)...\n"
     ]
    },
    {
     "data": {
      "application/vnd.jupyter.widget-view+json": {
       "model_id": "82d2f8ca0f7a4a8b9877765b92051ee5",
       "version_major": 2,
       "version_minor": 0
      },
      "text/plain": [
       "QUEUEING TASKS | :   0%|          | 0/1 [00:00<?, ?it/s]"
      ]
     },
     "metadata": {},
     "output_type": "display_data"
    },
    {
     "data": {
      "application/vnd.jupyter.widget-view+json": {
       "model_id": "55f7efb9e382402387e94645bed2b772",
       "version_major": 2,
       "version_minor": 0
      },
      "text/plain": [
       "PROCESSING TASKS | :   0%|          | 0/1 [00:00<?, ?it/s]"
      ]
     },
     "metadata": {},
     "output_type": "display_data"
    },
    {
     "data": {
      "application/vnd.jupyter.widget-view+json": {
       "model_id": "f9faa4631ce44eccb14dca2d2058a459",
       "version_major": 2,
       "version_minor": 0
      },
      "text/plain": [
       "COLLECTING RESULTS | :   0%|          | 0/1 [00:00<?, ?it/s]"
      ]
     },
     "metadata": {},
     "output_type": "display_data"
    },
    {
     "name": "stdout",
     "output_type": "stream",
     "text": [
      "Computing final result...\n"
     ]
    },
    {
     "data": {
      "application/vnd.jupyter.widget-view+json": {
       "model_id": "478528dc0d814d0ea43993ec7a2821ec",
       "version_major": 2,
       "version_minor": 0
      },
      "text/plain": [
       "QUEUEING TASKS | :   0%|          | 0/1 [00:00<?, ?it/s]"
      ]
     },
     "metadata": {},
     "output_type": "display_data"
    },
    {
     "data": {
      "application/vnd.jupyter.widget-view+json": {
       "model_id": "851ca44582d645a7be0aff9dfa65471f",
       "version_major": 2,
       "version_minor": 0
      },
      "text/plain": [
       "QUEUEING TASKS | :   0%|          | 0/1 [00:00<?, ?it/s]"
      ]
     },
     "metadata": {},
     "output_type": "display_data"
    },
    {
     "data": {
      "application/vnd.jupyter.widget-view+json": {
       "model_id": "bf376b5126a0424991224482cf0d2c17",
       "version_major": 2,
       "version_minor": 0
      },
      "text/plain": [
       "QUEUEING TASKS | :   0%|          | 0/1 [00:00<?, ?it/s]"
      ]
     },
     "metadata": {},
     "output_type": "display_data"
    },
    {
     "data": {
      "application/vnd.jupyter.widget-view+json": {
       "model_id": "0c1bb2b3a4d54ad6a2f235074aba6832",
       "version_major": 2,
       "version_minor": 0
      },
      "text/plain": [
       "QUEUEING TASKS | :   0%|          | 0/1 [00:00<?, ?it/s]"
      ]
     },
     "metadata": {},
     "output_type": "display_data"
    },
    {
     "data": {
      "application/vnd.jupyter.widget-view+json": {
       "model_id": "660463252ee149ada2c4fa9ecf2a1df4",
       "version_major": 2,
       "version_minor": 0
      },
      "text/plain": [
       "QUEUEING TASKS | :   0%|          | 0/1 [00:00<?, ?it/s]"
      ]
     },
     "metadata": {},
     "output_type": "display_data"
    },
    {
     "data": {
      "application/vnd.jupyter.widget-view+json": {
       "model_id": "4ba2d4571fd4483d823703f2a84a77ca",
       "version_major": 2,
       "version_minor": 0
      },
      "text/plain": [
       "QUEUEING TASKS | :   0%|          | 0/1 [00:00<?, ?it/s]"
      ]
     },
     "metadata": {},
     "output_type": "display_data"
    },
    {
     "data": {
      "application/vnd.jupyter.widget-view+json": {
       "model_id": "66b73add209f4227808e47df514dba60",
       "version_major": 2,
       "version_minor": 0
      },
      "text/plain": [
       "QUEUEING TASKS | :   0%|          | 0/1 [00:00<?, ?it/s]"
      ]
     },
     "metadata": {},
     "output_type": "display_data"
    },
    {
     "data": {
      "application/vnd.jupyter.widget-view+json": {
       "model_id": "69df87be015b4e758d34468b87b04d16",
       "version_major": 2,
       "version_minor": 0
      },
      "text/plain": [
       "QUEUEING TASKS | :   0%|          | 0/1 [00:00<?, ?it/s]"
      ]
     },
     "metadata": {},
     "output_type": "display_data"
    },
    {
     "data": {
      "application/vnd.jupyter.widget-view+json": {
       "model_id": "8a6dd6e48a5c4712932161d49764cac1",
       "version_major": 2,
       "version_minor": 0
      },
      "text/plain": [
       "QUEUEING TASKS | :   0%|          | 0/1 [00:00<?, ?it/s]"
      ]
     },
     "metadata": {},
     "output_type": "display_data"
    },
    {
     "data": {
      "application/vnd.jupyter.widget-view+json": {
       "model_id": "08c96b870fa84519bbf2acb92647c2ba",
       "version_major": 2,
       "version_minor": 0
      },
      "text/plain": [
       "QUEUEING TASKS | :   0%|          | 0/1 [00:00<?, ?it/s]"
      ]
     },
     "metadata": {},
     "output_type": "display_data"
    },
    {
     "data": {
      "application/vnd.jupyter.widget-view+json": {
       "model_id": "7bd84b83b51b49b29a7470755aefbac7",
       "version_major": 2,
       "version_minor": 0
      },
      "text/plain": [
       "QUEUEING TASKS | :   0%|          | 0/1 [00:00<?, ?it/s]"
      ]
     },
     "metadata": {},
     "output_type": "display_data"
    },
    {
     "data": {
      "application/vnd.jupyter.widget-view+json": {
       "model_id": "79f28c0c385648fcbe8a483f976fe0e1",
       "version_major": 2,
       "version_minor": 0
      },
      "text/plain": [
       "QUEUEING TASKS | :   0%|          | 0/1 [00:00<?, ?it/s]"
      ]
     },
     "metadata": {},
     "output_type": "display_data"
    },
    {
     "data": {
      "application/vnd.jupyter.widget-view+json": {
       "model_id": "fd5d76ef37f942859c3e598d73dcaf8b",
       "version_major": 2,
       "version_minor": 0
      },
      "text/plain": [
       "QUEUEING TASKS | :   0%|          | 0/1 [00:00<?, ?it/s]"
      ]
     },
     "metadata": {},
     "output_type": "display_data"
    },
    {
     "data": {
      "application/vnd.jupyter.widget-view+json": {
       "model_id": "c6ae8874dee5450fab9e4a56046f821e",
       "version_major": 2,
       "version_minor": 0
      },
      "text/plain": [
       "QUEUEING TASKS | :   0%|          | 0/1 [00:00<?, ?it/s]"
      ]
     },
     "metadata": {},
     "output_type": "display_data"
    },
    {
     "data": {
      "application/vnd.jupyter.widget-view+json": {
       "model_id": "f467ee15d0a744cfa73bf15d95ac9a1d",
       "version_major": 2,
       "version_minor": 0
      },
      "text/plain": [
       "QUEUEING TASKS | :   0%|          | 0/1 [00:00<?, ?it/s]"
      ]
     },
     "metadata": {},
     "output_type": "display_data"
    },
    {
     "data": {
      "application/vnd.jupyter.widget-view+json": {
       "model_id": "939a8e8c16454d939e3d3cd5f0749505",
       "version_major": 2,
       "version_minor": 0
      },
      "text/plain": [
       "QUEUEING TASKS | :   0%|          | 0/1 [00:00<?, ?it/s]"
      ]
     },
     "metadata": {},
     "output_type": "display_data"
    },
    {
     "data": {
      "application/vnd.jupyter.widget-view+json": {
       "model_id": "10172d9db59f4c46a12668753c4ec297",
       "version_major": 2,
       "version_minor": 0
      },
      "text/plain": [
       "PROCESSING TASKS | :   0%|          | 0/1 [00:00<?, ?it/s]"
      ]
     },
     "metadata": {},
     "output_type": "display_data"
    },
    {
     "data": {
      "application/vnd.jupyter.widget-view+json": {
       "model_id": "52f490e2f2d3451bbb86340765b37178",
       "version_major": 2,
       "version_minor": 0
      },
      "text/plain": [
       "PROCESSING TASKS | :   0%|          | 0/1 [00:00<?, ?it/s]"
      ]
     },
     "metadata": {},
     "output_type": "display_data"
    },
    {
     "data": {
      "application/vnd.jupyter.widget-view+json": {
       "model_id": "93da56415a094b9eb9e707bf43a9bbcc",
       "version_major": 2,
       "version_minor": 0
      },
      "text/plain": [
       "PROCESSING TASKS | :   0%|          | 0/1 [00:00<?, ?it/s]"
      ]
     },
     "metadata": {},
     "output_type": "display_data"
    },
    {
     "data": {
      "application/vnd.jupyter.widget-view+json": {
       "model_id": "00f616bde3774c46977548576bf4715f",
       "version_major": 2,
       "version_minor": 0
      },
      "text/plain": [
       "PROCESSING TASKS | :   0%|          | 0/1 [00:00<?, ?it/s]"
      ]
     },
     "metadata": {},
     "output_type": "display_data"
    },
    {
     "data": {
      "application/vnd.jupyter.widget-view+json": {
       "model_id": "53aa0eef5fe84b1c813763318ec04708",
       "version_major": 2,
       "version_minor": 0
      },
      "text/plain": [
       "PROCESSING TASKS | :   0%|          | 0/1 [00:00<?, ?it/s]"
      ]
     },
     "metadata": {},
     "output_type": "display_data"
    },
    {
     "data": {
      "application/vnd.jupyter.widget-view+json": {
       "model_id": "b1a8c2c4747b4f6f8cbcc2930fe1b570",
       "version_major": 2,
       "version_minor": 0
      },
      "text/plain": [
       "PROCESSING TASKS | :   0%|          | 0/1 [00:00<?, ?it/s]"
      ]
     },
     "metadata": {},
     "output_type": "display_data"
    },
    {
     "data": {
      "application/vnd.jupyter.widget-view+json": {
       "model_id": "313d875ecaab482885b69ed268584003",
       "version_major": 2,
       "version_minor": 0
      },
      "text/plain": [
       "PROCESSING TASKS | :   0%|          | 0/1 [00:00<?, ?it/s]"
      ]
     },
     "metadata": {},
     "output_type": "display_data"
    },
    {
     "data": {
      "application/vnd.jupyter.widget-view+json": {
       "model_id": "609bed8962d24cf9a326e7971bfcc3ad",
       "version_major": 2,
       "version_minor": 0
      },
      "text/plain": [
       "PROCESSING TASKS | :   0%|          | 0/1 [00:00<?, ?it/s]"
      ]
     },
     "metadata": {},
     "output_type": "display_data"
    },
    {
     "data": {
      "application/vnd.jupyter.widget-view+json": {
       "model_id": "fb0c1216e9a94db185c89b94e1c7fa7d",
       "version_major": 2,
       "version_minor": 0
      },
      "text/plain": [
       "PROCESSING TASKS | :   0%|          | 0/1 [00:00<?, ?it/s]"
      ]
     },
     "metadata": {},
     "output_type": "display_data"
    },
    {
     "data": {
      "application/vnd.jupyter.widget-view+json": {
       "model_id": "1b1fe8589b7641349a3a31a6f758f814",
       "version_major": 2,
       "version_minor": 0
      },
      "text/plain": [
       "PROCESSING TASKS | :   0%|          | 0/1 [00:00<?, ?it/s]"
      ]
     },
     "metadata": {},
     "output_type": "display_data"
    },
    {
     "data": {
      "application/vnd.jupyter.widget-view+json": {
       "model_id": "8e8dc4d761204f9ab76762e9306851b8",
       "version_major": 2,
       "version_minor": 0
      },
      "text/plain": [
       "PROCESSING TASKS | :   0%|          | 0/1 [00:00<?, ?it/s]"
      ]
     },
     "metadata": {},
     "output_type": "display_data"
    },
    {
     "data": {
      "application/vnd.jupyter.widget-view+json": {
       "model_id": "05f8bc35224042e6b009fcf872f1bb3d",
       "version_major": 2,
       "version_minor": 0
      },
      "text/plain": [
       "PROCESSING TASKS | :   0%|          | 0/1 [00:00<?, ?it/s]"
      ]
     },
     "metadata": {},
     "output_type": "display_data"
    },
    {
     "data": {
      "application/vnd.jupyter.widget-view+json": {
       "model_id": "b5706b0339914c3e904e82eaaf999f50",
       "version_major": 2,
       "version_minor": 0
      },
      "text/plain": [
       "PROCESSING TASKS | :   0%|          | 0/1 [00:00<?, ?it/s]"
      ]
     },
     "metadata": {},
     "output_type": "display_data"
    },
    {
     "data": {
      "application/vnd.jupyter.widget-view+json": {
       "model_id": "266da379a65e4c7699a2424720489ecb",
       "version_major": 2,
       "version_minor": 0
      },
      "text/plain": [
       "PROCESSING TASKS | :   0%|          | 0/1 [00:00<?, ?it/s]"
      ]
     },
     "metadata": {},
     "output_type": "display_data"
    },
    {
     "data": {
      "application/vnd.jupyter.widget-view+json": {
       "model_id": "2f96f8abbbc349b8a372b7f51769b836",
       "version_major": 2,
       "version_minor": 0
      },
      "text/plain": [
       "PROCESSING TASKS | :   0%|          | 0/1 [00:00<?, ?it/s]"
      ]
     },
     "metadata": {},
     "output_type": "display_data"
    },
    {
     "data": {
      "application/vnd.jupyter.widget-view+json": {
       "model_id": "e142b09222114b4689087a753428650d",
       "version_major": 2,
       "version_minor": 0
      },
      "text/plain": [
       "PROCESSING TASKS | :   0%|          | 0/1 [00:00<?, ?it/s]"
      ]
     },
     "metadata": {},
     "output_type": "display_data"
    },
    {
     "data": {
      "application/vnd.jupyter.widget-view+json": {
       "model_id": "f87f84ad1f854d6f8ad5ae239bf9fbe0",
       "version_major": 2,
       "version_minor": 0
      },
      "text/plain": [
       "COLLECTING RESULTS | :   0%|          | 0/1 [00:00<?, ?it/s]"
      ]
     },
     "metadata": {},
     "output_type": "display_data"
    },
    {
     "data": {
      "application/vnd.jupyter.widget-view+json": {
       "model_id": "96526d7db4df4de2be8829094a13b943",
       "version_major": 2,
       "version_minor": 0
      },
      "text/plain": [
       "COLLECTING RESULTS | :   0%|          | 0/1 [00:00<?, ?it/s]"
      ]
     },
     "metadata": {},
     "output_type": "display_data"
    },
    {
     "data": {
      "application/vnd.jupyter.widget-view+json": {
       "model_id": "9033f58a652d431ca488f4672153037a",
       "version_major": 2,
       "version_minor": 0
      },
      "text/plain": [
       "COLLECTING RESULTS | :   0%|          | 0/1 [00:00<?, ?it/s]"
      ]
     },
     "metadata": {},
     "output_type": "display_data"
    },
    {
     "data": {
      "application/vnd.jupyter.widget-view+json": {
       "model_id": "57f0641551484282842a133a0a2f1b0f",
       "version_major": 2,
       "version_minor": 0
      },
      "text/plain": [
       "COLLECTING RESULTS | :   0%|          | 0/1 [00:00<?, ?it/s]"
      ]
     },
     "metadata": {},
     "output_type": "display_data"
    },
    {
     "data": {
      "application/vnd.jupyter.widget-view+json": {
       "model_id": "3274b8d040684631bfe4946e9542e06c",
       "version_major": 2,
       "version_minor": 0
      },
      "text/plain": [
       "COLLECTING RESULTS | :   0%|          | 0/1 [00:00<?, ?it/s]"
      ]
     },
     "metadata": {},
     "output_type": "display_data"
    },
    {
     "data": {
      "application/vnd.jupyter.widget-view+json": {
       "model_id": "5508b6e183cf40b1940e883f2c20e5a9",
       "version_major": 2,
       "version_minor": 0
      },
      "text/plain": [
       "COLLECTING RESULTS | :   0%|          | 0/1 [00:00<?, ?it/s]"
      ]
     },
     "metadata": {},
     "output_type": "display_data"
    },
    {
     "data": {
      "application/vnd.jupyter.widget-view+json": {
       "model_id": "96ba0e8694724574a836b5be23d2683d",
       "version_major": 2,
       "version_minor": 0
      },
      "text/plain": [
       "COLLECTING RESULTS | :   0%|          | 0/1 [00:00<?, ?it/s]"
      ]
     },
     "metadata": {},
     "output_type": "display_data"
    },
    {
     "data": {
      "application/vnd.jupyter.widget-view+json": {
       "model_id": "1c93b6ddfe9b4a959364774bb1c42f16",
       "version_major": 2,
       "version_minor": 0
      },
      "text/plain": [
       "COLLECTING RESULTS | :   0%|          | 0/1 [00:00<?, ?it/s]"
      ]
     },
     "metadata": {},
     "output_type": "display_data"
    },
    {
     "data": {
      "application/vnd.jupyter.widget-view+json": {
       "model_id": "288f74c038b44f8895550af511c0ec6c",
       "version_major": 2,
       "version_minor": 0
      },
      "text/plain": [
       "COLLECTING RESULTS | :   0%|          | 0/1 [00:00<?, ?it/s]"
      ]
     },
     "metadata": {},
     "output_type": "display_data"
    },
    {
     "data": {
      "application/vnd.jupyter.widget-view+json": {
       "model_id": "130dbd465d97491ab2ac79a21f41331b",
       "version_major": 2,
       "version_minor": 0
      },
      "text/plain": [
       "COLLECTING RESULTS | :   0%|          | 0/1 [00:00<?, ?it/s]"
      ]
     },
     "metadata": {},
     "output_type": "display_data"
    },
    {
     "data": {
      "application/vnd.jupyter.widget-view+json": {
       "model_id": "2c1cfb05543947229156263183f3267d",
       "version_major": 2,
       "version_minor": 0
      },
      "text/plain": [
       "COLLECTING RESULTS | :   0%|          | 0/1 [00:00<?, ?it/s]"
      ]
     },
     "metadata": {},
     "output_type": "display_data"
    },
    {
     "data": {
      "application/vnd.jupyter.widget-view+json": {
       "model_id": "d8e52b0ce7a2474b966f7d549bda70ad",
       "version_major": 2,
       "version_minor": 0
      },
      "text/plain": [
       "COLLECTING RESULTS | :   0%|          | 0/1 [00:00<?, ?it/s]"
      ]
     },
     "metadata": {},
     "output_type": "display_data"
    },
    {
     "data": {
      "application/vnd.jupyter.widget-view+json": {
       "model_id": "c39ef889563c49699a28926730d6d79f",
       "version_major": 2,
       "version_minor": 0
      },
      "text/plain": [
       "COLLECTING RESULTS | :   0%|          | 0/1 [00:00<?, ?it/s]"
      ]
     },
     "metadata": {},
     "output_type": "display_data"
    },
    {
     "data": {
      "application/vnd.jupyter.widget-view+json": {
       "model_id": "722126b7efa84c1dbc306b1bdda02af9",
       "version_major": 2,
       "version_minor": 0
      },
      "text/plain": [
       "COLLECTING RESULTS | :   0%|          | 0/1 [00:00<?, ?it/s]"
      ]
     },
     "metadata": {},
     "output_type": "display_data"
    },
    {
     "data": {
      "application/vnd.jupyter.widget-view+json": {
       "model_id": "0229fa455ff447bfb8d72ffc334462cb",
       "version_major": 2,
       "version_minor": 0
      },
      "text/plain": [
       "COLLECTING RESULTS | :   0%|          | 0/1 [00:00<?, ?it/s]"
      ]
     },
     "metadata": {},
     "output_type": "display_data"
    },
    {
     "data": {
      "application/vnd.jupyter.widget-view+json": {
       "model_id": "9ccea1ba71524c25b4867cb22f8658b9",
       "version_major": 2,
       "version_minor": 0
      },
      "text/plain": [
       "COLLECTING RESULTS | :   0%|          | 0/1 [00:00<?, ?it/s]"
      ]
     },
     "metadata": {},
     "output_type": "display_data"
    },
    {
     "data": {
      "application/vnd.jupyter.widget-view+json": {
       "model_id": "6c9ff0e4156a4b52b1370d47d1999254",
       "version_major": 2,
       "version_minor": 0
      },
      "text/plain": [
       "QUEUEING TASKS | :   0%|          | 0/1 [00:00<?, ?it/s]"
      ]
     },
     "metadata": {},
     "output_type": "display_data"
    },
    {
     "data": {
      "application/vnd.jupyter.widget-view+json": {
       "model_id": "2b622e1543ad4777a438202b0f760404",
       "version_major": 2,
       "version_minor": 0
      },
      "text/plain": [
       "QUEUEING TASKS | :   0%|          | 0/1 [00:00<?, ?it/s]"
      ]
     },
     "metadata": {},
     "output_type": "display_data"
    },
    {
     "data": {
      "application/vnd.jupyter.widget-view+json": {
       "model_id": "841f79bccd1247e68b91b84b7376b3f2",
       "version_major": 2,
       "version_minor": 0
      },
      "text/plain": [
       "PROCESSING TASKS | :   0%|          | 0/1 [00:00<?, ?it/s]"
      ]
     },
     "metadata": {},
     "output_type": "display_data"
    },
    {
     "data": {
      "application/vnd.jupyter.widget-view+json": {
       "model_id": "51802e0a3a9746bda7ef7ba1772b4f65",
       "version_major": 2,
       "version_minor": 0
      },
      "text/plain": [
       "PROCESSING TASKS | :   0%|          | 0/1 [00:00<?, ?it/s]"
      ]
     },
     "metadata": {},
     "output_type": "display_data"
    },
    {
     "data": {
      "application/vnd.jupyter.widget-view+json": {
       "model_id": "c4d497299d3c470f91926291cd593856",
       "version_major": 2,
       "version_minor": 0
      },
      "text/plain": [
       "QUEUEING TASKS | :   0%|          | 0/1 [00:00<?, ?it/s]"
      ]
     },
     "metadata": {},
     "output_type": "display_data"
    },
    {
     "data": {
      "application/vnd.jupyter.widget-view+json": {
       "model_id": "62e1bafbabe74a259463010e992b2c8b",
       "version_major": 2,
       "version_minor": 0
      },
      "text/plain": [
       "PROCESSING TASKS | :   0%|          | 0/1 [00:00<?, ?it/s]"
      ]
     },
     "metadata": {},
     "output_type": "display_data"
    },
    {
     "data": {
      "application/vnd.jupyter.widget-view+json": {
       "model_id": "5e8a47d4e88b4124a85e174fd713da14",
       "version_major": 2,
       "version_minor": 0
      },
      "text/plain": [
       "COLLECTING RESULTS | :   0%|          | 0/1 [00:00<?, ?it/s]"
      ]
     },
     "metadata": {},
     "output_type": "display_data"
    },
    {
     "data": {
      "application/vnd.jupyter.widget-view+json": {
       "model_id": "bdcdcef5aad54a8fac82ba1f0e5014cd",
       "version_major": 2,
       "version_minor": 0
      },
      "text/plain": [
       "COLLECTING RESULTS | :   0%|          | 0/1 [00:00<?, ?it/s]"
      ]
     },
     "metadata": {},
     "output_type": "display_data"
    },
    {
     "data": {
      "application/vnd.jupyter.widget-view+json": {
       "model_id": "2a6e0b74f1fe46acb14a3fe180abcc40",
       "version_major": 2,
       "version_minor": 0
      },
      "text/plain": [
       "COLLECTING RESULTS | :   0%|          | 0/1 [00:00<?, ?it/s]"
      ]
     },
     "metadata": {},
     "output_type": "display_data"
    },
    {
     "data": {
      "application/vnd.jupyter.widget-view+json": {
       "model_id": "a64c9d3142f44f4288f2a988833e24e1",
       "version_major": 2,
       "version_minor": 0
      },
      "text/plain": [
       "QUEUEING TASKS | :   0%|          | 0/1 [00:00<?, ?it/s]"
      ]
     },
     "metadata": {},
     "output_type": "display_data"
    },
    {
     "data": {
      "application/vnd.jupyter.widget-view+json": {
       "model_id": "5167dfd50ea140859eee8452ca032661",
       "version_major": 2,
       "version_minor": 0
      },
      "text/plain": [
       "PROCESSING TASKS | :   0%|          | 0/1 [00:00<?, ?it/s]"
      ]
     },
     "metadata": {},
     "output_type": "display_data"
    },
    {
     "data": {
      "application/vnd.jupyter.widget-view+json": {
       "model_id": "8ea89466495348b2a4ebbcdacfc12fac",
       "version_major": 2,
       "version_minor": 0
      },
      "text/plain": [
       "COLLECTING RESULTS | :   0%|          | 0/1 [00:00<?, ?it/s]"
      ]
     },
     "metadata": {},
     "output_type": "display_data"
    },
    {
     "data": {
      "application/vnd.jupyter.widget-view+json": {
       "model_id": "0848cb753632444e9c91e356501353a9",
       "version_major": 2,
       "version_minor": 0
      },
      "text/plain": [
       "QUEUEING TASKS | :   0%|          | 0/1 [00:00<?, ?it/s]"
      ]
     },
     "metadata": {},
     "output_type": "display_data"
    },
    {
     "data": {
      "application/vnd.jupyter.widget-view+json": {
       "model_id": "556fa46cb15f416ba3fdf26bcf99dce4",
       "version_major": 2,
       "version_minor": 0
      },
      "text/plain": [
       "QUEUEING TASKS | :   0%|          | 0/1 [00:00<?, ?it/s]"
      ]
     },
     "metadata": {},
     "output_type": "display_data"
    },
    {
     "data": {
      "application/vnd.jupyter.widget-view+json": {
       "model_id": "45e8ecab669c4d7b81874552c116b959",
       "version_major": 2,
       "version_minor": 0
      },
      "text/plain": [
       "PROCESSING TASKS | :   0%|          | 0/1 [00:00<?, ?it/s]"
      ]
     },
     "metadata": {},
     "output_type": "display_data"
    },
    {
     "data": {
      "application/vnd.jupyter.widget-view+json": {
       "model_id": "d9504392966d4ee59be5c0445b672b60",
       "version_major": 2,
       "version_minor": 0
      },
      "text/plain": [
       "PROCESSING TASKS | :   0%|          | 0/1 [00:00<?, ?it/s]"
      ]
     },
     "metadata": {},
     "output_type": "display_data"
    },
    {
     "data": {
      "application/vnd.jupyter.widget-view+json": {
       "model_id": "1c4c5e8e423a487e8c713f44e63f3819",
       "version_major": 2,
       "version_minor": 0
      },
      "text/plain": [
       "COLLECTING RESULTS | :   0%|          | 0/1 [00:00<?, ?it/s]"
      ]
     },
     "metadata": {},
     "output_type": "display_data"
    },
    {
     "data": {
      "application/vnd.jupyter.widget-view+json": {
       "model_id": "0d6d251422664f0db010138e5fbc0af6",
       "version_major": 2,
       "version_minor": 0
      },
      "text/plain": [
       "COLLECTING RESULTS | :   0%|          | 0/1 [00:00<?, ?it/s]"
      ]
     },
     "metadata": {},
     "output_type": "display_data"
    },
    {
     "data": {
      "application/vnd.jupyter.widget-view+json": {
       "model_id": "e76fbfb70b4f479084c892d99466762c",
       "version_major": 2,
       "version_minor": 0
      },
      "text/plain": [
       "QUEUEING TASKS | :   0%|          | 0/1 [00:00<?, ?it/s]"
      ]
     },
     "metadata": {},
     "output_type": "display_data"
    },
    {
     "data": {
      "application/vnd.jupyter.widget-view+json": {
       "model_id": "308ae694ba91483cb094ffc76d934dde",
       "version_major": 2,
       "version_minor": 0
      },
      "text/plain": [
       "PROCESSING TASKS | :   0%|          | 0/1 [00:00<?, ?it/s]"
      ]
     },
     "metadata": {},
     "output_type": "display_data"
    },
    {
     "data": {
      "application/vnd.jupyter.widget-view+json": {
       "model_id": "8c4661cf73e340a6a4d229a759f388e9",
       "version_major": 2,
       "version_minor": 0
      },
      "text/plain": [
       "COLLECTING RESULTS | :   0%|          | 0/1 [00:00<?, ?it/s]"
      ]
     },
     "metadata": {},
     "output_type": "display_data"
    },
    {
     "data": {
      "application/vnd.jupyter.widget-view+json": {
       "model_id": "d08d24f5693049f7879ceec4681be773",
       "version_major": 2,
       "version_minor": 0
      },
      "text/plain": [
       "QUEUEING TASKS | :   0%|          | 0/1 [00:00<?, ?it/s]"
      ]
     },
     "metadata": {},
     "output_type": "display_data"
    },
    {
     "data": {
      "application/vnd.jupyter.widget-view+json": {
       "model_id": "b6af44f0e61e459093652d87a2a0909c",
       "version_major": 2,
       "version_minor": 0
      },
      "text/plain": [
       "PROCESSING TASKS | :   0%|          | 0/1 [00:00<?, ?it/s]"
      ]
     },
     "metadata": {},
     "output_type": "display_data"
    },
    {
     "data": {
      "application/vnd.jupyter.widget-view+json": {
       "model_id": "214f305978124c9db066df3adc0ba721",
       "version_major": 2,
       "version_minor": 0
      },
      "text/plain": [
       "QUEUEING TASKS | :   0%|          | 0/1 [00:00<?, ?it/s]"
      ]
     },
     "metadata": {},
     "output_type": "display_data"
    },
    {
     "data": {
      "application/vnd.jupyter.widget-view+json": {
       "model_id": "380de9f238c24a039a6ee957534fb1d3",
       "version_major": 2,
       "version_minor": 0
      },
      "text/plain": [
       "QUEUEING TASKS | :   0%|          | 0/1 [00:00<?, ?it/s]"
      ]
     },
     "metadata": {},
     "output_type": "display_data"
    },
    {
     "data": {
      "application/vnd.jupyter.widget-view+json": {
       "model_id": "b623ef57584b4f70be0200b5186bd42d",
       "version_major": 2,
       "version_minor": 0
      },
      "text/plain": [
       "PROCESSING TASKS | :   0%|          | 0/1 [00:00<?, ?it/s]"
      ]
     },
     "metadata": {},
     "output_type": "display_data"
    },
    {
     "data": {
      "application/vnd.jupyter.widget-view+json": {
       "model_id": "c08ace38e98d4722abf9a7aa7f0851fe",
       "version_major": 2,
       "version_minor": 0
      },
      "text/plain": [
       "PROCESSING TASKS | :   0%|          | 0/1 [00:00<?, ?it/s]"
      ]
     },
     "metadata": {},
     "output_type": "display_data"
    },
    {
     "data": {
      "application/vnd.jupyter.widget-view+json": {
       "model_id": "c35765f9e16c470680fb9965f24e83c1",
       "version_major": 2,
       "version_minor": 0
      },
      "text/plain": [
       "QUEUEING TASKS | :   0%|          | 0/1 [00:00<?, ?it/s]"
      ]
     },
     "metadata": {},
     "output_type": "display_data"
    },
    {
     "data": {
      "application/vnd.jupyter.widget-view+json": {
       "model_id": "c30c446c9bcf4d95bdfc5a63d4806cf4",
       "version_major": 2,
       "version_minor": 0
      },
      "text/plain": [
       "PROCESSING TASKS | :   0%|          | 0/1 [00:00<?, ?it/s]"
      ]
     },
     "metadata": {},
     "output_type": "display_data"
    },
    {
     "data": {
      "application/vnd.jupyter.widget-view+json": {
       "model_id": "44c9f5aa32ef427fa6fe319208bd8c21",
       "version_major": 2,
       "version_minor": 0
      },
      "text/plain": [
       "QUEUEING TASKS | :   0%|          | 0/1 [00:00<?, ?it/s]"
      ]
     },
     "metadata": {},
     "output_type": "display_data"
    },
    {
     "data": {
      "application/vnd.jupyter.widget-view+json": {
       "model_id": "93c211452e654e0aa877c9b6d2db5035",
       "version_major": 2,
       "version_minor": 0
      },
      "text/plain": [
       "QUEUEING TASKS | :   0%|          | 0/1 [00:00<?, ?it/s]"
      ]
     },
     "metadata": {},
     "output_type": "display_data"
    },
    {
     "data": {
      "application/vnd.jupyter.widget-view+json": {
       "model_id": "745931cff64047df81072841a0b83470",
       "version_major": 2,
       "version_minor": 0
      },
      "text/plain": [
       "QUEUEING TASKS | :   0%|          | 0/1 [00:00<?, ?it/s]"
      ]
     },
     "metadata": {},
     "output_type": "display_data"
    },
    {
     "data": {
      "application/vnd.jupyter.widget-view+json": {
       "model_id": "f4630474ffc44553b4e9b3ca9f934487",
       "version_major": 2,
       "version_minor": 0
      },
      "text/plain": [
       "PROCESSING TASKS | :   0%|          | 0/1 [00:00<?, ?it/s]"
      ]
     },
     "metadata": {},
     "output_type": "display_data"
    },
    {
     "data": {
      "application/vnd.jupyter.widget-view+json": {
       "model_id": "736a4060db824e888f771247714a4403",
       "version_major": 2,
       "version_minor": 0
      },
      "text/plain": [
       "PROCESSING TASKS | :   0%|          | 0/1 [00:00<?, ?it/s]"
      ]
     },
     "metadata": {},
     "output_type": "display_data"
    },
    {
     "data": {
      "application/vnd.jupyter.widget-view+json": {
       "model_id": "69f1ec41c99e4efd9b3064b31b237c50",
       "version_major": 2,
       "version_minor": 0
      },
      "text/plain": [
       "PROCESSING TASKS | :   0%|          | 0/1 [00:00<?, ?it/s]"
      ]
     },
     "metadata": {},
     "output_type": "display_data"
    },
    {
     "data": {
      "application/vnd.jupyter.widget-view+json": {
       "model_id": "32f262e29db247cd84584d8705009861",
       "version_major": 2,
       "version_minor": 0
      },
      "text/plain": [
       "QUEUEING TASKS | :   0%|          | 0/1 [00:00<?, ?it/s]"
      ]
     },
     "metadata": {},
     "output_type": "display_data"
    },
    {
     "data": {
      "application/vnd.jupyter.widget-view+json": {
       "model_id": "371ab4c1b96c4eb6bc0e80a0032071fd",
       "version_major": 2,
       "version_minor": 0
      },
      "text/plain": [
       "QUEUEING TASKS | :   0%|          | 0/1 [00:00<?, ?it/s]"
      ]
     },
     "metadata": {},
     "output_type": "display_data"
    },
    {
     "data": {
      "application/vnd.jupyter.widget-view+json": {
       "model_id": "202b3900317b4a9091f3fd2328c028ad",
       "version_major": 2,
       "version_minor": 0
      },
      "text/plain": [
       "PROCESSING TASKS | :   0%|          | 0/1 [00:00<?, ?it/s]"
      ]
     },
     "metadata": {},
     "output_type": "display_data"
    },
    {
     "data": {
      "application/vnd.jupyter.widget-view+json": {
       "model_id": "d29b21edda0b4812b3eb8b0c0eb76316",
       "version_major": 2,
       "version_minor": 0
      },
      "text/plain": [
       "QUEUEING TASKS | :   0%|          | 0/1 [00:00<?, ?it/s]"
      ]
     },
     "metadata": {},
     "output_type": "display_data"
    },
    {
     "data": {
      "application/vnd.jupyter.widget-view+json": {
       "model_id": "54417ca77a46443788ab99afcac89f44",
       "version_major": 2,
       "version_minor": 0
      },
      "text/plain": [
       "QUEUEING TASKS | :   0%|          | 0/1 [00:00<?, ?it/s]"
      ]
     },
     "metadata": {},
     "output_type": "display_data"
    },
    {
     "data": {
      "application/vnd.jupyter.widget-view+json": {
       "model_id": "209233bce88c465ba694293f551405f8",
       "version_major": 2,
       "version_minor": 0
      },
      "text/plain": [
       "QUEUEING TASKS | :   0%|          | 0/1 [00:00<?, ?it/s]"
      ]
     },
     "metadata": {},
     "output_type": "display_data"
    },
    {
     "data": {
      "application/vnd.jupyter.widget-view+json": {
       "model_id": "783215e3c22b48a19e88e0b1f336fc9b",
       "version_major": 2,
       "version_minor": 0
      },
      "text/plain": [
       "PROCESSING TASKS | :   0%|          | 0/1 [00:00<?, ?it/s]"
      ]
     },
     "metadata": {},
     "output_type": "display_data"
    },
    {
     "data": {
      "application/vnd.jupyter.widget-view+json": {
       "model_id": "e729aae7042a417b918e34ae28b74181",
       "version_major": 2,
       "version_minor": 0
      },
      "text/plain": [
       "QUEUEING TASKS | :   0%|          | 0/1 [00:00<?, ?it/s]"
      ]
     },
     "metadata": {},
     "output_type": "display_data"
    },
    {
     "data": {
      "application/vnd.jupyter.widget-view+json": {
       "model_id": "5e6cb90564124bfcb4eb66a2d20b397a",
       "version_major": 2,
       "version_minor": 0
      },
      "text/plain": [
       "QUEUEING TASKS | :   0%|          | 0/1 [00:00<?, ?it/s]"
      ]
     },
     "metadata": {},
     "output_type": "display_data"
    },
    {
     "data": {
      "application/vnd.jupyter.widget-view+json": {
       "model_id": "552c27c50b43403ea777d46ebd2a3aea",
       "version_major": 2,
       "version_minor": 0
      },
      "text/plain": [
       "PROCESSING TASKS | :   0%|          | 0/1 [00:00<?, ?it/s]"
      ]
     },
     "metadata": {},
     "output_type": "display_data"
    },
    {
     "data": {
      "application/vnd.jupyter.widget-view+json": {
       "model_id": "cd575efa2f2c4b8695055bccf6f623e2",
       "version_major": 2,
       "version_minor": 0
      },
      "text/plain": [
       "QUEUEING TASKS | :   0%|          | 0/1 [00:00<?, ?it/s]"
      ]
     },
     "metadata": {},
     "output_type": "display_data"
    },
    {
     "data": {
      "application/vnd.jupyter.widget-view+json": {
       "model_id": "6ede0549c48a43789b6afb6dd3460004",
       "version_major": 2,
       "version_minor": 0
      },
      "text/plain": [
       "PROCESSING TASKS | :   0%|          | 0/1 [00:00<?, ?it/s]"
      ]
     },
     "metadata": {},
     "output_type": "display_data"
    },
    {
     "data": {
      "application/vnd.jupyter.widget-view+json": {
       "model_id": "62943102e02d4eafb7dc00c803a960e7",
       "version_major": 2,
       "version_minor": 0
      },
      "text/plain": [
       "PROCESSING TASKS | :   0%|          | 0/1 [00:00<?, ?it/s]"
      ]
     },
     "metadata": {},
     "output_type": "display_data"
    },
    {
     "data": {
      "application/vnd.jupyter.widget-view+json": {
       "model_id": "db184fe96ff849248a5707d8520bde9c",
       "version_major": 2,
       "version_minor": 0
      },
      "text/plain": [
       "PROCESSING TASKS | :   0%|          | 0/1 [00:00<?, ?it/s]"
      ]
     },
     "metadata": {},
     "output_type": "display_data"
    },
    {
     "data": {
      "application/vnd.jupyter.widget-view+json": {
       "model_id": "e55639470bc34871b03c4c3322f5706d",
       "version_major": 2,
       "version_minor": 0
      },
      "text/plain": [
       "PROCESSING TASKS | :   0%|          | 0/1 [00:00<?, ?it/s]"
      ]
     },
     "metadata": {},
     "output_type": "display_data"
    },
    {
     "data": {
      "application/vnd.jupyter.widget-view+json": {
       "model_id": "3cf15f718bdc477aa3077920c4dbeec5",
       "version_major": 2,
       "version_minor": 0
      },
      "text/plain": [
       "PROCESSING TASKS | :   0%|          | 0/1 [00:00<?, ?it/s]"
      ]
     },
     "metadata": {},
     "output_type": "display_data"
    },
    {
     "data": {
      "application/vnd.jupyter.widget-view+json": {
       "model_id": "39f471d41c79472fa66d79ddf9f6dcb8",
       "version_major": 2,
       "version_minor": 0
      },
      "text/plain": [
       "QUEUEING TASKS | :   0%|          | 0/1 [00:00<?, ?it/s]"
      ]
     },
     "metadata": {},
     "output_type": "display_data"
    },
    {
     "data": {
      "application/vnd.jupyter.widget-view+json": {
       "model_id": "2ea1641089994c9282b99e42ace41f18",
       "version_major": 2,
       "version_minor": 0
      },
      "text/plain": [
       "PROCESSING TASKS | :   0%|          | 0/1 [00:00<?, ?it/s]"
      ]
     },
     "metadata": {},
     "output_type": "display_data"
    },
    {
     "data": {
      "application/vnd.jupyter.widget-view+json": {
       "model_id": "fab64541c02d44ba8d808f0eac5103e0",
       "version_major": 2,
       "version_minor": 0
      },
      "text/plain": [
       "COLLECTING RESULTS | :   0%|          | 0/1 [00:00<?, ?it/s]"
      ]
     },
     "metadata": {},
     "output_type": "display_data"
    },
    {
     "data": {
      "application/vnd.jupyter.widget-view+json": {
       "model_id": "c6ba5057cccc468c9dcfc59743e45f8c",
       "version_major": 2,
       "version_minor": 0
      },
      "text/plain": [
       "COLLECTING RESULTS | :   0%|          | 0/1 [00:00<?, ?it/s]"
      ]
     },
     "metadata": {},
     "output_type": "display_data"
    },
    {
     "data": {
      "application/vnd.jupyter.widget-view+json": {
       "model_id": "e4e87358313c4e4d974839d69056c55a",
       "version_major": 2,
       "version_minor": 0
      },
      "text/plain": [
       "COLLECTING RESULTS | :   0%|          | 0/1 [00:00<?, ?it/s]"
      ]
     },
     "metadata": {},
     "output_type": "display_data"
    },
    {
     "data": {
      "application/vnd.jupyter.widget-view+json": {
       "model_id": "9c1c7e68fbc64241a81137297799700b",
       "version_major": 2,
       "version_minor": 0
      },
      "text/plain": [
       "COLLECTING RESULTS | :   0%|          | 0/1 [00:00<?, ?it/s]"
      ]
     },
     "metadata": {},
     "output_type": "display_data"
    },
    {
     "data": {
      "application/vnd.jupyter.widget-view+json": {
       "model_id": "98f015e488874431b254a9f9f954ac5d",
       "version_major": 2,
       "version_minor": 0
      },
      "text/plain": [
       "COLLECTING RESULTS | :   0%|          | 0/1 [00:00<?, ?it/s]"
      ]
     },
     "metadata": {},
     "output_type": "display_data"
    },
    {
     "data": {
      "application/vnd.jupyter.widget-view+json": {
       "model_id": "448adb4b90c64633ba161735a4420aa5",
       "version_major": 2,
       "version_minor": 0
      },
      "text/plain": [
       "COLLECTING RESULTS | :   0%|          | 0/1 [00:00<?, ?it/s]"
      ]
     },
     "metadata": {},
     "output_type": "display_data"
    },
    {
     "data": {
      "application/vnd.jupyter.widget-view+json": {
       "model_id": "199cc3695ed04cfa91feb34da15502ec",
       "version_major": 2,
       "version_minor": 0
      },
      "text/plain": [
       "COLLECTING RESULTS | :   0%|          | 0/1 [00:00<?, ?it/s]"
      ]
     },
     "metadata": {},
     "output_type": "display_data"
    },
    {
     "data": {
      "application/vnd.jupyter.widget-view+json": {
       "model_id": "7dcab00cf9dc4f7d9a22ad72f5aaa514",
       "version_major": 2,
       "version_minor": 0
      },
      "text/plain": [
       "COLLECTING RESULTS | :   0%|          | 0/1 [00:00<?, ?it/s]"
      ]
     },
     "metadata": {},
     "output_type": "display_data"
    },
    {
     "data": {
      "application/vnd.jupyter.widget-view+json": {
       "model_id": "7ed9d6b328e940e1b628609c30291e33",
       "version_major": 2,
       "version_minor": 0
      },
      "text/plain": [
       "COLLECTING RESULTS | :   0%|          | 0/1 [00:00<?, ?it/s]"
      ]
     },
     "metadata": {},
     "output_type": "display_data"
    },
    {
     "data": {
      "application/vnd.jupyter.widget-view+json": {
       "model_id": "88fae22883144b3fb12ca98dbae3c9f8",
       "version_major": 2,
       "version_minor": 0
      },
      "text/plain": [
       "COLLECTING RESULTS | :   0%|          | 0/1 [00:00<?, ?it/s]"
      ]
     },
     "metadata": {},
     "output_type": "display_data"
    },
    {
     "data": {
      "application/vnd.jupyter.widget-view+json": {
       "model_id": "d4affac210ad47ffb877dadcf76dbbd9",
       "version_major": 2,
       "version_minor": 0
      },
      "text/plain": [
       "COLLECTING RESULTS | :   0%|          | 0/1 [00:00<?, ?it/s]"
      ]
     },
     "metadata": {},
     "output_type": "display_data"
    },
    {
     "data": {
      "application/vnd.jupyter.widget-view+json": {
       "model_id": "3ee626185f744f3c810cd4f2787ce961",
       "version_major": 2,
       "version_minor": 0
      },
      "text/plain": [
       "COLLECTING RESULTS | :   0%|          | 0/1 [00:00<?, ?it/s]"
      ]
     },
     "metadata": {},
     "output_type": "display_data"
    },
    {
     "data": {
      "application/vnd.jupyter.widget-view+json": {
       "model_id": "66fe3dd68c7148e89a2f1d7eeb622098",
       "version_major": 2,
       "version_minor": 0
      },
      "text/plain": [
       "COLLECTING RESULTS | :   0%|          | 0/1 [00:00<?, ?it/s]"
      ]
     },
     "metadata": {},
     "output_type": "display_data"
    },
    {
     "data": {
      "application/vnd.jupyter.widget-view+json": {
       "model_id": "a5f1fb72bbaf4a518a1dbe68db1bc1b0",
       "version_major": 2,
       "version_minor": 0
      },
      "text/plain": [
       "COLLECTING RESULTS | :   0%|          | 0/1 [00:00<?, ?it/s]"
      ]
     },
     "metadata": {},
     "output_type": "display_data"
    },
    {
     "data": {
      "application/vnd.jupyter.widget-view+json": {
       "model_id": "352097b838c44de59fb80c8f90207bf5",
       "version_major": 2,
       "version_minor": 0
      },
      "text/plain": [
       "COLLECTING RESULTS | :   0%|          | 0/1 [00:00<?, ?it/s]"
      ]
     },
     "metadata": {},
     "output_type": "display_data"
    },
    {
     "data": {
      "application/vnd.jupyter.widget-view+json": {
       "model_id": "6b53f15095fc44c5b490b7120e9a7b95",
       "version_major": 2,
       "version_minor": 0
      },
      "text/plain": [
       "COLLECTING RESULTS | :   0%|          | 0/1 [00:00<?, ?it/s]"
      ]
     },
     "metadata": {},
     "output_type": "display_data"
    },
    {
     "data": {
      "application/vnd.jupyter.widget-view+json": {
       "model_id": "738356c9fb5947459c7ffa46c950d798",
       "version_major": 2,
       "version_minor": 0
      },
      "text/plain": [
       "QUEUEING TASKS | :   0%|          | 0/1 [00:00<?, ?it/s]"
      ]
     },
     "metadata": {},
     "output_type": "display_data"
    },
    {
     "data": {
      "application/vnd.jupyter.widget-view+json": {
       "model_id": "72e1a88128c440fa828c6b1cdca83ce4",
       "version_major": 2,
       "version_minor": 0
      },
      "text/plain": [
       "PROCESSING TASKS | :   0%|          | 0/1 [00:00<?, ?it/s]"
      ]
     },
     "metadata": {},
     "output_type": "display_data"
    },
    {
     "data": {
      "application/vnd.jupyter.widget-view+json": {
       "model_id": "842459a6e1cb4ab3bbe10f6cf09d8b2b",
       "version_major": 2,
       "version_minor": 0
      },
      "text/plain": [
       "QUEUEING TASKS | :   0%|          | 0/1 [00:00<?, ?it/s]"
      ]
     },
     "metadata": {},
     "output_type": "display_data"
    },
    {
     "data": {
      "application/vnd.jupyter.widget-view+json": {
       "model_id": "b787f4b9ee384089a79c95d17e11080d",
       "version_major": 2,
       "version_minor": 0
      },
      "text/plain": [
       "PROCESSING TASKS | :   0%|          | 0/1 [00:00<?, ?it/s]"
      ]
     },
     "metadata": {},
     "output_type": "display_data"
    },
    {
     "data": {
      "application/vnd.jupyter.widget-view+json": {
       "model_id": "38f26d7d49374ccb9f8cc0cfee5f85fe",
       "version_major": 2,
       "version_minor": 0
      },
      "text/plain": [
       "COLLECTING RESULTS | :   0%|          | 0/1 [00:00<?, ?it/s]"
      ]
     },
     "metadata": {},
     "output_type": "display_data"
    },
    {
     "data": {
      "application/vnd.jupyter.widget-view+json": {
       "model_id": "82f2c3b6e90f483a9bbddde1f78cb5a6",
       "version_major": 2,
       "version_minor": 0
      },
      "text/plain": [
       "COLLECTING RESULTS | :   0%|          | 0/1 [00:00<?, ?it/s]"
      ]
     },
     "metadata": {},
     "output_type": "display_data"
    },
    {
     "data": {
      "application/vnd.jupyter.widget-view+json": {
       "model_id": "e4ac5c7565ad4fcb8a70ddcf6013a1b7",
       "version_major": 2,
       "version_minor": 0
      },
      "text/plain": [
       "QUEUEING TASKS | :   0%|          | 0/1 [00:00<?, ?it/s]"
      ]
     },
     "metadata": {},
     "output_type": "display_data"
    },
    {
     "data": {
      "application/vnd.jupyter.widget-view+json": {
       "model_id": "5d32b0ba0f5543f1946ad81a6bcd91c0",
       "version_major": 2,
       "version_minor": 0
      },
      "text/plain": [
       "QUEUEING TASKS | :   0%|          | 0/1 [00:00<?, ?it/s]"
      ]
     },
     "metadata": {},
     "output_type": "display_data"
    },
    {
     "data": {
      "application/vnd.jupyter.widget-view+json": {
       "model_id": "3822aa6b1b854254b92693003f14d20a",
       "version_major": 2,
       "version_minor": 0
      },
      "text/plain": [
       "PROCESSING TASKS | :   0%|          | 0/1 [00:00<?, ?it/s]"
      ]
     },
     "metadata": {},
     "output_type": "display_data"
    },
    {
     "data": {
      "application/vnd.jupyter.widget-view+json": {
       "model_id": "635785ad7caf4ef79f9bc328d5eeaebd",
       "version_major": 2,
       "version_minor": 0
      },
      "text/plain": [
       "PROCESSING TASKS | :   0%|          | 0/1 [00:00<?, ?it/s]"
      ]
     },
     "metadata": {},
     "output_type": "display_data"
    },
    {
     "data": {
      "application/vnd.jupyter.widget-view+json": {
       "model_id": "cc32e71aaff74e489ac7ec42ff9dfdbc",
       "version_major": 2,
       "version_minor": 0
      },
      "text/plain": [
       "COLLECTING RESULTS | :   0%|          | 0/1 [00:00<?, ?it/s]"
      ]
     },
     "metadata": {},
     "output_type": "display_data"
    },
    {
     "data": {
      "application/vnd.jupyter.widget-view+json": {
       "model_id": "e4d98dbeb800447ab39796c6f438d79e",
       "version_major": 2,
       "version_minor": 0
      },
      "text/plain": [
       "COLLECTING RESULTS | :   0%|          | 0/1 [00:00<?, ?it/s]"
      ]
     },
     "metadata": {},
     "output_type": "display_data"
    },
    {
     "data": {
      "application/vnd.jupyter.widget-view+json": {
       "model_id": "ab80bf8b09c14e45b1bad08d9b2d3c37",
       "version_major": 2,
       "version_minor": 0
      },
      "text/plain": [
       "QUEUEING TASKS | :   0%|          | 0/1 [00:00<?, ?it/s]"
      ]
     },
     "metadata": {},
     "output_type": "display_data"
    },
    {
     "data": {
      "application/vnd.jupyter.widget-view+json": {
       "model_id": "c8cba12675194420b346370ce4c14a8a",
       "version_major": 2,
       "version_minor": 0
      },
      "text/plain": [
       "PROCESSING TASKS | :   0%|          | 0/1 [00:00<?, ?it/s]"
      ]
     },
     "metadata": {},
     "output_type": "display_data"
    },
    {
     "data": {
      "application/vnd.jupyter.widget-view+json": {
       "model_id": "c7e7d204ad07464295045e1aa513ecc4",
       "version_major": 2,
       "version_minor": 0
      },
      "text/plain": [
       "COLLECTING RESULTS | :   0%|          | 0/1 [00:00<?, ?it/s]"
      ]
     },
     "metadata": {},
     "output_type": "display_data"
    },
    {
     "data": {
      "application/vnd.jupyter.widget-view+json": {
       "model_id": "83027b27e2b34199a9ca2121b86a1131",
       "version_major": 2,
       "version_minor": 0
      },
      "text/plain": [
       "QUEUEING TASKS | :   0%|          | 0/1 [00:00<?, ?it/s]"
      ]
     },
     "metadata": {},
     "output_type": "display_data"
    },
    {
     "data": {
      "application/vnd.jupyter.widget-view+json": {
       "model_id": "6798b3b07ca54d2387dd33e9e00845db",
       "version_major": 2,
       "version_minor": 0
      },
      "text/plain": [
       "QUEUEING TASKS | :   0%|          | 0/1 [00:00<?, ?it/s]"
      ]
     },
     "metadata": {},
     "output_type": "display_data"
    },
    {
     "data": {
      "application/vnd.jupyter.widget-view+json": {
       "model_id": "0d3ca14b2d3e4d60b0535cfc12ea6351",
       "version_major": 2,
       "version_minor": 0
      },
      "text/plain": [
       "PROCESSING TASKS | :   0%|          | 0/1 [00:00<?, ?it/s]"
      ]
     },
     "metadata": {},
     "output_type": "display_data"
    },
    {
     "data": {
      "application/vnd.jupyter.widget-view+json": {
       "model_id": "6d2eccd177b34b0b918293346983001c",
       "version_major": 2,
       "version_minor": 0
      },
      "text/plain": [
       "PROCESSING TASKS | :   0%|          | 0/1 [00:00<?, ?it/s]"
      ]
     },
     "metadata": {},
     "output_type": "display_data"
    },
    {
     "data": {
      "application/vnd.jupyter.widget-view+json": {
       "model_id": "38a6281838e84fd5824420d211507653",
       "version_major": 2,
       "version_minor": 0
      },
      "text/plain": [
       "COLLECTING RESULTS | :   0%|          | 0/1 [00:00<?, ?it/s]"
      ]
     },
     "metadata": {},
     "output_type": "display_data"
    },
    {
     "data": {
      "application/vnd.jupyter.widget-view+json": {
       "model_id": "bec88787947f42458a35700a8b5d3a9e",
       "version_major": 2,
       "version_minor": 0
      },
      "text/plain": [
       "COLLECTING RESULTS | :   0%|          | 0/1 [00:00<?, ?it/s]"
      ]
     },
     "metadata": {},
     "output_type": "display_data"
    },
    {
     "data": {
      "application/vnd.jupyter.widget-view+json": {
       "model_id": "c0a86f6ac7f3407ab57605c5b515edc2",
       "version_major": 2,
       "version_minor": 0
      },
      "text/plain": [
       "QUEUEING TASKS | :   0%|          | 0/1 [00:00<?, ?it/s]"
      ]
     },
     "metadata": {},
     "output_type": "display_data"
    },
    {
     "data": {
      "application/vnd.jupyter.widget-view+json": {
       "model_id": "823765c19bbc48d4bd8a2d5abcf50735",
       "version_major": 2,
       "version_minor": 0
      },
      "text/plain": [
       "PROCESSING TASKS | :   0%|          | 0/1 [00:00<?, ?it/s]"
      ]
     },
     "metadata": {},
     "output_type": "display_data"
    },
    {
     "data": {
      "application/vnd.jupyter.widget-view+json": {
       "model_id": "a962dacec0254b4390ceb8c393586807",
       "version_major": 2,
       "version_minor": 0
      },
      "text/plain": [
       "QUEUEING TASKS | :   0%|          | 0/1 [00:00<?, ?it/s]"
      ]
     },
     "metadata": {},
     "output_type": "display_data"
    },
    {
     "data": {
      "application/vnd.jupyter.widget-view+json": {
       "model_id": "c7577a1948a74196b7a56d006002ec86",
       "version_major": 2,
       "version_minor": 0
      },
      "text/plain": [
       "QUEUEING TASKS | :   0%|          | 0/1 [00:00<?, ?it/s]"
      ]
     },
     "metadata": {},
     "output_type": "display_data"
    },
    {
     "data": {
      "application/vnd.jupyter.widget-view+json": {
       "model_id": "38eced49f1f241858d977bd63b3c44d9",
       "version_major": 2,
       "version_minor": 0
      },
      "text/plain": [
       "QUEUEING TASKS | :   0%|          | 0/1 [00:00<?, ?it/s]"
      ]
     },
     "metadata": {},
     "output_type": "display_data"
    },
    {
     "data": {
      "application/vnd.jupyter.widget-view+json": {
       "model_id": "fdd8911c718846c3b3e63659ae6077a0",
       "version_major": 2,
       "version_minor": 0
      },
      "text/plain": [
       "QUEUEING TASKS | :   0%|          | 0/1 [00:00<?, ?it/s]"
      ]
     },
     "metadata": {},
     "output_type": "display_data"
    },
    {
     "data": {
      "application/vnd.jupyter.widget-view+json": {
       "model_id": "30a1a611d4984f518a6f76822e7f8891",
       "version_major": 2,
       "version_minor": 0
      },
      "text/plain": [
       "PROCESSING TASKS | :   0%|          | 0/1 [00:00<?, ?it/s]"
      ]
     },
     "metadata": {},
     "output_type": "display_data"
    },
    {
     "data": {
      "application/vnd.jupyter.widget-view+json": {
       "model_id": "0c1f705070e64da7ad4f0bb6b4c9d760",
       "version_major": 2,
       "version_minor": 0
      },
      "text/plain": [
       "QUEUEING TASKS | :   0%|          | 0/1 [00:00<?, ?it/s]"
      ]
     },
     "metadata": {},
     "output_type": "display_data"
    },
    {
     "data": {
      "application/vnd.jupyter.widget-view+json": {
       "model_id": "bd828aa110e749ed8c1cad6b14aa3427",
       "version_major": 2,
       "version_minor": 0
      },
      "text/plain": [
       "PROCESSING TASKS | :   0%|          | 0/1 [00:00<?, ?it/s]"
      ]
     },
     "metadata": {},
     "output_type": "display_data"
    },
    {
     "data": {
      "application/vnd.jupyter.widget-view+json": {
       "model_id": "fec4ab8f94314ee79312fe6cf89ad194",
       "version_major": 2,
       "version_minor": 0
      },
      "text/plain": [
       "PROCESSING TASKS | :   0%|          | 0/1 [00:00<?, ?it/s]"
      ]
     },
     "metadata": {},
     "output_type": "display_data"
    },
    {
     "data": {
      "application/vnd.jupyter.widget-view+json": {
       "model_id": "b9e566242dc84d4abdc51042aa1605d7",
       "version_major": 2,
       "version_minor": 0
      },
      "text/plain": [
       "PROCESSING TASKS | :   0%|          | 0/1 [00:00<?, ?it/s]"
      ]
     },
     "metadata": {},
     "output_type": "display_data"
    },
    {
     "data": {
      "application/vnd.jupyter.widget-view+json": {
       "model_id": "3313ee41cf7740fba16d8a52f02fe8d2",
       "version_major": 2,
       "version_minor": 0
      },
      "text/plain": [
       "PROCESSING TASKS | :   0%|          | 0/1 [00:00<?, ?it/s]"
      ]
     },
     "metadata": {},
     "output_type": "display_data"
    },
    {
     "data": {
      "application/vnd.jupyter.widget-view+json": {
       "model_id": "8a84027073d74869b7029679b914d5d4",
       "version_major": 2,
       "version_minor": 0
      },
      "text/plain": [
       "COLLECTING RESULTS | :   0%|          | 0/1 [00:00<?, ?it/s]"
      ]
     },
     "metadata": {},
     "output_type": "display_data"
    },
    {
     "data": {
      "application/vnd.jupyter.widget-view+json": {
       "model_id": "c08f9c546af3437ba1e10990d46ee349",
       "version_major": 2,
       "version_minor": 0
      },
      "text/plain": [
       "QUEUEING TASKS | :   0%|          | 0/1 [00:00<?, ?it/s]"
      ]
     },
     "metadata": {},
     "output_type": "display_data"
    },
    {
     "data": {
      "application/vnd.jupyter.widget-view+json": {
       "model_id": "12386fede4db4d3b80a61eb99bb4c146",
       "version_major": 2,
       "version_minor": 0
      },
      "text/plain": [
       "PROCESSING TASKS | :   0%|          | 0/1 [00:00<?, ?it/s]"
      ]
     },
     "metadata": {},
     "output_type": "display_data"
    },
    {
     "data": {
      "application/vnd.jupyter.widget-view+json": {
       "model_id": "3756c48d14b84c4285efb58aae9e5d9e",
       "version_major": 2,
       "version_minor": 0
      },
      "text/plain": [
       "COLLECTING RESULTS | :   0%|          | 0/1 [00:00<?, ?it/s]"
      ]
     },
     "metadata": {},
     "output_type": "display_data"
    },
    {
     "data": {
      "application/vnd.jupyter.widget-view+json": {
       "model_id": "85568fad094f4288a57c1feed867763e",
       "version_major": 2,
       "version_minor": 0
      },
      "text/plain": [
       "COLLECTING RESULTS | :   0%|          | 0/1 [00:00<?, ?it/s]"
      ]
     },
     "metadata": {},
     "output_type": "display_data"
    },
    {
     "data": {
      "application/vnd.jupyter.widget-view+json": {
       "model_id": "0946a429228e448f92022b328d6bc342",
       "version_major": 2,
       "version_minor": 0
      },
      "text/plain": [
       "COLLECTING RESULTS | :   0%|          | 0/1 [00:00<?, ?it/s]"
      ]
     },
     "metadata": {},
     "output_type": "display_data"
    },
    {
     "data": {
      "application/vnd.jupyter.widget-view+json": {
       "model_id": "db063d1013064edeb5d52352b5469017",
       "version_major": 2,
       "version_minor": 0
      },
      "text/plain": [
       "COLLECTING RESULTS | :   0%|          | 0/1 [00:00<?, ?it/s]"
      ]
     },
     "metadata": {},
     "output_type": "display_data"
    },
    {
     "data": {
      "application/vnd.jupyter.widget-view+json": {
       "model_id": "217c5bfe0c1f4ab68f1b3665e9f5c59b",
       "version_major": 2,
       "version_minor": 0
      },
      "text/plain": [
       "COLLECTING RESULTS | :   0%|          | 0/1 [00:00<?, ?it/s]"
      ]
     },
     "metadata": {},
     "output_type": "display_data"
    },
    {
     "data": {
      "application/vnd.jupyter.widget-view+json": {
       "model_id": "3643d9e7ae4c40caba5d7c5d99fcad10",
       "version_major": 2,
       "version_minor": 0
      },
      "text/plain": [
       "QUEUEING TASKS | :   0%|          | 0/1 [00:00<?, ?it/s]"
      ]
     },
     "metadata": {},
     "output_type": "display_data"
    },
    {
     "data": {
      "application/vnd.jupyter.widget-view+json": {
       "model_id": "d0f83b4fce9d40c8b2dc48d5ee97633e",
       "version_major": 2,
       "version_minor": 0
      },
      "text/plain": [
       "PROCESSING TASKS | :   0%|          | 0/1 [00:00<?, ?it/s]"
      ]
     },
     "metadata": {},
     "output_type": "display_data"
    },
    {
     "data": {
      "application/vnd.jupyter.widget-view+json": {
       "model_id": "8461e7c3ff4e4159890268b1438f00b9",
       "version_major": 2,
       "version_minor": 0
      },
      "text/plain": [
       "COLLECTING RESULTS | :   0%|          | 0/1 [00:00<?, ?it/s]"
      ]
     },
     "metadata": {},
     "output_type": "display_data"
    },
    {
     "data": {
      "application/vnd.jupyter.widget-view+json": {
       "model_id": "4efe67bfab1b4c729de2a4ebe84c70a0",
       "version_major": 2,
       "version_minor": 0
      },
      "text/plain": [
       "QUEUEING TASKS | :   0%|          | 0/1 [00:00<?, ?it/s]"
      ]
     },
     "metadata": {},
     "output_type": "display_data"
    },
    {
     "data": {
      "application/vnd.jupyter.widget-view+json": {
       "model_id": "e836a078d7944ac38de34ff33a8e8f22",
       "version_major": 2,
       "version_minor": 0
      },
      "text/plain": [
       "PROCESSING TASKS | :   0%|          | 0/1 [00:00<?, ?it/s]"
      ]
     },
     "metadata": {},
     "output_type": "display_data"
    },
    {
     "data": {
      "application/vnd.jupyter.widget-view+json": {
       "model_id": "58f8494762c7486684861169b10f1574",
       "version_major": 2,
       "version_minor": 0
      },
      "text/plain": [
       "COLLECTING RESULTS | :   0%|          | 0/1 [00:00<?, ?it/s]"
      ]
     },
     "metadata": {},
     "output_type": "display_data"
    },
    {
     "data": {
      "application/vnd.jupyter.widget-view+json": {
       "model_id": "def6a6b80de44a43bcb1a84bbc2114bc",
       "version_major": 2,
       "version_minor": 0
      },
      "text/plain": [
       "COLLECTING RESULTS | :   0%|          | 0/1 [00:00<?, ?it/s]"
      ]
     },
     "metadata": {},
     "output_type": "display_data"
    },
    {
     "data": {
      "application/vnd.jupyter.widget-view+json": {
       "model_id": "5b2aa67b91d343349a923dd04d370c50",
       "version_major": 2,
       "version_minor": 0
      },
      "text/plain": [
       "QUEUEING TASKS | :   0%|          | 0/1 [00:00<?, ?it/s]"
      ]
     },
     "metadata": {},
     "output_type": "display_data"
    },
    {
     "data": {
      "application/vnd.jupyter.widget-view+json": {
       "model_id": "8cfbc3bca7e44f5784c5a565fbffadf9",
       "version_major": 2,
       "version_minor": 0
      },
      "text/plain": [
       "QUEUEING TASKS | :   0%|          | 0/1 [00:00<?, ?it/s]"
      ]
     },
     "metadata": {},
     "output_type": "display_data"
    },
    {
     "data": {
      "application/vnd.jupyter.widget-view+json": {
       "model_id": "ed5799de95cb47b9a89e44ad21a51315",
       "version_major": 2,
       "version_minor": 0
      },
      "text/plain": [
       "PROCESSING TASKS | :   0%|          | 0/1 [00:00<?, ?it/s]"
      ]
     },
     "metadata": {},
     "output_type": "display_data"
    },
    {
     "data": {
      "application/vnd.jupyter.widget-view+json": {
       "model_id": "836a02b1556e458da7c97d0a996018fe",
       "version_major": 2,
       "version_minor": 0
      },
      "text/plain": [
       "PROCESSING TASKS | :   0%|          | 0/1 [00:00<?, ?it/s]"
      ]
     },
     "metadata": {},
     "output_type": "display_data"
    },
    {
     "data": {
      "application/vnd.jupyter.widget-view+json": {
       "model_id": "8952235b7eb948e9adc4d0b5aae6bd93",
       "version_major": 2,
       "version_minor": 0
      },
      "text/plain": [
       "QUEUEING TASKS | :   0%|          | 0/1 [00:00<?, ?it/s]"
      ]
     },
     "metadata": {},
     "output_type": "display_data"
    },
    {
     "data": {
      "application/vnd.jupyter.widget-view+json": {
       "model_id": "a77adba836ee49dbb9acf1e0930aedfb",
       "version_major": 2,
       "version_minor": 0
      },
      "text/plain": [
       "QUEUEING TASKS | :   0%|          | 0/1 [00:00<?, ?it/s]"
      ]
     },
     "metadata": {},
     "output_type": "display_data"
    },
    {
     "data": {
      "application/vnd.jupyter.widget-view+json": {
       "model_id": "20856ff1f2db4f73b10279203a6439be",
       "version_major": 2,
       "version_minor": 0
      },
      "text/plain": [
       "PROCESSING TASKS | :   0%|          | 0/1 [00:00<?, ?it/s]"
      ]
     },
     "metadata": {},
     "output_type": "display_data"
    },
    {
     "data": {
      "application/vnd.jupyter.widget-view+json": {
       "model_id": "fb83914df56641b787f8dd710a4f790a",
       "version_major": 2,
       "version_minor": 0
      },
      "text/plain": [
       "PROCESSING TASKS | :   0%|          | 0/1 [00:00<?, ?it/s]"
      ]
     },
     "metadata": {},
     "output_type": "display_data"
    },
    {
     "data": {
      "application/vnd.jupyter.widget-view+json": {
       "model_id": "11e01c2b38074822894452a77aa0a58f",
       "version_major": 2,
       "version_minor": 0
      },
      "text/plain": [
       "COLLECTING RESULTS | :   0%|          | 0/1 [00:00<?, ?it/s]"
      ]
     },
     "metadata": {},
     "output_type": "display_data"
    },
    {
     "data": {
      "application/vnd.jupyter.widget-view+json": {
       "model_id": "88c92b9ab55b45f2b59de57ce4b352aa",
       "version_major": 2,
       "version_minor": 0
      },
      "text/plain": [
       "COLLECTING RESULTS | :   0%|          | 0/1 [00:00<?, ?it/s]"
      ]
     },
     "metadata": {},
     "output_type": "display_data"
    },
    {
     "data": {
      "application/vnd.jupyter.widget-view+json": {
       "model_id": "ae01ebcbb20f4412b17c70253b43fae2",
       "version_major": 2,
       "version_minor": 0
      },
      "text/plain": [
       "COLLECTING RESULTS | :   0%|          | 0/1 [00:00<?, ?it/s]"
      ]
     },
     "metadata": {},
     "output_type": "display_data"
    },
    {
     "data": {
      "application/vnd.jupyter.widget-view+json": {
       "model_id": "4794fef47e23436fa95618c72da0d7be",
       "version_major": 2,
       "version_minor": 0
      },
      "text/plain": [
       "COLLECTING RESULTS | :   0%|          | 0/1 [00:00<?, ?it/s]"
      ]
     },
     "metadata": {},
     "output_type": "display_data"
    },
    {
     "data": {
      "image/png": "[encoded data removed]",
      "text/plain": [
       "<Figure size 1200x800 with 2 Axes>"
      ]
     },
     "metadata": {},
     "output_type": "display_data"
    },
    {
     "name": "stdout",
     "output_type": "stream",
     "text": [
      "Maximum fire observations: 0\n"
     ]
    }
   ],
   "source": [
    "import dask.array as da\n",
    "import h5py\n",
    "import numpy as np\n",
    "import matplotlib.pyplot as plt\n",
    "import geopandas as gpd\n",
    "from dask.delayed import delayed\n",
    "import warnings\n",
    "\n",
    "# Use context manager to ensure no progress bars\n",
    "from dask.diagnostics import ProgressBar\n",
    "import dask\n",
    "\n",
    "# Suppress warnings\n",
    "warnings.filterwarnings('ignore', category=FutureWarning)\n",
    "\n",
    "\n",
    "@delayed\n",
    "def process_granule_lazy(granule):\n",
    "    \"\"\"Lazy processing of a single granule\"\"\"\n",
    "    try:\n",
    "        files = earthaccess.open([granule])\n",
    "        file_path = files[0]\n",
    "        \n",
    "        with h5py.File(file_path, 'r') as f:\n",
    "            fire_mask = f['HDFEOS/GRIDS/VIIRS_Grid_Daily_Fire/Data Fields/FireMask'][:]\n",
    "            return (fire_mask >= 7).astype(np.int8)\n",
    "    except Exception as e:\n",
    "        print(f\"Error processing granule: {e}\")\n",
    "        return None\n",
    "\n",
    "# Create lazy arrays for all granules\n",
    "print(f\"Creating lazy arrays for {len(viirs_data)} granules...\")\n",
    "lazy_arrays = [process_granule_lazy(granule) for granule in viirs_data]\n",
    "\n",
    "# Stack into a single dask array (lazy - no computation yet)\n",
    "print(\"Stacking lazy arrays...\")\n",
    "fire_stack = da.stack([da.from_delayed(arr, dtype=np.int8, shape=(1200, 1200)) \n",
    "                      for arr in lazy_arrays if arr is not None])\n",
    "\n",
    "# Sum across time dimension (still lazy!)\n",
    "print(\"Computing fire count map (lazy)...\")\n",
    "fire_count_map = da.sum(fire_stack, axis=0)\n",
    "\n",
    "# Get coordinate info from first granule\n",
    "files = earthaccess.open([viirs_data[0]])\n",
    "file_path = files[0]\n",
    "with h5py.File(file_path, 'r') as f:\n",
    "    xdim = f['HDFEOS/GRIDS/VIIRS_Grid_Daily_Fire/XDim'][:]\n",
    "    ydim = f['HDFEOS/GRIDS/VIIRS_Grid_Daily_Fire/YDim'][:]\n",
    "\n",
    "# Transform AOI and crop\n",
    "aoi_sinusoidal = aoi.to_crs(\"EPSG:4326\").to_crs(\"+proj=sinu +lon_0=0 +x_0=0 +y_0=0 +datum=WGS84 +units=m +no_defs\")\n",
    "aoi_bounds = aoi_sinusoidal.bounds.iloc[0]\n",
    "x_mask = (xdim >= aoi_bounds.iloc[0]) & (xdim <= aoi_bounds.iloc[2])\n",
    "y_mask = (ydim >= aoi_bounds.iloc[1]) & (ydim <= aoi_bounds.iloc[3])\n",
    "\n",
    "# Crop the lazy array\n",
    "fire_count_cropped = fire_count_map[y_mask][:, x_mask]\n",
    "\n",
    "# Now compute the result with NO progress bars\n",
    "print(\"Computing final result...\")\n",
    "\n",
    "\n",
    "\n",
    "# Temporarily disable all callbacks\n",
    "original_callbacks = dask.callbacks.Callback.active.copy()\n",
    "dask.callbacks.Callback.active.clear()\n",
    "\n",
    "try:\n",
    "    fire_count_result = fire_count_cropped.compute()\n",
    "finally:\n",
    "    # Restore original callbacks\n",
    "    dask.callbacks.Callback.active.update(original_callbacks)\n",
    "\n",
    "# Plot\n",
    "plt.figure(figsize=(12, 8))\n",
    "im = plt.imshow(fire_count_result, cmap='Reds', \n",
    "               extent=[xdim[x_mask].min(), xdim[x_mask].max(), \n",
    "                      ydim[y_mask].min(), ydim[y_mask].max()])\n",
    "\n",
    "aoi_sinusoidal.boundary.plot(ax=plt.gca(), color='black', linewidth=2)\n",
    "plt.title(f'Fire Observation Count ({len(viirs_data)} days)')\n",
    "plt.xlabel('X (meters)')\n",
    "plt.ylabel('Y (meters)')\n",
    "\n",
    "cbar = plt.colorbar(im)\n",
    "cbar.set_label('Number of Fire Observations')\n",
    "plt.show()\n",
    "\n",
    "print(f\"Maximum fire observations: {fire_count_result.max()}\")"
   ]
  },
  {
   "cell_type": "code",
   "execution_count": null,
   "id": "32a69b64",
   "metadata": {},
   "outputs": [],
   "source": []
  },
  {
   "cell_type": "markdown",
   "id": "d0bd4db1",
   "metadata": {},
   "source": [
    "## Cobertura del suelo"
   ]
  },
  {
   "cell_type": "code",
   "execution_count": null,
   "id": "71cc64af",
   "metadata": {},
   "outputs": [],
   "source": [
    "import rioxarray as rio\n",
    "\n",
    "# Load the cloud GeoTIFF clipped to your GeoDataFrame\n",
    "suelo_2022_ruta = \"https://storage.googleapis.com/mapbiomas-public/initiatives/argentina/collection-1/coverage/argentina_coverage_2022.tif\"\n",
    "\n",
    "suelo_2022 = rio.open_rasterio(\n",
    "    suelo_2022_ruta,\n",
    "    chunks={\"x\": 1024, \"y\": 1024},\n",
    ")\n",
    "\n",
    "# Clip with from_disk=True for memory efficiency\n",
    "suelo_2022 = suelo_2022.rio.clip(\n",
    "    aoi.geometry.values,\n",
    "    aoi.crs,\n",
    "    from_disk=True,\n",
    ")"
   ]
  },
  {
   "cell_type": "code",
   "execution_count": null,
   "id": "96088502",
   "metadata": {},
   "outputs": [],
   "source": [
    "# Define the detailed categories and colors\n",
    "categories_detailed = {\n",
    "    'Leñosa cerrada': {'ids': [3], 'color': '#1f8d49'},\n",
    "    'Leñosa abierta': {'ids': [4], 'color': '#7dc975'},\n",
    "    'Leñosa dispersa': {'ids': [45], 'color': '#807a40'},\n",
    "    'Leñosa inundable': {'ids': [6], 'color': '#026975'},\n",
    "    'Vegetación no leñosa inundable': {'ids': [11], 'color': '#519799'},\n",
    "    'Pastizal': {'ids': [12], 'color': '#d6bc74'},\n",
    "    'Estepa': {'ids': [63], 'color': '#ebf8b5'},\n",
    "    'Pastura': {'ids': [15], 'color': '#edde8e'},\n",
    "    'Agricultura': {'ids': [18], 'color': '#e974ed'},\n",
    "    'Plantación forestal': {'ids': [9], 'color': '#7a5900'},\n",
    "    'Cultivo arbustivo': {'ids': [36], 'color': '#d082de'},\n",
    "    'Mosaico agropecuario': {'ids': [21], 'color': '#ffefc3'},\n",
    "    'Área sin vegetación': {'ids': [22], 'color': '#d4271e'},\n",
    "    'Río, lago u océano': {'ids': [33], 'color': '#2532e4'},\n",
    "    'Hielo y nieve en superficie': {'ids': [34], 'color': '#93dfe6'},\n",
    "    'No observado': {'ids': [27], 'color': '#ffffff'}\n",
    "}\n",
    "\n",
    "# You can also create grouped categories for broader analysis\n",
    "categories_grouped = {\n",
    "    'Vegetación leñosa': {\n",
    "        'ids': [3, 4, 45, 6], \n",
    "        'color': '#1f8d49',\n",
    "        'subcategories': ['Leñosa cerrada', 'Leñosa abierta', 'Leñosa dispersa', 'Leñosa inundable']\n",
    "    },\n",
    "    'Vegetación no leñosa': {\n",
    "        'ids': [11, 12, 63], \n",
    "        'color': '#d6bc74',\n",
    "        'subcategories': ['Vegetación no leñosa inundable', 'Pastizal', 'Estepa']\n",
    "    },\n",
    "    'Área agropecuaria': {\n",
    "        'ids': [15, 18, 9, 36, 21], \n",
    "        'color': '#ffefc3',\n",
    "        'subcategories': ['Pastura', 'Agricultura', 'Plantación forestal', 'Cultivo arbustivo', 'Mosaico agropecuario']\n",
    "    },\n",
    "    'Área sin vegetación': {\n",
    "        'ids': [22], \n",
    "        'color': '#d4271e',\n",
    "        'subcategories': ['Área sin vegetación']\n",
    "    },\n",
    "    'Cuerpo de agua': {\n",
    "        'ids': [33, 34], \n",
    "        'color': '#2532e3',\n",
    "        'subcategories': ['Río, lago u océano', 'Hielo y nieve en superficie']\n",
    "    },\n",
    "    'No observado': {\n",
    "        'ids': [27], \n",
    "        'color': '#ffffff',\n",
    "        'subcategories': ['No observado']\n",
    "    }\n",
    "}\n",
    "\n",
    "# Function to categorize pixels\n",
    "def categorize_pixel_detailed(value, categories):\n",
    "    \"\"\"Convert pixel value to detailed category name\"\"\"\n",
    "    for category, info in categories.items():\n",
    "        if value in info['ids']:\n",
    "            return category\n",
    "    return 'Other'\n",
    "\n",
    "def categorize_pixel_grouped(value, categories):\n",
    "    \"\"\"Convert pixel value to grouped category name\"\"\"\n",
    "    for category, info in categories.items():\n",
    "        if value in info['ids']:\n",
    "            return category\n",
    "    return 'Other'"
   ]
  },
  {
   "cell_type": "code",
   "execution_count": null,
   "id": "05c5e3a1",
   "metadata": {},
   "outputs": [],
   "source": [
    "import matplotlib.pyplot as plt\n",
    "import matplotlib.colors as mcolors\n",
    "import numpy as np\n",
    "\n",
    "# Create colormap from detailed categories\n",
    "colors = {}\n",
    "for category, info in categories_detailed.items():\n",
    "    for pixel_id in info['ids']:\n",
    "        colors[pixel_id] = info['color']\n",
    "\n",
    "cmap = mcolors.ListedColormap([colors[i] for i in sorted(colors.keys())])\n",
    "bounds = sorted(colors.keys())\n",
    "norm = mcolors.BoundaryNorm(bounds, cmap.N)\n",
    "\n",
    "# Plot\n",
    "fig, ax = plt.subplots(figsize=(20, 20))\n",
    "\n",
    "# Plot the raster\n",
    "im = suelo_2022.plot(\n",
    "    ax=ax,\n",
    "    cmap=cmap,\n",
    "    norm=norm,\n",
    "    add_colorbar=False\n",
    ")\n",
    "\n",
    "# Create custom legend from detailed categories\n",
    "legend_labels = {}\n",
    "for category, info in categories_detailed.items():\n",
    "    legend_labels[info['color']] = category\n",
    "\n",
    "# Add legend below the map\n",
    "legend_elements = [plt.Rectangle((0,0),1,1, facecolor=color, label=label) \n",
    "                  for color, label in legend_labels.items()]\n",
    "ax.legend(handles=legend_elements, loc='lower center', bbox_to_anchor=(0.5, -0.1), \n",
    "          ncol=3, frameon=False)\n",
    "\n",
    "plt.title('Cobertura del Suelo - MapBiomas 2022')\n",
    "plt.tight_layout()\n",
    "plt.show()"
   ]
  },
  {
   "cell_type": "code",
   "execution_count": null,
   "id": "2159dcac",
   "metadata": {},
   "outputs": [],
   "source": [
    "import pandas as pd\n",
    "import numpy as np\n",
    "\n",
    "# Calculate pixel counts for each category\n",
    "unique_values, counts = np.unique(suelo_2022.values[0], return_counts=True)\n",
    "\n",
    "# Create a mapping from pixel IDs to category names\n",
    "id_to_category = {}\n",
    "for category, info in categories_detailed.items():\n",
    "    for pixel_id in info['ids']:\n",
    "        id_to_category[pixel_id] = category\n",
    "\n",
    "# Calculate total pixels and area per pixel (assuming 100m resolution)\n",
    "total_pixels = np.sum(counts)\n",
    "pixel_area_hectares = 0.01  # 100m x 100m = 1 hectare\n",
    "\n",
    "# Create results list\n",
    "results = []\n",
    "for pixel_id, count in zip(unique_values, counts):\n",
    "    if pixel_id in id_to_category:\n",
    "        category = id_to_category[pixel_id]\n",
    "        area_hectares = count * pixel_area_hectares\n",
    "        percentage = (count / total_pixels) * 100\n",
    "        results.append({\n",
    "            'Categoría': category,\n",
    "            'ID': pixel_id,\n",
    "            'Área (hectáreas)': f\"{area_hectares:,.1f}\",\n",
    "            'Porcentaje (%)': f\"{percentage:.1f}\"\n",
    "        })\n",
    "\n",
    "# Sort by area (descending)\n",
    "results.sort(key=lambda x: float(x['Área (hectáreas)'].replace(',', '')), reverse=True)\n",
    "\n",
    "# Create DataFrame and display\n",
    "df = pd.DataFrame(results)\n",
    "print(\"Cobertura del Suelo - MapBiomas 2022\")\n",
    "print(\"=\" * 50)\n",
    "print(df.to_string(index=False))\n",
    "print(f\"\\nTotal área: {total_pixels * pixel_area_hectares:,.1f} hectáreas\")"
   ]
  },
  {
   "cell_type": "code",
   "execution_count": null,
   "id": "393ce1ae",
   "metadata": {},
   "outputs": [],
   "source": [
    "import rioxarray as rio\n",
    "\n",
    "# Load the cloud GeoTIFF clipped to your GeoDataFrame\n",
    "suelo_2000_ruta = \"https://storage.googleapis.com/mapbiomas-public/initiatives/argentina/collection-1/coverage/argentina_coverage_2000.tif\"\n",
    "\n",
    "suelo_2000 = rio.open_rasterio(\n",
    "    suelo_2000_ruta,\n",
    "    chunks={\"x\": 1024, \"y\": 1024},\n",
    ")\n",
    "\n",
    "# Clip with from_disk=True for memory efficiency\n",
    "suelo_2000 = suelo_2000.rio.clip(\n",
    "    aoi.geometry.values,\n",
    "    aoi.crs,\n",
    "    from_disk=True,\n",
    ")"
   ]
  },
  {
   "cell_type": "code",
   "execution_count": null,
   "id": "4200205c",
   "metadata": {},
   "outputs": [],
   "source": [
    "import matplotlib.pyplot as plt\n",
    "import matplotlib.colors as mcolors\n",
    "import numpy as np\n",
    "\n",
    "# Create colormap from detailed categories\n",
    "colors = {}\n",
    "for category, info in categories_detailed.items():\n",
    "    for pixel_id in info['ids']:\n",
    "        colors[pixel_id] = info['color']\n",
    "\n",
    "cmap = mcolors.ListedColormap([colors[i] for i in sorted(colors.keys())])\n",
    "bounds = sorted(colors.keys())\n",
    "norm = mcolors.BoundaryNorm(bounds, cmap.N)\n",
    "\n",
    "# Plot\n",
    "fig, ax = plt.subplots(figsize=(20, 20))\n",
    "\n",
    "# Plot the raster\n",
    "im = suelo_2000.plot(\n",
    "    ax=ax,\n",
    "    cmap=cmap,\n",
    "    norm=norm,\n",
    "    add_colorbar=False\n",
    ")\n",
    "\n",
    "# Create custom legend from detailed categories\n",
    "legend_labels = {}\n",
    "for category, info in categories_detailed.items():\n",
    "    legend_labels[info['color']] = category\n",
    "\n",
    "# Add legend below the map\n",
    "legend_elements = [plt.Rectangle((0,0),1,1, facecolor=color, label=label) \n",
    "                  for color, label in legend_labels.items()]\n",
    "ax.legend(handles=legend_elements, loc='lower center', bbox_to_anchor=(0.5, -0.1), \n",
    "          ncol=3, frameon=False)\n",
    "\n",
    "plt.title('Cobertura del Suelo - MapBiomas 2000')\n",
    "plt.tight_layout()\n",
    "plt.show()"
   ]
  },
  {
   "cell_type": "code",
   "execution_count": null,
   "id": "588333b7",
   "metadata": {},
   "outputs": [],
   "source": [
    "import pandas as pd\n",
    "import numpy as np\n",
    "\n",
    "# Calculate pixel counts for each category\n",
    "unique_values, counts = np.unique(suelo_2000.values[0], return_counts=True)\n",
    "\n",
    "# Create a mapping from pixel IDs to category names\n",
    "id_to_category = {}\n",
    "for category, info in categories_detailed.items():\n",
    "    for pixel_id in info['ids']:\n",
    "        id_to_category[pixel_id] = category\n",
    "\n",
    "# Calculate total pixels and area per pixel (assuming 100m resolution)\n",
    "total_pixels = np.sum(counts)\n",
    "pixel_area_hectares = 0.01  # 100m x 100m = 1 hectare\n",
    "\n",
    "# Create results list\n",
    "results = []\n",
    "for pixel_id, count in zip(unique_values, counts):\n",
    "    if pixel_id in id_to_category:\n",
    "        category = id_to_category[pixel_id]\n",
    "        area_hectares = count * pixel_area_hectares\n",
    "        percentage = (count / total_pixels) * 100\n",
    "        results.append({\n",
    "            'Categoría': category,\n",
    "            'ID': pixel_id,\n",
    "            'Área (hectáreas)': f\"{area_hectares:,.1f}\",\n",
    "            'Porcentaje (%)': f\"{percentage:.1f}\"\n",
    "        })\n",
    "\n",
    "# Sort by area (descending)\n",
    "results.sort(key=lambda x: float(x['Área (hectáreas)'].replace(',', '')), reverse=True)\n",
    "\n",
    "# Create DataFrame and display\n",
    "df = pd.DataFrame(results)\n",
    "print(\"Cobertura del Suelo - MapBiomas 2000\")\n",
    "print(\"=\" * 50)\n",
    "print(df.to_string(index=False))\n",
    "print(f\"\\nTotal área: {total_pixels * pixel_area_hectares:,.1f} hectáreas\")"
   ]
  },
  {
   "cell_type": "code",
   "execution_count": null,
   "id": "8c00fadd",
   "metadata": {},
   "outputs": [],
   "source": [
    "import matplotlib.pyplot as plt\n",
    "import matplotlib.colors as mcolors\n",
    "import numpy as np\n",
    "\n",
    "def categorize_pixel_grouped(value, categories):\n",
    "    \"\"\"Convert pixel value to grouped category name\"\"\"\n",
    "    for category, info in categories.items():\n",
    "        if value in info['ids']:\n",
    "            return category\n",
    "    return 'Other'\n",
    "\n",
    "# Get the raw pixel values\n",
    "suelo_2000_values = suelo_2000.values[0]\n",
    "suelo_2022_values = suelo_2022.values[0]\n",
    "\n",
    "# Convert to grouped categories\n",
    "suelo_2000_cat = np.vectorize(lambda x: categorize_pixel_grouped(x, categories_grouped))(suelo_2000_values)\n",
    "suelo_2022_cat = np.vectorize(lambda x: categorize_pixel_grouped(x, categories_grouped))(suelo_2022_values)\n",
    "\n",
    "# Create transition map\n",
    "transition_map = np.zeros_like(suelo_2000_cat, dtype=int)\n",
    "\n",
    "# Only process pixels that actually changed\n",
    "changed_mask = (suelo_2000_values != suelo_2022_values)\n",
    "\n",
    "# Transition 1: Agriculture/non-vegetated → Forest/natural (natural regrowth)\n",
    "mask1 = changed_mask & ((suelo_2000_cat == 'Área agropecuaria') | \n",
    "                       (suelo_2000_cat == 'Área sin vegetación')) & \\\n",
    "        ((suelo_2022_cat == 'Vegetación leñosa') | \n",
    "         (suelo_2022_cat == 'Vegetación no leñosa'))\n",
    "transition_map[mask1] = 1\n",
    "\n",
    "# Transition 2: Forest/natural → Agriculture/non-vegetated\n",
    "mask2 = changed_mask & ((suelo_2000_cat == 'Vegetación leñosa') | \n",
    "                       (suelo_2000_cat == 'Vegetación no leñosa')) & \\\n",
    "        ((suelo_2022_cat == 'Área agropecuaria') | \n",
    "         (suelo_2022_cat == 'Área sin vegetación'))\n",
    "transition_map[mask2] = 2\n",
    "\n",
    "# Transition 3: Water gain\n",
    "mask3 = changed_mask & (suelo_2000_cat != 'Cuerpo de agua') & (suelo_2022_cat == 'Cuerpo de agua')\n",
    "transition_map[mask3] = 3\n",
    "\n",
    "# Transition 4: Water loss\n",
    "mask4 = changed_mask & (suelo_2000_cat == 'Cuerpo de agua') & (suelo_2022_cat != 'Cuerpo de agua')\n",
    "transition_map[mask4] = 4\n",
    "\n",
    "# Transition 5: Forest plantation gain (only specific plantation types)\n",
    "mask5 = changed_mask & (suelo_2000_cat == 'Área agropecuaria') & (suelo_2022_cat == 'Vegetación leñosa') & (suelo_2022_values == 9)\n",
    "transition_map[mask5] = 5\n",
    "\n",
    "# Transition 6: Other changes (catch-all for remaining changed pixels)\n",
    "mask6 = changed_mask & (transition_map == 0)\n",
    "transition_map[mask6] = 6\n",
    "\n",
    "# Transition 7: No change\n",
    "transition_map[~changed_mask] = 7\n",
    "\n",
    "# Colors\n",
    "colors = {\n",
    "    0: '#cccccc',  # Unclassified\n",
    "    1: '#06ff00',  # Agriculture → Forest/natural (regeneration)\n",
    "    2: '#ff0000',  # Forest/natural → Agriculture\n",
    "    3: '#0066cc',  # Water gain\n",
    "    4: '#ff6600',  # Water loss\n",
    "    5: '#8a2be2',  # Forest plantation gain\n",
    "    6: '#ffa500',  # Other changes\n",
    "    7: '#aaa9a9'   # No change\n",
    "}\n",
    "\n",
    "labels = {\n",
    "    0: 'No clasificado',\n",
    "    1: 'Agricultura → Forestal/natural',\n",
    "    2: 'Forestal/natural → Agricultura',\n",
    "    3: 'Ganancia de agua',\n",
    "    4: 'Pérdida de agua',\n",
    "    5: 'Ganancia plantación forestal',\n",
    "    6: 'Otros cambios',\n",
    "    7: 'Sin cambio'\n",
    "}\n",
    "\n",
    "# Create colormap\n",
    "cmap = mcolors.ListedColormap([colors[i] for i in sorted(colors.keys())])\n",
    "bounds = sorted(colors.keys())\n",
    "norm = mcolors.BoundaryNorm(bounds, cmap.N)\n",
    "\n",
    "# Plot\n",
    "fig, ax = plt.subplots(figsize=(15, 15))\n",
    "im = ax.imshow(transition_map, cmap=cmap, norm=norm)\n",
    "\n",
    "# Legend\n",
    "legend_elements = [plt.Rectangle((0,0),1,1, facecolor=colors[i], label=labels[i]) \n",
    "                  for i in sorted(colors.keys())]\n",
    "ax.legend(handles=legend_elements, loc='lower center', bbox_to_anchor=(0.5, -0.1), \n",
    "          ncol=2, frameon=False)\n",
    "\n",
    "plt.title('Transiciones de Cobertura del Suelo (2000-2022)')\n",
    "plt.tight_layout()\n",
    "plt.show()"
   ]
  },
  {
   "cell_type": "code",
   "execution_count": null,
   "id": "025361f3",
   "metadata": {},
   "outputs": [],
   "source": [
    "import plotly.graph_objects as go\n",
    "import numpy as np\n",
    "\n",
    "def categorize_pixel_grouped(value, categories):\n",
    "    \"\"\"Convert pixel value to grouped category name\"\"\"\n",
    "    for category, info in categories.items():\n",
    "        if value in info['ids']:\n",
    "            return category\n",
    "    return 'Other'\n",
    "\n",
    "# Convert pixel values to grouped categories\n",
    "suelo_2000_cat = np.vectorize(lambda x: categorize_pixel_grouped(x, categories_grouped))(suelo_2000.values[0])\n",
    "suelo_2022_cat = np.vectorize(lambda x: categorize_pixel_grouped(x, categories_grouped))(suelo_2022.values[0])\n",
    "\n",
    "# Calculate pixel counts for each category\n",
    "unique_2000, counts_2000 = np.unique(suelo_2000_cat, return_counts=True)\n",
    "unique_2022, counts_2022 = np.unique(suelo_2022_cat, return_counts=True)\n",
    "\n",
    "# Filter out 'Other' and get only categories that exist\n",
    "existing_2000 = unique_2000[unique_2000 != 'Other']\n",
    "existing_2022 = unique_2022[unique_2022 != 'Other']\n",
    "\n",
    "# Calculate total pixels\n",
    "total_2000 = sum(counts_2000[unique_2000 != 'Other'])\n",
    "total_2022 = sum(counts_2022[unique_2022 != 'Other'])\n",
    "\n",
    "# Create transition matrix\n",
    "transition_matrix = {}\n",
    "for cat_2000 in existing_2000:\n",
    "    transition_matrix[cat_2000] = {}\n",
    "    mask_2000 = (suelo_2000_cat == cat_2000)\n",
    "    for cat_2022 in existing_2022:\n",
    "        mask_2022 = (suelo_2022_cat == cat_2022)\n",
    "        transition_count = np.sum(mask_2000 & mask_2022)\n",
    "        if transition_count > 0:\n",
    "            transition_matrix[cat_2000][cat_2022] = transition_count\n",
    "\n",
    "# Prepare data for Sankey diagram\n",
    "source = []\n",
    "target = []\n",
    "value = []\n",
    "node_labels = []\n",
    "node_colors = []\n",
    "\n",
    "# Add 2000 categories\n",
    "for cat in existing_2000:\n",
    "    count = counts_2000[unique_2000 == cat][0]\n",
    "    percentage = (count / total_2000) * 100\n",
    "    node_labels.append(f\"{cat}<br>({percentage:.1f}%)\")\n",
    "    node_colors.append(categories_grouped[cat]['color'])\n",
    "\n",
    "# Add 2022 categories\n",
    "for cat in existing_2022:\n",
    "    count = counts_2022[unique_2022 == cat][0]\n",
    "    percentage = (count / total_2022) * 100\n",
    "    node_labels.append(f\"{cat}<br>({percentage:.1f}%)\")\n",
    "    node_colors.append(categories_grouped[cat]['color'])\n",
    "\n",
    "# Create links\n",
    "link_colors = []\n",
    "for cat_2000, transitions in transition_matrix.items():\n",
    "    for cat_2022, count in transitions.items():\n",
    "        source_idx = node_labels.index(f\"{cat_2000}<br>({(counts_2000[unique_2000 == cat_2000][0] / total_2000) * 100:.1f}%)\")\n",
    "        target_idx = node_labels.index(f\"{cat_2022}<br>({(counts_2022[unique_2022 == cat_2022][0] / total_2022) * 100:.1f}%)\")\n",
    "        \n",
    "        source.append(source_idx)\n",
    "        target.append(target_idx)\n",
    "        value.append(count)\n",
    "        link_colors.append(categories_grouped[cat_2000]['color'])\n",
    "\n",
    "# Create Sankey diagram\n",
    "fig = go.Figure(data=[go.Sankey(\n",
    "    node=dict(\n",
    "        pad=15,\n",
    "        thickness=20,\n",
    "        line=dict(color=\"black\", width=0.5),\n",
    "        label=node_labels,\n",
    "        color=node_colors\n",
    "    ),\n",
    "    link=dict(\n",
    "        source=source,\n",
    "        target=target,\n",
    "        value=value,\n",
    "        color=link_colors\n",
    "    )\n",
    ")])\n",
    "\n",
    "fig.update_layout(\n",
    "    title_text=\"Transiciones de Cobertura del Suelo (2000-2022)\",\n",
    "    font_size=12,\n",
    "    width=1000,\n",
    "    height=600\n",
    ")\n",
    "\n",
    "fig.show()"
   ]
  }
 ],
 "metadata": {
  "kernelspec": {
   "display_name": ".venv",
   "language": "python",
   "name": "python3"
  },
  "language_info": {
   "codemirror_mode": {
    "name": "ipython",
    "version": 3
   },
   "file_extension": ".py",
   "mimetype": "text/x-python",
   "name": "python",
   "nbconvert_exporter": "python",
   "pygments_lexer": "ipython3",
   "version": "3.12.3"
  }
 },
 "nbformat": 4,
 "nbformat_minor": 5
}
