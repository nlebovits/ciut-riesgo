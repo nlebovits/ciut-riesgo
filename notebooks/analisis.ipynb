{
 "cells": [
  {
   "cell_type": "code",
   "execution_count": null,
   "metadata": {
    "vscode": {
     "languageId": "plaintext"
    }
   },
   "outputs": [],
   "source": [
    "# import libraries\n",
    "# set up gcfs connection\n",
    "# pull in data\n",
    "# run analysis"
   ]
  },
  {
   "cell_type": "code",
   "execution_count": null,
   "metadata": {
    "vscode": {
     "languageId": "plaintext"
    }
   },
   "outputs": [],
   "source": [
    "# pull in peligrosidad\n",
    "# pull in population data points\n",
    "# pull in vulnerability data points\n",
    "# calculate summary stats per cuenca (will need cuenca data)\n",
    "\n",
    "# OPTIONAL: dasymmetric mapping with GHSL landcover\n",
    "# (choose GHSL because can be combined with historic census data back to 1990)"
   ]
  }
 ],
 "metadata": {
  "language_info": {
   "name": "python"
  }
 },
 "nbformat": 4,
 "nbformat_minor": 2
}
