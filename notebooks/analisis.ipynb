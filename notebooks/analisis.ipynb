{
 "cells": [
  {
   "cell_type": "code",
   "execution_count": null,
   "metadata": {},
   "outputs": [],
   "source": [
    "# import libraries\n",
    "# set up gcfs connection\n",
    "# pull in data\n",
    "# run analysis"
   ]
  },
  {
   "cell_type": "code",
   "execution_count": null,
   "metadata": {},
   "outputs": [],
   "source": [
    "from google.cloud import storage\n",
    "from google.oauth2 import service_account\n",
    "\n",
    "import pandas as pd\n",
    "import geopandas as gpd\n"
   ]
  },
  {
   "cell_type": "code",
   "execution_count": 14,
   "metadata": {},
   "outputs": [
    {
     "name": "stdout",
     "output_type": "stream",
     "text": [
      "Successfully connected to bucket: ciut-tablero\n",
      "\n",
      "Listing first 5 files in the bucket:\n",
      "- 2023/\n",
      "- 2023/MAPAS/LP_Riesgo Hidrico.jpeg\n",
      "- 2023/MAPAS/LP_Riesgo Hidrico.pdf\n",
      "- 2023/MAPAS/LP_Vulnerabilidad-Sintesis.jpeg\n",
      "- 2023/MAPAS/LP_Vulnerabilidad-Sintesis.pdf\n"
     ]
    }
   ],
   "source": [
    "from google.cloud import storage\n",
    "import os\n",
    "\n",
    "# Clear any existing credentials\n",
    "if 'GOOGLE_APPLICATION_CREDENTIALS' in os.environ:\n",
    "    del os.environ['GOOGLE_APPLICATION_CREDENTIALS']\n",
    "\n",
    "# Initialize the client - it will use your user credentials\n",
    "client = storage.Client()\n",
    "\n",
    "# Try to access the bucket\n",
    "bucket_name = \"ciut-tablero\"\n",
    "try:\n",
    "    bucket = client.get_bucket(bucket_name)\n",
    "    print(f\"Successfully connected to bucket: {bucket_name}\")\n",
    "    \n",
    "    # List a few files to verify read access\n",
    "    print(\"\\nListing first 5 files in the bucket:\")\n",
    "    blobs = list(bucket.list_blobs(max_results=5))\n",
    "    for blob in blobs:\n",
    "        print(f\"- {blob.name}\")\n",
    "        \n",
    "except Exception as e:\n",
    "    print(f\"Error accessing bucket: {str(e)}\")"
   ]
  },
  {
   "cell_type": "code",
   "execution_count": null,
   "metadata": {},
   "outputs": [],
   "source": [
    "def get_bucket():\n",
    "    \"\"\"Get the GCP bucket instance\"\"\"\n",
    "    credentials = get_credentials()\n",
    "    client = get_storage_client(credentials)\n",
    "    bucket_name = get_bucket_name()\n",
    "    return client.bucket(bucket_name)\n",
    "\n",
    "def blob_exists(blob_name):\n",
    "    \"\"\"Check if a blob exists in the bucket\"\"\"\n",
    "    bucket = get_bucket()\n",
    "    blob = bucket.blob(blob_name)\n",
    "    return blob.exists()\n",
    "\n",
    "\n",
    "def download_blob(blob_name):\n",
    "    \"\"\"Download a blob from the bucket to a temporary file\"\"\"\n",
    "    bucket = get_bucket()\n",
    "    blob = bucket.blob(blob_name)"
   ]
  },
  {
   "cell_type": "code",
   "execution_count": null,
   "metadata": {},
   "outputs": [],
   "source": [
    "# pull in peligrosidad\n",
    "# pull in population data points\n",
    "# pull in vulnerability data points\n",
    "# calculate summary stats per cuenca (will need cuenca data)\n",
    "\n",
    "# OPTIONAL: dasymmetric mapping with GHSL landcover\n",
    "# (choose GHSL because can be combined with historic census data back to 1990)"
   ]
  }
 ],
 "metadata": {
  "kernelspec": {
   "display_name": ".venv",
   "language": "python",
   "name": "python3"
  },
  "language_info": {
   "codemirror_mode": {
    "name": "ipython",
    "version": 3
   },
   "file_extension": ".py",
   "mimetype": "text/x-python",
   "name": "python",
   "nbconvert_exporter": "python",
   "pygments_lexer": "ipython3",
   "version": "3.12.3"
  }
 },
 "nbformat": 4,
 "nbformat_minor": 2
}
