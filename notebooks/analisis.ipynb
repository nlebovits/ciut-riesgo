{
 "cells": [
  {
   "cell_type": "code",
   "execution_count": null,
   "metadata": {},
   "outputs": [],
   "source": [
    "# import libraries\n",
    "# set up gcfs connection\n",
    "# pull in data\n",
    "# run analysis"
   ]
  },
  {
   "cell_type": "code",
   "execution_count": 14,
   "metadata": {},
   "outputs": [],
   "source": [
    "from google.cloud import storage\n",
    "from google.oauth2 import service_account\n",
    "\n",
    "import geopandas as gpd\n",
    "import os\n",
    "from pathlib import Path\n",
    "from io import BytesIO"
   ]
  },
  {
   "cell_type": "code",
   "execution_count": 10,
   "metadata": {},
   "outputs": [],
   "source": [
    "# Set up credentials using pathlib\n",
    "credentials_path = Path.cwd().parent / \"credentials\" / \"service-acount-key.json\"\n",
    "os.environ[\"GOOGLE_APPLICATION_CREDENTIALS\"] = str(credentials_path)\n",
    "\n",
    "# Initialize client with explicit credentials and project\n",
    "credentials = service_account.Credentials.from_service_account_file(\n",
    "    str(credentials_path)\n",
    ")\n",
    "client = storage.Client(credentials=credentials, project=\"ee-ciut\")\n",
    "\n",
    "# Work directly with the bucket name\n",
    "bucket_name = \"ciut-tablero\"\n",
    "bucket = client.bucket(bucket_name)"
   ]
  },
  {
   "cell_type": "code",
   "execution_count": null,
   "metadata": {},
   "outputs": [
    {
     "name": "stdout",
     "output_type": "stream",
     "text": [
      "Listing objects in ciut-tablero:\n",
      "- 2023/\n",
      "- 2023/MAPAS/LP_Riesgo Hidrico.jpeg\n",
      "- 2023/MAPAS/LP_Riesgo Hidrico.pdf\n",
      "- 2023/MAPAS/LP_Vulnerabilidad-Sintesis.jpeg\n",
      "- 2023/MAPAS/LP_Vulnerabilidad-Sintesis.pdf\n",
      "- 2023/MAPAS/Vulnerabilidad-Exposicion-Riesgo_Noviembre 23/Imagen/LP_Exposicion.jpeg\n",
      "- 2023/MAPAS/Vulnerabilidad-Exposicion-Riesgo_Noviembre 23/Imagen/LP_Riesgo.jpeg\n",
      "- 2023/MAPAS/Vulnerabilidad-Exposicion-Riesgo_Noviembre 23/Imagen/LP_Vulnerabilidad ambiental.jpeg\n",
      "- 2023/MAPAS/Vulnerabilidad-Exposicion-Riesgo_Noviembre 23/Imagen/LP_Vulnerabilidad socieconomica.jpeg\n",
      "- 2023/MAPAS/Vulnerabilidad-Exposicion-Riesgo_Noviembre 23/Imagen/LP_Vulnerabilidad.jpeg\n"
     ]
    }
   ],
   "source": [
    "# List objects in the bucket\n",
    "print(f\"Listing objects in {bucket_name}:\")\n",
    "blobs = list(bucket.list_blobs(max_results=10))\n",
    "for blob in blobs:\n",
    "    print(f\"- {blob.name}\")"
   ]
  },
  {
   "cell_type": "code",
   "execution_count": 12,
   "metadata": {},
   "outputs": [
    {
     "name": "stdout",
     "output_type": "stream",
     "text": [
      "Searching for GIS files in 2024/...\n",
      "\n",
      "Found GIS files:\n",
      "- 2024/R25_Riesgo_Rural.geojson\n",
      "- 2024/R25_Riesgo_Urbano.geojson\n",
      "- 2024/Resultados ingenieria_mayo 24/Resultados/shapes/Cuenca_Maldonado_v9b_smooth5.shp\n",
      "- 2024/Resultados ingenieria_mayo 24/Resultados/shapes/Dominio_2.shp\n",
      "- 2024/Resultados ingenieria_mayo 24/Resultados/shapes/H_100_cauces.shp\n",
      "- 2024/Resultados ingenieria_mayo 24/Resultados/shapes/H_25_cauces.shp\n",
      "- 2024/Resultados ingenieria_mayo 24/Resultados/shapes/S_100_cauces.shp\n",
      "- 2024/Resultados ingenieria_mayo 24/Resultados/shapes/S_25_cauces.shp\n",
      "- 2024/archivos en JSON/JSON_Anteriores/R100_Riesgo_Rural.geojson\n",
      "- 2024/archivos en JSON/JSON_Anteriores/R100_Riesgo_Urbano.geojson\n",
      "- 2024/archivos en JSON/JSON_Anteriores/R100_peligrosidad.geojson\n",
      "- 2024/archivos en JSON/JSON_Anteriores/R100_riesgo.geojson\n",
      "- 2024/archivos en JSON/JSON_Anteriores/R25_peligrosidad.geojson\n",
      "- 2024/archivos en JSON/JSON_Anteriores/R25_riesgo.geojson\n"
     ]
    }
   ],
   "source": [
    "# List all blobs in the 2024 directory\n",
    "prefix = \"2024/\"\n",
    "print(f\"Searching for GIS files in {prefix}...\")\n",
    "\n",
    "# Get all blobs with the prefix\n",
    "blobs = bucket.list_blobs(prefix=prefix)\n",
    "\n",
    "# Filter for GIS files\n",
    "gis_files = []\n",
    "for blob in blobs:\n",
    "    if blob.name.lower().endswith((\".shp\", \".geojson\", \".json\")):\n",
    "        gis_files.append(blob.name)\n",
    "\n",
    "# Print results\n",
    "if gis_files:\n",
    "    print(\"\\nFound GIS files:\")\n",
    "    for file in gis_files:\n",
    "        print(f\"- {file}\")\n",
    "else:\n",
    "    print(\"\\nNo GIS files found in 2024 directory\")"
   ]
  },
  {
   "cell_type": "code",
   "execution_count": 15,
   "metadata": {},
   "outputs": [],
   "source": [
    "# Load the riesgo rural data\n",
    "riesgo_rural_blob = bucket.blob(\"2024/R25_Riesgo_Rural.geojson\")\n",
    "riesgo_rural_content = riesgo_rural_blob.download_as_bytes()\n",
    "riesgo_rural = gpd.read_file(BytesIO(riesgo_rural_content))"
   ]
  },
  {
   "cell_type": "code",
   "execution_count": 16,
   "metadata": {},
   "outputs": [
    {
     "data": {
      "text/html": [
       "<div>\n",
       "<style scoped>\n",
       "    .dataframe tbody tr th:only-of-type {\n",
       "        vertical-align: middle;\n",
       "    }\n",
       "\n",
       "    .dataframe tbody tr th {\n",
       "        vertical-align: top;\n",
       "    }\n",
       "\n",
       "    .dataframe thead th {\n",
       "        text-align: right;\n",
       "    }\n",
       "</style>\n",
       "<table border=\"1\" class=\"dataframe\">\n",
       "  <thead>\n",
       "    <tr style=\"text-align: right;\">\n",
       "      <th></th>\n",
       "      <th>fid</th>\n",
       "      <th>link</th>\n",
       "      <th>PROV</th>\n",
       "      <th>DEPTO</th>\n",
       "      <th>CODLOC</th>\n",
       "      <th>FRAC</th>\n",
       "      <th>RADIO</th>\n",
       "      <th>MZA</th>\n",
       "      <th>ambiental</th>\n",
       "      <th>fisica</th>\n",
       "      <th>socioeco</th>\n",
       "      <th>exposicion</th>\n",
       "      <th>vulnerab</th>\n",
       "      <th>densidad</th>\n",
       "      <th>peli</th>\n",
       "      <th>riesgo</th>\n",
       "      <th>geometry</th>\n",
       "    </tr>\n",
       "  </thead>\n",
       "  <tbody>\n",
       "    <tr>\n",
       "      <th>0</th>\n",
       "      <td>1</td>\n",
       "      <td>064414111</td>\n",
       "      <td>06</td>\n",
       "      <td>441</td>\n",
       "      <td>441</td>\n",
       "      <td>41</td>\n",
       "      <td>11</td>\n",
       "      <td>006</td>\n",
       "      <td>1</td>\n",
       "      <td>0</td>\n",
       "      <td>0</td>\n",
       "      <td>1</td>\n",
       "      <td>2</td>\n",
       "      <td>0.88</td>\n",
       "      <td>Muy Bajo o Nulo</td>\n",
       "      <td>Bajo</td>\n",
       "      <td>MULTIPOLYGON (((6411861.621 6128538.962, 64117...</td>\n",
       "    </tr>\n",
       "    <tr>\n",
       "      <th>1</th>\n",
       "      <td>2</td>\n",
       "      <td>064414111</td>\n",
       "      <td>06</td>\n",
       "      <td>441</td>\n",
       "      <td>441</td>\n",
       "      <td>41</td>\n",
       "      <td>11</td>\n",
       "      <td>005</td>\n",
       "      <td>1</td>\n",
       "      <td>0</td>\n",
       "      <td>0</td>\n",
       "      <td>1</td>\n",
       "      <td>2</td>\n",
       "      <td>0.88</td>\n",
       "      <td>Muy Bajo o Nulo</td>\n",
       "      <td>Bajo</td>\n",
       "      <td>MULTIPOLYGON (((6411729.336 6128678.183, 64117...</td>\n",
       "    </tr>\n",
       "    <tr>\n",
       "      <th>2</th>\n",
       "      <td>3</td>\n",
       "      <td>064414111</td>\n",
       "      <td>06</td>\n",
       "      <td>441</td>\n",
       "      <td>441</td>\n",
       "      <td>41</td>\n",
       "      <td>11</td>\n",
       "      <td>007</td>\n",
       "      <td>1</td>\n",
       "      <td>0</td>\n",
       "      <td>0</td>\n",
       "      <td>1</td>\n",
       "      <td>2</td>\n",
       "      <td>0.88</td>\n",
       "      <td>Muy Bajo o Nulo</td>\n",
       "      <td>Bajo</td>\n",
       "      <td>MULTIPOLYGON (((6411841.116 6128517.533, 64118...</td>\n",
       "    </tr>\n",
       "    <tr>\n",
       "      <th>3</th>\n",
       "      <td>4</td>\n",
       "      <td>064414111</td>\n",
       "      <td>06</td>\n",
       "      <td>441</td>\n",
       "      <td>441</td>\n",
       "      <td>41</td>\n",
       "      <td>11</td>\n",
       "      <td>003</td>\n",
       "      <td>1</td>\n",
       "      <td>0</td>\n",
       "      <td>0</td>\n",
       "      <td>1</td>\n",
       "      <td>2</td>\n",
       "      <td>0.88</td>\n",
       "      <td>Muy Bajo o Nulo</td>\n",
       "      <td>Bajo</td>\n",
       "      <td>MULTIPOLYGON (((6411534.911 6129308.313, 64115...</td>\n",
       "    </tr>\n",
       "    <tr>\n",
       "      <th>4</th>\n",
       "      <td>5</td>\n",
       "      <td>064414111</td>\n",
       "      <td>06</td>\n",
       "      <td>441</td>\n",
       "      <td>441</td>\n",
       "      <td>41</td>\n",
       "      <td>11</td>\n",
       "      <td>005</td>\n",
       "      <td>1</td>\n",
       "      <td>0</td>\n",
       "      <td>0</td>\n",
       "      <td>1</td>\n",
       "      <td>2</td>\n",
       "      <td>0.88</td>\n",
       "      <td>Muy Bajo o Nulo</td>\n",
       "      <td>Bajo</td>\n",
       "      <td>MULTIPOLYGON (((6411569.073 6128799.481, 64118...</td>\n",
       "    </tr>\n",
       "  </tbody>\n",
       "</table>\n",
       "</div>"
      ],
      "text/plain": [
       "   fid       link PROV DEPTO CODLOC FRAC RADIO  MZA  ambiental  fisica  \\\n",
       "0    1  064414111   06   441    441   41    11  006          1       0   \n",
       "1    2  064414111   06   441    441   41    11  005          1       0   \n",
       "2    3  064414111   06   441    441   41    11  007          1       0   \n",
       "3    4  064414111   06   441    441   41    11  003          1       0   \n",
       "4    5  064414111   06   441    441   41    11  005          1       0   \n",
       "\n",
       "   socioeco  exposicion  vulnerab  densidad             peli riesgo  \\\n",
       "0         0           1         2      0.88  Muy Bajo o Nulo   Bajo   \n",
       "1         0           1         2      0.88  Muy Bajo o Nulo   Bajo   \n",
       "2         0           1         2      0.88  Muy Bajo o Nulo   Bajo   \n",
       "3         0           1         2      0.88  Muy Bajo o Nulo   Bajo   \n",
       "4         0           1         2      0.88  Muy Bajo o Nulo   Bajo   \n",
       "\n",
       "                                            geometry  \n",
       "0  MULTIPOLYGON (((6411861.621 6128538.962, 64117...  \n",
       "1  MULTIPOLYGON (((6411729.336 6128678.183, 64117...  \n",
       "2  MULTIPOLYGON (((6411841.116 6128517.533, 64118...  \n",
       "3  MULTIPOLYGON (((6411534.911 6129308.313, 64115...  \n",
       "4  MULTIPOLYGON (((6411569.073 6128799.481, 64118...  "
      ]
     },
     "execution_count": 16,
     "metadata": {},
     "output_type": "execute_result"
    }
   ],
   "source": [
    "riesgo_rural.head()"
   ]
  },
  {
   "cell_type": "code",
   "execution_count": 17,
   "metadata": {},
   "outputs": [
    {
     "data": {
      "text/plain": [
       "<Axes: >"
      ]
     },
     "execution_count": 17,
     "metadata": {},
     "output_type": "execute_result"
    },
    {
     "data": {
      "image/png": "[encoded data removed]",
      "text/plain": [
       "<Figure size 640x480 with 1 Axes>"
      ]
     },
     "metadata": {},
     "output_type": "display_data"
    }
   ],
   "source": [
    "riesgo_rural.plot(\"riesgo\")"
   ]
  },
  {
   "cell_type": "code",
   "execution_count": null,
   "metadata": {},
   "outputs": [],
   "source": [
    "# pull in peligrosidad\n",
    "# pull in population data points\n",
    "# pull in vulnerability data points\n",
    "# calculate summary stats per cuenca (will need cuenca data)\n",
    "\n",
    "# OPTIONAL: dasymmetric mapping with GHSL landcover\n",
    "# (choose GHSL because can be combined with historic census data back to 1990)"
   ]
  }
 ],
 "metadata": {
  "kernelspec": {
   "display_name": ".venv",
   "language": "python",
   "name": "python3"
  },
  "language_info": {
   "codemirror_mode": {
    "name": "ipython",
    "version": 3
   },
   "file_extension": ".py",
   "mimetype": "text/x-python",
   "name": "python",
   "nbconvert_exporter": "python",
   "pygments_lexer": "ipython3",
   "version": "3.12.3"
  }
 },
 "nbformat": 4,
 "nbformat_minor": 2
}
