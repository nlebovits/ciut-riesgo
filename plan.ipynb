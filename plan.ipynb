{
 "cells": [
  {
   "cell_type": "markdown",
   "id": "44fe5554",
   "metadata": {},
   "source": [
    "## Lista de datos necesarios"
   ]
  },
  {
   "cell_type": "code",
   "execution_count": null,
   "id": "f941bbc2",
   "metadata": {},
   "outputs": [],
   "source": [
    "# datos que necesitamos:\n",
    "    # datos censales de redatam\n",
    "# Preparar shapefile de radios censales\n",
    "# Modelación hidrológica\n",
    "# limite de cuencas\n",
    "# Equipamientos\n",
    "# Barrios ReNaBap o RPPVA\n"
   ]
  },
  {
   "cell_type": "markdown",
   "id": "ca8710c2",
   "metadata": {},
   "source": [
    "## Pasos del procesamiento"
   ]
  },
  {
   "cell_type": "code",
   "execution_count": null,
   "id": "f468bec1",
   "metadata": {},
   "outputs": [],
   "source": [
    "## Generar el proyecto en QGis\n",
    "## Añadir la capa de radios y ajustar el sistema de proyeccion a POSGAR Faja 5\n",
    "## Limpiar la tabla de atributos\n",
    "## Generar el atributo \"link\"\n",
    "## Utilizar \"join\" para pegar los datos censales a la capa de radios\n",
    "## Clasificacion de niveles de las vulnerabilidades\n",
    "## Cruce de vulnerabilidades para obtener la vulnerabilidad general\n",
    "## procesamiento de superposición para obtener el riesgo a partir de la peligrosidad paraa obtener los niveles de riesgo\n",
    "## Aplicar simbología de categorizacion para obtener el mapa de color\n",
    "## Calcular areas por cuenca y por niveles de riesgo y vulnerabilidad\n",
    "## Generar el diseño de implesión\n",
    "## Exportar mapas en .pdf y .jpg en tamaño A3\n"
   ]
  },
  {
   "cell_type": "markdown",
   "id": "18f5e44f",
   "metadata": {},
   "source": [
    "## Lista de productos finales"
   ]
  },
  {
   "cell_type": "code",
   "execution_count": null,
   "id": "8f1f9484",
   "metadata": {},
   "outputs": [],
   "source": [
    "# Mapa de vulnerabilidad general\n",
    "# Mapa de riesgo\n",
    "# Mapa de vulnerabilidad fisica\n",
    "# Mapa de vulnerabilidad ambiental\n",
    "# Mapa de vulnerabilidad socioeconomica\n",
    "# Mapa de exposicion\n",
    "# cuantificacion de resultados"
   ]
  }
 ],
 "metadata": {
  "kernelspec": {
   "display_name": ".venv",
   "language": "python",
   "name": "python3"
  },
  "language_info": {
   "name": "python",
   "version": "3.12.1"
  }
 },
 "nbformat": 4,
 "nbformat_minor": 5
}
