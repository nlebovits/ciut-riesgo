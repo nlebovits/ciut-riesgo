{
 "cells": [
  {
   "cell_type": "code",
   "execution_count": null,
   "id": "f941bbc2",
   "metadata": {},
   "outputs": [],
   "source": [
    "# datos que necesitamos:\n",
    "    # datos censales de redatam\n",
    "# Preparar shapefile de radios censales\n",
    "# Modelación hidrológica\n",
    "# limite de cuencas\n",
    "# Equipamientos\n",
    "# Barrios ReNaBap o RPPVA\n"
   ]
  }
 ],
 "metadata": {
  "kernelspec": {
   "display_name": ".venv",
   "language": "python",
   "name": "python3"
  },
  "language_info": {
   "name": "python",
   "version": "3.12.1"
  }
 },
 "nbformat": 4,
 "nbformat_minor": 5
}
